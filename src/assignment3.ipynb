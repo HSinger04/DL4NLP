{
  "nbformat": 4,
  "nbformat_minor": 0,
  "metadata": {
    "accelerator": "GPU",
    "colab": {
      "name": "assignment3.ipynb",
      "provenance": [],
      "collapsed_sections": []
    },
    "kernelspec": {
      "display_name": "Python 3",
      "language": "python",
      "name": "python3"
    },
    "language_info": {
      "codemirror_mode": {
        "name": "ipython",
        "version": 3
      },
      "file_extension": ".py",
      "mimetype": "text/x-python",
      "name": "python",
      "nbconvert_exporter": "python",
      "pygments_lexer": "ipython3",
      "version": "3.7.3"
    },
    "widgets": {
      "application/vnd.jupyter.widget-state+json": {
        "a0f182aebdf04eb583a976175a6d84a8": {
          "model_module": "@jupyter-widgets/controls",
          "model_name": "HBoxModel",
          "state": {
            "_view_name": "HBoxView",
            "_dom_classes": [],
            "_model_name": "HBoxModel",
            "_view_module": "@jupyter-widgets/controls",
            "_model_module_version": "1.5.0",
            "_view_count": null,
            "_view_module_version": "1.5.0",
            "box_style": "",
            "layout": "IPY_MODEL_d32b0f36ea2a4ec192ba337411606fa7",
            "_model_module": "@jupyter-widgets/controls",
            "children": [
              "IPY_MODEL_46cb0d42671243108107a53f6b40e4dd",
              "IPY_MODEL_08c9c4eb527d4101854926161ce9fe2f"
            ]
          }
        },
        "d32b0f36ea2a4ec192ba337411606fa7": {
          "model_module": "@jupyter-widgets/base",
          "model_name": "LayoutModel",
          "state": {
            "_view_name": "LayoutView",
            "grid_template_rows": null,
            "right": null,
            "justify_content": null,
            "_view_module": "@jupyter-widgets/base",
            "overflow": null,
            "_model_module_version": "1.2.0",
            "_view_count": null,
            "flex_flow": null,
            "width": null,
            "min_width": null,
            "border": null,
            "align_items": null,
            "bottom": null,
            "_model_module": "@jupyter-widgets/base",
            "top": null,
            "grid_column": null,
            "overflow_y": null,
            "overflow_x": null,
            "grid_auto_flow": null,
            "grid_area": null,
            "grid_template_columns": null,
            "flex": null,
            "_model_name": "LayoutModel",
            "justify_items": null,
            "grid_row": null,
            "max_height": null,
            "align_content": null,
            "visibility": null,
            "align_self": null,
            "height": null,
            "min_height": null,
            "padding": null,
            "grid_auto_rows": null,
            "grid_gap": null,
            "max_width": null,
            "order": null,
            "_view_module_version": "1.2.0",
            "grid_template_areas": null,
            "object_position": null,
            "object_fit": null,
            "grid_auto_columns": null,
            "margin": null,
            "display": null,
            "left": null
          }
        },
        "46cb0d42671243108107a53f6b40e4dd": {
          "model_module": "@jupyter-widgets/controls",
          "model_name": "FloatProgressModel",
          "state": {
            "_view_name": "ProgressView",
            "style": "IPY_MODEL_02e28b5fdad54265950e3397c55669bf",
            "_dom_classes": [],
            "description": "100%",
            "_model_name": "FloatProgressModel",
            "bar_style": "success",
            "max": 1246263,
            "_view_module": "@jupyter-widgets/controls",
            "_model_module_version": "1.5.0",
            "value": 1246263,
            "_view_count": null,
            "_view_module_version": "1.5.0",
            "orientation": "horizontal",
            "min": 0,
            "description_tooltip": null,
            "_model_module": "@jupyter-widgets/controls",
            "layout": "IPY_MODEL_937772d1c1144bdf919b99b2b4029bc6"
          }
        },
        "08c9c4eb527d4101854926161ce9fe2f": {
          "model_module": "@jupyter-widgets/controls",
          "model_name": "HTMLModel",
          "state": {
            "_view_name": "HTMLView",
            "style": "IPY_MODEL_0424f94e3cae454b8508b4d5c07a814e",
            "_dom_classes": [],
            "description": "",
            "_model_name": "HTMLModel",
            "placeholder": "​",
            "_view_module": "@jupyter-widgets/controls",
            "_model_module_version": "1.5.0",
            "value": " 1246263/1246263 [00:16&lt;00:00, 74460.67it/s]",
            "_view_count": null,
            "_view_module_version": "1.5.0",
            "description_tooltip": null,
            "_model_module": "@jupyter-widgets/controls",
            "layout": "IPY_MODEL_ea8ced0bdffc4da7b81bcf3bf03ccf1e"
          }
        },
        "02e28b5fdad54265950e3397c55669bf": {
          "model_module": "@jupyter-widgets/controls",
          "model_name": "ProgressStyleModel",
          "state": {
            "_view_name": "StyleView",
            "_model_name": "ProgressStyleModel",
            "description_width": "initial",
            "_view_module": "@jupyter-widgets/base",
            "_model_module_version": "1.5.0",
            "_view_count": null,
            "_view_module_version": "1.2.0",
            "bar_color": null,
            "_model_module": "@jupyter-widgets/controls"
          }
        },
        "937772d1c1144bdf919b99b2b4029bc6": {
          "model_module": "@jupyter-widgets/base",
          "model_name": "LayoutModel",
          "state": {
            "_view_name": "LayoutView",
            "grid_template_rows": null,
            "right": null,
            "justify_content": null,
            "_view_module": "@jupyter-widgets/base",
            "overflow": null,
            "_model_module_version": "1.2.0",
            "_view_count": null,
            "flex_flow": null,
            "width": null,
            "min_width": null,
            "border": null,
            "align_items": null,
            "bottom": null,
            "_model_module": "@jupyter-widgets/base",
            "top": null,
            "grid_column": null,
            "overflow_y": null,
            "overflow_x": null,
            "grid_auto_flow": null,
            "grid_area": null,
            "grid_template_columns": null,
            "flex": null,
            "_model_name": "LayoutModel",
            "justify_items": null,
            "grid_row": null,
            "max_height": null,
            "align_content": null,
            "visibility": null,
            "align_self": null,
            "height": null,
            "min_height": null,
            "padding": null,
            "grid_auto_rows": null,
            "grid_gap": null,
            "max_width": null,
            "order": null,
            "_view_module_version": "1.2.0",
            "grid_template_areas": null,
            "object_position": null,
            "object_fit": null,
            "grid_auto_columns": null,
            "margin": null,
            "display": null,
            "left": null
          }
        },
        "0424f94e3cae454b8508b4d5c07a814e": {
          "model_module": "@jupyter-widgets/controls",
          "model_name": "DescriptionStyleModel",
          "state": {
            "_view_name": "StyleView",
            "_model_name": "DescriptionStyleModel",
            "description_width": "",
            "_view_module": "@jupyter-widgets/base",
            "_model_module_version": "1.5.0",
            "_view_count": null,
            "_view_module_version": "1.2.0",
            "_model_module": "@jupyter-widgets/controls"
          }
        },
        "ea8ced0bdffc4da7b81bcf3bf03ccf1e": {
          "model_module": "@jupyter-widgets/base",
          "model_name": "LayoutModel",
          "state": {
            "_view_name": "LayoutView",
            "grid_template_rows": null,
            "right": null,
            "justify_content": null,
            "_view_module": "@jupyter-widgets/base",
            "overflow": null,
            "_model_module_version": "1.2.0",
            "_view_count": null,
            "flex_flow": null,
            "width": null,
            "min_width": null,
            "border": null,
            "align_items": null,
            "bottom": null,
            "_model_module": "@jupyter-widgets/base",
            "top": null,
            "grid_column": null,
            "overflow_y": null,
            "overflow_x": null,
            "grid_auto_flow": null,
            "grid_area": null,
            "grid_template_columns": null,
            "flex": null,
            "_model_name": "LayoutModel",
            "justify_items": null,
            "grid_row": null,
            "max_height": null,
            "align_content": null,
            "visibility": null,
            "align_self": null,
            "height": null,
            "min_height": null,
            "padding": null,
            "grid_auto_rows": null,
            "grid_gap": null,
            "max_width": null,
            "order": null,
            "_view_module_version": "1.2.0",
            "grid_template_areas": null,
            "object_position": null,
            "object_fit": null,
            "grid_auto_columns": null,
            "margin": null,
            "display": null,
            "left": null
          }
        },
        "2cdfc7511a5946faa527a6e068d1d42f": {
          "model_module": "@jupyter-widgets/controls",
          "model_name": "HBoxModel",
          "state": {
            "_view_name": "HBoxView",
            "_dom_classes": [],
            "_model_name": "HBoxModel",
            "_view_module": "@jupyter-widgets/controls",
            "_model_module_version": "1.5.0",
            "_view_count": null,
            "_view_module_version": "1.5.0",
            "box_style": "",
            "layout": "IPY_MODEL_27a8661e3e7c462da8031cd37ad3e9a6",
            "_model_module": "@jupyter-widgets/controls",
            "children": [
              "IPY_MODEL_0f67188e3c5f414f899e467c750911a2",
              "IPY_MODEL_976ee125587e4599a8d5c229b463efbb"
            ]
          }
        },
        "27a8661e3e7c462da8031cd37ad3e9a6": {
          "model_module": "@jupyter-widgets/base",
          "model_name": "LayoutModel",
          "state": {
            "_view_name": "LayoutView",
            "grid_template_rows": null,
            "right": null,
            "justify_content": null,
            "_view_module": "@jupyter-widgets/base",
            "overflow": null,
            "_model_module_version": "1.2.0",
            "_view_count": null,
            "flex_flow": null,
            "width": null,
            "min_width": null,
            "border": null,
            "align_items": null,
            "bottom": null,
            "_model_module": "@jupyter-widgets/base",
            "top": null,
            "grid_column": null,
            "overflow_y": null,
            "overflow_x": null,
            "grid_auto_flow": null,
            "grid_area": null,
            "grid_template_columns": null,
            "flex": null,
            "_model_name": "LayoutModel",
            "justify_items": null,
            "grid_row": null,
            "max_height": null,
            "align_content": null,
            "visibility": null,
            "align_self": null,
            "height": null,
            "min_height": null,
            "padding": null,
            "grid_auto_rows": null,
            "grid_gap": null,
            "max_width": null,
            "order": null,
            "_view_module_version": "1.2.0",
            "grid_template_areas": null,
            "object_position": null,
            "object_fit": null,
            "grid_auto_columns": null,
            "margin": null,
            "display": null,
            "left": null
          }
        },
        "0f67188e3c5f414f899e467c750911a2": {
          "model_module": "@jupyter-widgets/controls",
          "model_name": "FloatProgressModel",
          "state": {
            "_view_name": "ProgressView",
            "style": "IPY_MODEL_0ad739328b5a4bc784f58d5097bb180e",
            "_dom_classes": [],
            "description": " 90%",
            "_model_name": "FloatProgressModel",
            "bar_style": "danger",
            "max": 1228546,
            "_view_module": "@jupyter-widgets/controls",
            "_model_module_version": "1.5.0",
            "value": 1104832,
            "_view_count": null,
            "_view_module_version": "1.5.0",
            "orientation": "horizontal",
            "min": 0,
            "description_tooltip": null,
            "_model_module": "@jupyter-widgets/controls",
            "layout": "IPY_MODEL_a61b3c46af5247678ccb609c42e0e4c3"
          }
        },
        "976ee125587e4599a8d5c229b463efbb": {
          "model_module": "@jupyter-widgets/controls",
          "model_name": "HTMLModel",
          "state": {
            "_view_name": "HTMLView",
            "style": "IPY_MODEL_39f9e2f57d7e45fa92f4723537dcfc32",
            "_dom_classes": [],
            "description": "",
            "_model_name": "HTMLModel",
            "placeholder": "​",
            "_view_module": "@jupyter-widgets/controls",
            "_model_module_version": "1.5.0",
            "value": " 1104832/1228546 [10:13&lt;00:01, 102389.28it/s]",
            "_view_count": null,
            "_view_module_version": "1.5.0",
            "description_tooltip": null,
            "_model_module": "@jupyter-widgets/controls",
            "layout": "IPY_MODEL_eedb2af9f1ca4500b3b2a74ca1b57cde"
          }
        },
        "0ad739328b5a4bc784f58d5097bb180e": {
          "model_module": "@jupyter-widgets/controls",
          "model_name": "ProgressStyleModel",
          "state": {
            "_view_name": "StyleView",
            "_model_name": "ProgressStyleModel",
            "description_width": "initial",
            "_view_module": "@jupyter-widgets/base",
            "_model_module_version": "1.5.0",
            "_view_count": null,
            "_view_module_version": "1.2.0",
            "bar_color": null,
            "_model_module": "@jupyter-widgets/controls"
          }
        },
        "a61b3c46af5247678ccb609c42e0e4c3": {
          "model_module": "@jupyter-widgets/base",
          "model_name": "LayoutModel",
          "state": {
            "_view_name": "LayoutView",
            "grid_template_rows": null,
            "right": null,
            "justify_content": null,
            "_view_module": "@jupyter-widgets/base",
            "overflow": null,
            "_model_module_version": "1.2.0",
            "_view_count": null,
            "flex_flow": null,
            "width": null,
            "min_width": null,
            "border": null,
            "align_items": null,
            "bottom": null,
            "_model_module": "@jupyter-widgets/base",
            "top": null,
            "grid_column": null,
            "overflow_y": null,
            "overflow_x": null,
            "grid_auto_flow": null,
            "grid_area": null,
            "grid_template_columns": null,
            "flex": null,
            "_model_name": "LayoutModel",
            "justify_items": null,
            "grid_row": null,
            "max_height": null,
            "align_content": null,
            "visibility": null,
            "align_self": null,
            "height": null,
            "min_height": null,
            "padding": null,
            "grid_auto_rows": null,
            "grid_gap": null,
            "max_width": null,
            "order": null,
            "_view_module_version": "1.2.0",
            "grid_template_areas": null,
            "object_position": null,
            "object_fit": null,
            "grid_auto_columns": null,
            "margin": null,
            "display": null,
            "left": null
          }
        },
        "39f9e2f57d7e45fa92f4723537dcfc32": {
          "model_module": "@jupyter-widgets/controls",
          "model_name": "DescriptionStyleModel",
          "state": {
            "_view_name": "StyleView",
            "_model_name": "DescriptionStyleModel",
            "description_width": "",
            "_view_module": "@jupyter-widgets/base",
            "_model_module_version": "1.5.0",
            "_view_count": null,
            "_view_module_version": "1.2.0",
            "_model_module": "@jupyter-widgets/controls"
          }
        },
        "eedb2af9f1ca4500b3b2a74ca1b57cde": {
          "model_module": "@jupyter-widgets/base",
          "model_name": "LayoutModel",
          "state": {
            "_view_name": "LayoutView",
            "grid_template_rows": null,
            "right": null,
            "justify_content": null,
            "_view_module": "@jupyter-widgets/base",
            "overflow": null,
            "_model_module_version": "1.2.0",
            "_view_count": null,
            "flex_flow": null,
            "width": null,
            "min_width": null,
            "border": null,
            "align_items": null,
            "bottom": null,
            "_model_module": "@jupyter-widgets/base",
            "top": null,
            "grid_column": null,
            "overflow_y": null,
            "overflow_x": null,
            "grid_auto_flow": null,
            "grid_area": null,
            "grid_template_columns": null,
            "flex": null,
            "_model_name": "LayoutModel",
            "justify_items": null,
            "grid_row": null,
            "max_height": null,
            "align_content": null,
            "visibility": null,
            "align_self": null,
            "height": null,
            "min_height": null,
            "padding": null,
            "grid_auto_rows": null,
            "grid_gap": null,
            "max_width": null,
            "order": null,
            "_view_module_version": "1.2.0",
            "grid_template_areas": null,
            "object_position": null,
            "object_fit": null,
            "grid_auto_columns": null,
            "margin": null,
            "display": null,
            "left": null
          }
        },
        "d36dff4dd80447d6a211239c3ce3a4db": {
          "model_module": "@jupyter-widgets/controls",
          "model_name": "HBoxModel",
          "state": {
            "_view_name": "HBoxView",
            "_dom_classes": [],
            "_model_name": "HBoxModel",
            "_view_module": "@jupyter-widgets/controls",
            "_model_module_version": "1.5.0",
            "_view_count": null,
            "_view_module_version": "1.5.0",
            "box_style": "",
            "layout": "IPY_MODEL_38f557326ddd44b09e6f76fcb9b4b4c9",
            "_model_module": "@jupyter-widgets/controls",
            "children": [
              "IPY_MODEL_ae9c26ff565a4b589548fae81cf0d926",
              "IPY_MODEL_1d0181d116a74e35b036444334de9524"
            ]
          }
        },
        "38f557326ddd44b09e6f76fcb9b4b4c9": {
          "model_module": "@jupyter-widgets/base",
          "model_name": "LayoutModel",
          "state": {
            "_view_name": "LayoutView",
            "grid_template_rows": null,
            "right": null,
            "justify_content": null,
            "_view_module": "@jupyter-widgets/base",
            "overflow": null,
            "_model_module_version": "1.2.0",
            "_view_count": null,
            "flex_flow": null,
            "width": null,
            "min_width": null,
            "border": null,
            "align_items": null,
            "bottom": null,
            "_model_module": "@jupyter-widgets/base",
            "top": null,
            "grid_column": null,
            "overflow_y": null,
            "overflow_x": null,
            "grid_auto_flow": null,
            "grid_area": null,
            "grid_template_columns": null,
            "flex": null,
            "_model_name": "LayoutModel",
            "justify_items": null,
            "grid_row": null,
            "max_height": null,
            "align_content": null,
            "visibility": null,
            "align_self": null,
            "height": null,
            "min_height": null,
            "padding": null,
            "grid_auto_rows": null,
            "grid_gap": null,
            "max_width": null,
            "order": null,
            "_view_module_version": "1.2.0",
            "grid_template_areas": null,
            "object_position": null,
            "object_fit": null,
            "grid_auto_columns": null,
            "margin": null,
            "display": null,
            "left": null
          }
        },
        "ae9c26ff565a4b589548fae81cf0d926": {
          "model_module": "@jupyter-widgets/controls",
          "model_name": "FloatProgressModel",
          "state": {
            "_view_name": "ProgressView",
            "style": "IPY_MODEL_1a795c2aaa944466a620a26fc30cb7e6",
            "_dom_classes": [],
            "description": "  0%",
            "_model_name": "FloatProgressModel",
            "bar_style": "danger",
            "max": 300,
            "_view_module": "@jupyter-widgets/controls",
            "_model_module_version": "1.5.0",
            "value": 0,
            "_view_count": null,
            "_view_module_version": "1.5.0",
            "orientation": "horizontal",
            "min": 0,
            "description_tooltip": null,
            "_model_module": "@jupyter-widgets/controls",
            "layout": "IPY_MODEL_dad1b12e55be460cb3743582e5ee8c63"
          }
        },
        "1d0181d116a74e35b036444334de9524": {
          "model_module": "@jupyter-widgets/controls",
          "model_name": "HTMLModel",
          "state": {
            "_view_name": "HTMLView",
            "style": "IPY_MODEL_21fdd44e46414589b5cd38002ac4a3cc",
            "_dom_classes": [],
            "description": "",
            "_model_name": "HTMLModel",
            "placeholder": "​",
            "_view_module": "@jupyter-widgets/controls",
            "_model_module_version": "1.5.0",
            "value": " 0/300 [00:00&lt;?, ?it/s]",
            "_view_count": null,
            "_view_module_version": "1.5.0",
            "description_tooltip": null,
            "_model_module": "@jupyter-widgets/controls",
            "layout": "IPY_MODEL_6c6cb40f48d34daabd34a4e680998c4c"
          }
        },
        "1a795c2aaa944466a620a26fc30cb7e6": {
          "model_module": "@jupyter-widgets/controls",
          "model_name": "ProgressStyleModel",
          "state": {
            "_view_name": "StyleView",
            "_model_name": "ProgressStyleModel",
            "description_width": "initial",
            "_view_module": "@jupyter-widgets/base",
            "_model_module_version": "1.5.0",
            "_view_count": null,
            "_view_module_version": "1.2.0",
            "bar_color": null,
            "_model_module": "@jupyter-widgets/controls"
          }
        },
        "dad1b12e55be460cb3743582e5ee8c63": {
          "model_module": "@jupyter-widgets/base",
          "model_name": "LayoutModel",
          "state": {
            "_view_name": "LayoutView",
            "grid_template_rows": null,
            "right": null,
            "justify_content": null,
            "_view_module": "@jupyter-widgets/base",
            "overflow": null,
            "_model_module_version": "1.2.0",
            "_view_count": null,
            "flex_flow": null,
            "width": null,
            "min_width": null,
            "border": null,
            "align_items": null,
            "bottom": null,
            "_model_module": "@jupyter-widgets/base",
            "top": null,
            "grid_column": null,
            "overflow_y": null,
            "overflow_x": null,
            "grid_auto_flow": null,
            "grid_area": null,
            "grid_template_columns": null,
            "flex": null,
            "_model_name": "LayoutModel",
            "justify_items": null,
            "grid_row": null,
            "max_height": null,
            "align_content": null,
            "visibility": null,
            "align_self": null,
            "height": null,
            "min_height": null,
            "padding": null,
            "grid_auto_rows": null,
            "grid_gap": null,
            "max_width": null,
            "order": null,
            "_view_module_version": "1.2.0",
            "grid_template_areas": null,
            "object_position": null,
            "object_fit": null,
            "grid_auto_columns": null,
            "margin": null,
            "display": null,
            "left": null
          }
        },
        "21fdd44e46414589b5cd38002ac4a3cc": {
          "model_module": "@jupyter-widgets/controls",
          "model_name": "DescriptionStyleModel",
          "state": {
            "_view_name": "StyleView",
            "_model_name": "DescriptionStyleModel",
            "description_width": "",
            "_view_module": "@jupyter-widgets/base",
            "_model_module_version": "1.5.0",
            "_view_count": null,
            "_view_module_version": "1.2.0",
            "_model_module": "@jupyter-widgets/controls"
          }
        },
        "6c6cb40f48d34daabd34a4e680998c4c": {
          "model_module": "@jupyter-widgets/base",
          "model_name": "LayoutModel",
          "state": {
            "_view_name": "LayoutView",
            "grid_template_rows": null,
            "right": null,
            "justify_content": null,
            "_view_module": "@jupyter-widgets/base",
            "overflow": null,
            "_model_module_version": "1.2.0",
            "_view_count": null,
            "flex_flow": null,
            "width": null,
            "min_width": null,
            "border": null,
            "align_items": null,
            "bottom": null,
            "_model_module": "@jupyter-widgets/base",
            "top": null,
            "grid_column": null,
            "overflow_y": null,
            "overflow_x": null,
            "grid_auto_flow": null,
            "grid_area": null,
            "grid_template_columns": null,
            "flex": null,
            "_model_name": "LayoutModel",
            "justify_items": null,
            "grid_row": null,
            "max_height": null,
            "align_content": null,
            "visibility": null,
            "align_self": null,
            "height": null,
            "min_height": null,
            "padding": null,
            "grid_auto_rows": null,
            "grid_gap": null,
            "max_width": null,
            "order": null,
            "_view_module_version": "1.2.0",
            "grid_template_areas": null,
            "object_position": null,
            "object_fit": null,
            "grid_auto_columns": null,
            "margin": null,
            "display": null,
            "left": null
          }
        }
      }
    }
  },
  "cells": [
    {
      "cell_type": "markdown",
      "metadata": {
        "id": "FQntiASAkVk5"
      },
      "source": [
        "[![Open In Colab](https://colab.research.google.com/assets/colab-badge.svg)](https://colab.research.google.com/github/HSinger04/DL4NLP/blob/master/src/assignment3.ipynb#scrollTo=FQntiASAkVk5)"
      ]
    },
    {
      "cell_type": "markdown",
      "metadata": {
        "id": "1I_WVtoi81lC"
      },
      "source": [
        "<h1> Practical 3 - Language Modeling <h1>"
      ]
    },
    {
      "cell_type": "markdown",
      "metadata": {
        "id": "8L-ucuhN9HfE"
      },
      "source": [
        "After we have concerned ourselves with word embeddings and text classification in the previous notebooks, we will now focus on language modeling. </br>\n",
        "\n",
        "In the last practical we worked on text classification as a problem that could be solved with deep learning. Today, we will get to know a different application of RNN's, namely language modeling. </br>\n",
        "\n",
        "Word prediction is a Natural Language Processing - NLP application concerned with predicting the next word given the preceding text. Auto-complete or suggested responses are popular types of language prediction. The first step towards language prediction is the selection of a language model. </br>\n",
        "\n",
        "There are generally two models you can use to develop Next Word Predictor:\n",
        "</br> 1) statistical N-gram model or \n",
        "</br> 2) Neural Models"
      ]
    },
    {
      "cell_type": "markdown",
      "metadata": {
        "id": "OyhaqQQD9OM-"
      },
      "source": [
        "**0. Task (0 points)**  </br>\n",
        "As usual, before we dive into the tasks here are a couple imports we will later use"
      ]
    },
    {
      "cell_type": "code",
      "metadata": {
        "id": "b5ztGGH--rfg"
      },
      "source": [
        "!pip install boltons -q"
      ],
      "execution_count": 60,
      "outputs": []
    },
    {
      "cell_type": "code",
      "metadata": {
        "id": "GJ_sI6SI-UIR",
        "colab": {
          "base_uri": "https://localhost:8080/"
        },
        "outputId": "9bebc507-3a23-458f-9f16-3ba491421f50"
      },
      "source": [
        "import string\n",
        "from pathlib import Path\n",
        "from textwrap import wrap\n",
        "\n",
        "\n",
        "import numpy as np\n",
        "import pandas as pd\n",
        "from boltons.iterutils import windowed\n",
        "#from tqdm import tqdm_notebook\n",
        "#from tqdm import tqdm\n",
        "from tqdm.notebook import tqdm\n",
        "\n",
        "from nltk.util import ngrams\n",
        "\n",
        "import torch\n",
        "import torch.nn as nn\n",
        "import torch.nn.functional as F\n",
        "from torch import optim\n",
        "from torch.utils.data import Dataset, DataLoader\n",
        "from torch.utils.data.dataset import random_split\n",
        "from torch.nn.utils.rnn import pack_padded_sequence, pad_packed_sequence\n",
        "\n",
        "from google_drive_downloader import GoogleDriveDownloader as gdd\n",
        "\n",
        "from nltk.tokenize import sent_tokenize, word_tokenize\n",
        "import nltk\n",
        "nltk.download('punkt')"
      ],
      "execution_count": 61,
      "outputs": [
        {
          "output_type": "stream",
          "text": [
            "[nltk_data] Downloading package punkt to /root/nltk_data...\n",
            "[nltk_data]   Package punkt is already up-to-date!\n"
          ],
          "name": "stdout"
        },
        {
          "output_type": "execute_result",
          "data": {
            "text/plain": [
              "True"
            ]
          },
          "metadata": {
            "tags": []
          },
          "execution_count": 61
        }
      ]
    },
    {
      "cell_type": "code",
      "metadata": {
        "colab": {
          "base_uri": "https://localhost:8080/"
        },
        "id": "tXUE8n_v-UIs",
        "outputId": "74d43af3-b985-46e8-aa3a-61ed421bfc16"
      },
      "source": [
        "device_word = torch.device('cuda' if torch.cuda.is_available() else 'cpu')\n",
        "device_char = torch.device('cuda' if torch.cuda.is_available() else 'cpu')\n",
        "device_word"
      ],
      "execution_count": 62,
      "outputs": [
        {
          "output_type": "execute_result",
          "data": {
            "text/plain": [
              "device(type='cuda')"
            ]
          },
          "metadata": {
            "tags": []
          },
          "execution_count": 62
        }
      ]
    },
    {
      "cell_type": "markdown",
      "metadata": {
        "id": "BZy9leGX-cNk"
      },
      "source": [
        "<h1>Word and Text Generation</h1>\r\n",
        "\r\n",
        "In this notebook we will do two things:\r\n",
        "1.   Generate a RNN, that can Learn how english characters are combined.\r\n",
        "2.   Generate a RNN, that can Learn how english words are combined.\r\n",
        "\r\n",
        "Therefore we are going to do the following steps:\r\n",
        "1.   Load the Data\r\n",
        "2.   Preprocess the Data for character-level generation.\r\n",
        "3.   Preprocess the Data for word-level generation.\r\n",
        "4.   Building an RNN\r\n",
        "5.   Applying the RNN on the Data of Step 1.\r\n",
        "6.   Applying the RNN on the Data of Step 2.\r\n",
        "\r\n",
        "\r\n"
      ]
    },
    {
      "cell_type": "markdown",
      "metadata": {
        "id": "atLUvUh-MbuZ"
      },
      "source": [
        "<h2>1. Load the Data</h2>\r\n",
        "\r\n",
        "Our Dataset consists of multiple texts regarding weight loss. "
      ]
    },
    {
      "cell_type": "code",
      "metadata": {
        "id": "NKw4lpSO-UI2"
      },
      "source": [
        "#We can find the articles here:\n",
        "DATA_PATH = 'data/weight_loss/articles.jsonl'\n",
        "if not Path(DATA_PATH).is_file():\n",
        "    gdd.download_file_from_google_drive(\n",
        "        file_id='1mafPreWzE-FyLI0K-MUsXPcnUI0epIcI',\n",
        "        dest_path='data/weight_loss/weight_loss_articles.zip',\n",
        "        unzip=True,\n",
        "    )\n"
      ],
      "execution_count": 63,
      "outputs": []
    },
    {
      "cell_type": "code",
      "metadata": {
        "colab": {
          "base_uri": "https://localhost:8080/"
        },
        "id": "5KtTqxTN-byG",
        "outputId": "a9d55a33-48cf-4643-bbe4-b02966a26ebd"
      },
      "source": [
        "#lets print out the first article\r\n",
        "print(pd.read_json(DATA_PATH).text.str.lower().tolist()[0])"
      ],
      "execution_count": 64,
      "outputs": [
        {
          "output_type": "stream",
          "text": [
            "weight gaining is a common problem around the world. in developed country, it is the most common problem. in this article, i am not going to show you some advance and magical technique which will make you slim overnight. i am going to show you tips on the basis of real facts which works. in this article, i will give you how to tips, which will help you to lose weight. are you ready?\n",
            "calories requirement\n",
            "first thing you need to understand is why you gain weight. why? whenever you eat or drink something, you will get some calories. when you think about weight, everything revolves around calories.\n",
            "whatever you do, will burn some calories no matter how small work it is or just a movement of your body. your body burns thousands of calories in one day.\n",
            "if you are getting more calories than needed, you will gain weight. if you are getting fewer calories than needed, you will lose weight. so for losing weight, you need to know how much calorie your body required.\n",
            "find require calories for your body\n",
            "how will you know that how much calories your body require? well, there is a formula to find out that but you don't need to understand that. just go tohttp://www.freedieting.com/tools/calorie_calculator.htm. enter the details and you will come to know how much calories require for your body.\n",
            "now you know how much calories your body needs. you just need to balance between require and burning calories. there are two ways you can lose weight.\n",
            "you are not going to use only one. you will use mix of both. you will consume less calories and burn more calories. so keep a track of how much calories you take. also do some more exercise. not too much just a little more. so you burn more calories.\n",
            "you are controlling calories in two ways. losing little more calories and getting little less calories. so you will definitely lose weight.\n",
            "take less calories\n",
            "burn more calories\n"
          ],
          "name": "stdout"
        }
      ]
    },
    {
      "cell_type": "markdown",
      "metadata": {
        "id": "QXP6jn83Orbg"
      },
      "source": [
        "<h2>2. Preprocessing the data for sequence generation</h2>\r\n",
        "\r\n",
        "As you can see in the cell above it is pretty tedious to access the data. In the next few steps we help you and the network to access the data easier."
      ]
    },
    {
      "cell_type": "code",
      "metadata": {
        "id": "_0lWXlh6V-GC"
      },
      "source": [
        "def remove_unprintable_chars(all_chars_windowed):\r\n",
        "  not_printbl_chars=[]\r\n",
        "  filtered_chars=[]\r\n",
        "  printbl=True\r\n",
        "  for sequence in tqdm(all_chars_windowed):\r\n",
        "    printbl=True\r\n",
        "    for char in sequence:\r\n",
        "      if not(char in string.printable):  \r\n",
        "        printbl=False\r\n",
        "        not_printbl_chars+=[char]\r\n",
        "    if printbl==True:\r\n",
        "      filtered_chars+=[sequence]\r\n",
        "  return filtered_chars \r\n",
        "\r\n",
        "  "
      ],
      "execution_count": 191,
      "outputs": []
    },
    {
      "cell_type": "code",
      "metadata": {
        "id": "Fe1X3_lY-UI9"
      },
      "source": [
        "def textlist_generator(path):\n",
        "  return pd.read_json(path).text.str.lower().tolist()\n",
        "\n",
        "def load_data_char(path, sequence_length=125):\n",
        "\n",
        "    # Generate a list of texts from the dataset\n",
        "    texts = textlist_generator(path)\n",
        "    #print(texts[0] + \"\\n\")\n",
        "\n",
        "\n",
        "    chars_windowed = [list(windowed(text, sequence_length)) for text in texts]\n",
        "    #print(chars_windowed[:2])\n",
        "    \n",
        "    all_chars_windowed = [sublst for lst in chars_windowed for sublst in lst]\n",
        "    #print(all_chars_windowed[:2])\n",
        "\n",
        "    filtered_chars = remove_unprintable_chars(all_chars_windowed)\n",
        "    #print(filtered_chars[:2])\n",
        "    return filtered_chars\n",
        "\n",
        "\n",
        "def set_of_chars_in(sequences):\n",
        "    return {sublst for lst in sequences for sublst in lst}\n",
        "\n",
        "\n",
        "def create_char2idx(sequences):\n",
        "    set_of_chars = set_of_chars_in(sequences)\n",
        "    return {char: idx for idx, char in enumerate(sorted(set_of_chars))}\n",
        "\n",
        "\n",
        "def encode_sequence(sequence, char2idx):\n",
        "    return [char2idx[char] for char in sequence]\n",
        "\n",
        "\n",
        "def encode_sequences(sequences, char2idx):\n",
        "    return np.array([\n",
        "        encode_sequence(sequence, char2idx) \n",
        "        for sequence in tqdm(sequences)\n",
        "    ])\n",
        "\n",
        "\n",
        "class Sequences(Dataset):\n",
        "    def __init__(self, path, sequence_length=125):\n",
        "        self.sequences = load_data_char(DATA_PATH, sequence_length=sequence_length)\n",
        "        self.vocab_size = len(set_of_chars_in(self.sequences))\n",
        "        self.char2idx = create_char2idx(self.sequences)\n",
        "        self.idx2char = {idx: char for char, idx in self.char2idx.items()}\n",
        "        self.encoded = encode_sequences(self.sequences, self.char2idx)\n",
        "        \n",
        "    def __getitem__(self, i):\n",
        "        return self.encoded[i, :-1], self.encoded[i, 1:]\n",
        "    \n",
        "    def __len__(self):\n",
        "        return len(self.encoded)"
      ],
      "execution_count": 192,
      "outputs": []
    },
    {
      "cell_type": "markdown",
      "metadata": {
        "id": "d2iIT4s4qfrY"
      },
      "source": [
        "The Tasks 2.1 to 2.3 will help you to understand the code better."
      ]
    },
    {
      "cell_type": "markdown",
      "metadata": {
        "id": "ZIYI0mHadM6p"
      },
      "source": [
        "**2.1** <br>\r\n",
        "(1 Point)\r\n",
        "Describe the variable `chars_windowed`. What does it contain? "
      ]
    },
    {
      "cell_type": "markdown",
      "metadata": {
        "id": "xViMgbwEeU_u"
      },
      "source": [
        "For each `text` in `texts`, `chars_windowed` contains a list of character windows as tuples. Each of those tuples have length `sequence_length`. The first tuple contains the characters from `text[0:sequence_length]`, the second the characters from\n",
        "`text[1:sequence_length+1]`, or in general for `0 <= i <= len(text)`-sequence_length, the i-th tuple contains the characters from `text[i:sequence_length+i]`."
      ]
    },
    {
      "cell_type": "markdown",
      "metadata": {
        "id": "Wev3uOKRdq5I"
      },
      "source": [
        "**2.2** <br>\r\n",
        "(1 Point)\r\n",
        "Describe the variable `all_chars_windowed`. What does it contain?"
      ]
    },
    {
      "cell_type": "markdown",
      "metadata": {
        "id": "PYQulPqkeTmv"
      },
      "source": [
        "`all_chars_windowed` is the up to tupel level flattened version of `chars_windowed` i.e. the list that contains all the tuples from `chars_windowed` in the form of a list of tupels, while with `chars_windowed`, we had a list of list of tuples."
      ]
    },
    {
      "cell_type": "markdown",
      "metadata": {
        "id": "GB7cFHZ4Z_Gh"
      },
      "source": [
        "**2.3** <br>\r\n",
        "(1 Point)\r\n",
        "Explain shortly, what the function `remove_unprintable_chars(all_chars_windowed)`does. We do not want a step by step explaination, just describe the generall idea."
      ]
    },
    {
      "cell_type": "markdown",
      "metadata": {
        "id": "OO5EoJXFanlq"
      },
      "source": [
        "`remove_unprintable_chars(all_chars_windowed)` filters out all window tuples that contain a character which is not printable i.e. are an element of `string.printable`"
      ]
    },
    {
      "cell_type": "markdown",
      "metadata": {
        "id": "aZHxjVRgbQgs"
      },
      "source": [
        "Now lets load our char_dataset."
      ]
    },
    {
      "cell_type": "code",
      "metadata": {
        "id": "nQh-02Ye89Id"
      },
      "source": [
        "# TODO: uncomment below\r\n",
        "#sequence_length=int(input(\"choose your sequence_length (for this task, we did choose 128): \"))\r\n",
        "sequence_length=10\r\n",
        "if sequence_length<=1:\r\n",
        "  print(\"1 or less is not a valid sequence length. Your model will not learn anything from just one word at a time. The sequence lenght of 128 has been chosen for you.\")\r\n",
        "  sequence_length=128"
      ],
      "execution_count": 193,
      "outputs": []
    },
    {
      "cell_type": "code",
      "metadata": {
        "colab": {
          "base_uri": "https://localhost:8080/",
          "height": 429,
          "referenced_widgets": [
            "a0f182aebdf04eb583a976175a6d84a8",
            "d32b0f36ea2a4ec192ba337411606fa7",
            "46cb0d42671243108107a53f6b40e4dd",
            "08c9c4eb527d4101854926161ce9fe2f",
            "02e28b5fdad54265950e3397c55669bf",
            "937772d1c1144bdf919b99b2b4029bc6",
            "0424f94e3cae454b8508b4d5c07a814e",
            "ea8ced0bdffc4da7b81bcf3bf03ccf1e",
            "2cdfc7511a5946faa527a6e068d1d42f",
            "27a8661e3e7c462da8031cd37ad3e9a6",
            "0f67188e3c5f414f899e467c750911a2",
            "976ee125587e4599a8d5c229b463efbb",
            "0ad739328b5a4bc784f58d5097bb180e",
            "a61b3c46af5247678ccb609c42e0e4c3",
            "39f9e2f57d7e45fa92f4723537dcfc32",
            "eedb2af9f1ca4500b3b2a74ca1b57cde"
          ]
        },
        "id": "BZxQzaME-UJG",
        "outputId": "550d9c84-f280-46d6-f787-c3fc82c5f7cc"
      },
      "source": [
        "dataset_char = Sequences(DATA_PATH, sequence_length=128)\n",
        "len(dataset_char)\n",
        "train_loader_char = DataLoader(dataset_char, batch_size=4096)"
      ],
      "execution_count": 194,
      "outputs": [
        {
          "output_type": "display_data",
          "data": {
            "application/vnd.jupyter.widget-view+json": {
              "model_id": "a0f182aebdf04eb583a976175a6d84a8",
              "version_minor": 0,
              "version_major": 2
            },
            "text/plain": [
              "HBox(children=(FloatProgress(value=0.0, max=1246263.0), HTML(value='')))"
            ]
          },
          "metadata": {
            "tags": []
          }
        },
        {
          "output_type": "stream",
          "text": [
            "\n"
          ],
          "name": "stdout"
        },
        {
          "output_type": "display_data",
          "data": {
            "application/vnd.jupyter.widget-view+json": {
              "model_id": "2cdfc7511a5946faa527a6e068d1d42f",
              "version_minor": 0,
              "version_major": 2
            },
            "text/plain": [
              "HBox(children=(FloatProgress(value=0.0, max=1228546.0), HTML(value='')))"
            ]
          },
          "metadata": {
            "tags": []
          }
        },
        {
          "output_type": "error",
          "ename": "KeyboardInterrupt",
          "evalue": "ignored",
          "traceback": [
            "\u001b[0;31m---------------------------------------------------------------------------\u001b[0m",
            "\u001b[0;31mKeyboardInterrupt\u001b[0m                         Traceback (most recent call last)",
            "\u001b[0;32m<ipython-input-194-9b3cfc8a42e0>\u001b[0m in \u001b[0;36m<module>\u001b[0;34m()\u001b[0m\n\u001b[0;32m----> 1\u001b[0;31m \u001b[0mdataset_char\u001b[0m \u001b[0;34m=\u001b[0m \u001b[0mSequences\u001b[0m\u001b[0;34m(\u001b[0m\u001b[0mDATA_PATH\u001b[0m\u001b[0;34m,\u001b[0m \u001b[0msequence_length\u001b[0m\u001b[0;34m=\u001b[0m\u001b[0;36m128\u001b[0m\u001b[0;34m)\u001b[0m\u001b[0;34m\u001b[0m\u001b[0;34m\u001b[0m\u001b[0m\n\u001b[0m\u001b[1;32m      2\u001b[0m \u001b[0mlen\u001b[0m\u001b[0;34m(\u001b[0m\u001b[0mdataset_char\u001b[0m\u001b[0;34m)\u001b[0m\u001b[0;34m\u001b[0m\u001b[0;34m\u001b[0m\u001b[0m\n\u001b[1;32m      3\u001b[0m \u001b[0mtrain_loader_char\u001b[0m \u001b[0;34m=\u001b[0m \u001b[0mDataLoader\u001b[0m\u001b[0;34m(\u001b[0m\u001b[0mdataset_char\u001b[0m\u001b[0;34m,\u001b[0m \u001b[0mbatch_size\u001b[0m\u001b[0;34m=\u001b[0m\u001b[0;36m4096\u001b[0m\u001b[0;34m)\u001b[0m\u001b[0;34m\u001b[0m\u001b[0;34m\u001b[0m\u001b[0m\n",
            "\u001b[0;32m<ipython-input-192-b76fa7978771>\u001b[0m in \u001b[0;36m__init__\u001b[0;34m(self, path, sequence_length)\u001b[0m\n\u001b[1;32m     46\u001b[0m         \u001b[0mself\u001b[0m\u001b[0;34m.\u001b[0m\u001b[0mchar2idx\u001b[0m \u001b[0;34m=\u001b[0m \u001b[0mcreate_char2idx\u001b[0m\u001b[0;34m(\u001b[0m\u001b[0mself\u001b[0m\u001b[0;34m.\u001b[0m\u001b[0msequences\u001b[0m\u001b[0;34m)\u001b[0m\u001b[0;34m\u001b[0m\u001b[0;34m\u001b[0m\u001b[0m\n\u001b[1;32m     47\u001b[0m         \u001b[0mself\u001b[0m\u001b[0;34m.\u001b[0m\u001b[0midx2char\u001b[0m \u001b[0;34m=\u001b[0m \u001b[0;34m{\u001b[0m\u001b[0midx\u001b[0m\u001b[0;34m:\u001b[0m \u001b[0mchar\u001b[0m \u001b[0;32mfor\u001b[0m \u001b[0mchar\u001b[0m\u001b[0;34m,\u001b[0m \u001b[0midx\u001b[0m \u001b[0;32min\u001b[0m \u001b[0mself\u001b[0m\u001b[0;34m.\u001b[0m\u001b[0mchar2idx\u001b[0m\u001b[0;34m.\u001b[0m\u001b[0mitems\u001b[0m\u001b[0;34m(\u001b[0m\u001b[0;34m)\u001b[0m\u001b[0;34m}\u001b[0m\u001b[0;34m\u001b[0m\u001b[0;34m\u001b[0m\u001b[0m\n\u001b[0;32m---> 48\u001b[0;31m         \u001b[0mself\u001b[0m\u001b[0;34m.\u001b[0m\u001b[0mencoded\u001b[0m \u001b[0;34m=\u001b[0m \u001b[0mencode_sequences\u001b[0m\u001b[0;34m(\u001b[0m\u001b[0mself\u001b[0m\u001b[0;34m.\u001b[0m\u001b[0msequences\u001b[0m\u001b[0;34m,\u001b[0m \u001b[0mself\u001b[0m\u001b[0;34m.\u001b[0m\u001b[0mchar2idx\u001b[0m\u001b[0;34m)\u001b[0m\u001b[0;34m\u001b[0m\u001b[0;34m\u001b[0m\u001b[0m\n\u001b[0m\u001b[1;32m     49\u001b[0m \u001b[0;34m\u001b[0m\u001b[0m\n\u001b[1;32m     50\u001b[0m     \u001b[0;32mdef\u001b[0m \u001b[0m__getitem__\u001b[0m\u001b[0;34m(\u001b[0m\u001b[0mself\u001b[0m\u001b[0;34m,\u001b[0m \u001b[0mi\u001b[0m\u001b[0;34m)\u001b[0m\u001b[0;34m:\u001b[0m\u001b[0;34m\u001b[0m\u001b[0;34m\u001b[0m\u001b[0m\n",
            "\u001b[0;32m<ipython-input-192-b76fa7978771>\u001b[0m in \u001b[0;36mencode_sequences\u001b[0;34m(sequences, char2idx)\u001b[0m\n\u001b[1;32m     36\u001b[0m     return np.array([\n\u001b[1;32m     37\u001b[0m         \u001b[0mencode_sequence\u001b[0m\u001b[0;34m(\u001b[0m\u001b[0msequence\u001b[0m\u001b[0;34m,\u001b[0m \u001b[0mchar2idx\u001b[0m\u001b[0;34m)\u001b[0m\u001b[0;34m\u001b[0m\u001b[0;34m\u001b[0m\u001b[0m\n\u001b[0;32m---> 38\u001b[0;31m         \u001b[0;32mfor\u001b[0m \u001b[0msequence\u001b[0m \u001b[0;32min\u001b[0m \u001b[0mtqdm\u001b[0m\u001b[0;34m(\u001b[0m\u001b[0msequences\u001b[0m\u001b[0;34m)\u001b[0m\u001b[0;34m\u001b[0m\u001b[0;34m\u001b[0m\u001b[0m\n\u001b[0m\u001b[1;32m     39\u001b[0m     ])\n\u001b[1;32m     40\u001b[0m \u001b[0;34m\u001b[0m\u001b[0m\n",
            "\u001b[0;32m<ipython-input-192-b76fa7978771>\u001b[0m in \u001b[0;36m<listcomp>\u001b[0;34m(.0)\u001b[0m\n\u001b[1;32m     36\u001b[0m     return np.array([\n\u001b[1;32m     37\u001b[0m         \u001b[0mencode_sequence\u001b[0m\u001b[0;34m(\u001b[0m\u001b[0msequence\u001b[0m\u001b[0;34m,\u001b[0m \u001b[0mchar2idx\u001b[0m\u001b[0;34m)\u001b[0m\u001b[0;34m\u001b[0m\u001b[0;34m\u001b[0m\u001b[0m\n\u001b[0;32m---> 38\u001b[0;31m         \u001b[0;32mfor\u001b[0m \u001b[0msequence\u001b[0m \u001b[0;32min\u001b[0m \u001b[0mtqdm\u001b[0m\u001b[0;34m(\u001b[0m\u001b[0msequences\u001b[0m\u001b[0;34m)\u001b[0m\u001b[0;34m\u001b[0m\u001b[0;34m\u001b[0m\u001b[0m\n\u001b[0m\u001b[1;32m     39\u001b[0m     ])\n\u001b[1;32m     40\u001b[0m \u001b[0;34m\u001b[0m\u001b[0m\n",
            "\u001b[0;32m<ipython-input-192-b76fa7978771>\u001b[0m in \u001b[0;36mencode_sequence\u001b[0;34m(sequence, char2idx)\u001b[0m\n\u001b[1;32m     30\u001b[0m \u001b[0;34m\u001b[0m\u001b[0m\n\u001b[1;32m     31\u001b[0m \u001b[0;32mdef\u001b[0m \u001b[0mencode_sequence\u001b[0m\u001b[0;34m(\u001b[0m\u001b[0msequence\u001b[0m\u001b[0;34m,\u001b[0m \u001b[0mchar2idx\u001b[0m\u001b[0;34m)\u001b[0m\u001b[0;34m:\u001b[0m\u001b[0;34m\u001b[0m\u001b[0;34m\u001b[0m\u001b[0m\n\u001b[0;32m---> 32\u001b[0;31m     \u001b[0;32mreturn\u001b[0m \u001b[0;34m[\u001b[0m\u001b[0mchar2idx\u001b[0m\u001b[0;34m[\u001b[0m\u001b[0mchar\u001b[0m\u001b[0;34m]\u001b[0m \u001b[0;32mfor\u001b[0m \u001b[0mchar\u001b[0m \u001b[0;32min\u001b[0m \u001b[0msequence\u001b[0m\u001b[0;34m]\u001b[0m\u001b[0;34m\u001b[0m\u001b[0;34m\u001b[0m\u001b[0m\n\u001b[0m\u001b[1;32m     33\u001b[0m \u001b[0;34m\u001b[0m\u001b[0m\n\u001b[1;32m     34\u001b[0m \u001b[0;34m\u001b[0m\u001b[0m\n",
            "\u001b[0;32m<ipython-input-192-b76fa7978771>\u001b[0m in \u001b[0;36m<listcomp>\u001b[0;34m(.0)\u001b[0m\n\u001b[1;32m     30\u001b[0m \u001b[0;34m\u001b[0m\u001b[0m\n\u001b[1;32m     31\u001b[0m \u001b[0;32mdef\u001b[0m \u001b[0mencode_sequence\u001b[0m\u001b[0;34m(\u001b[0m\u001b[0msequence\u001b[0m\u001b[0;34m,\u001b[0m \u001b[0mchar2idx\u001b[0m\u001b[0;34m)\u001b[0m\u001b[0;34m:\u001b[0m\u001b[0;34m\u001b[0m\u001b[0;34m\u001b[0m\u001b[0m\n\u001b[0;32m---> 32\u001b[0;31m     \u001b[0;32mreturn\u001b[0m \u001b[0;34m[\u001b[0m\u001b[0mchar2idx\u001b[0m\u001b[0;34m[\u001b[0m\u001b[0mchar\u001b[0m\u001b[0;34m]\u001b[0m \u001b[0;32mfor\u001b[0m \u001b[0mchar\u001b[0m \u001b[0;32min\u001b[0m \u001b[0msequence\u001b[0m\u001b[0;34m]\u001b[0m\u001b[0;34m\u001b[0m\u001b[0;34m\u001b[0m\u001b[0m\n\u001b[0m\u001b[1;32m     33\u001b[0m \u001b[0;34m\u001b[0m\u001b[0m\n\u001b[1;32m     34\u001b[0m \u001b[0;34m\u001b[0m\u001b[0m\n",
            "\u001b[0;31mKeyboardInterrupt\u001b[0m: "
          ]
        }
      ]
    },
    {
      "cell_type": "markdown",
      "metadata": {
        "id": "x9feqYMs_vYS"
      },
      "source": [
        "<h2>3. Preprocessing the data for word-level generation</h2>"
      ]
    },
    {
      "cell_type": "markdown",
      "metadata": {
        "id": "OcDtOiP7A4oj"
      },
      "source": [
        "We now have to do the same preprocessing steps for our word-level-model. But dont worry, it works quite similar to the character-level-preprocessing steps. In the following, there are a couple of tasks, that will guide you.\n"
      ]
    },
    {
      "cell_type": "markdown",
      "metadata": {
        "id": "5mqFYOX7Ukw9"
      },
      "source": [
        "**3.1 Tokenize**<br>\r\n",
        "(3 Point)\r\n",
        "Complete the function `tokenize` which gets multiple texts and returns a list, which consists of a list of word-level-tokens for each text."
      ]
    },
    {
      "cell_type": "code",
      "metadata": {
        "id": "Fk6WT1WYU-he"
      },
      "source": [
        "def tokenize(texts):   \r\n",
        "    texts_tokens = [word_tokenize(text) for text in texts]\r\n",
        "    return texts_tokens"
      ],
      "execution_count": 223,
      "outputs": []
    },
    {
      "cell_type": "markdown",
      "metadata": {
        "id": "OonqPi-lWlh8"
      },
      "source": [
        "**3.2 Unprintable Sequences**<br>\r\n",
        "(4 Points)\r\n",
        "Do you remember the task 2.3? Apply the same functionality, but keep in mind, that we are now working on the basis of words, not chars. \r\n",
        "Adapt the function from task 2.3 so that it now works with words. We still want to delete the sequences. Write your solution into the function `remove_unprintable_sequences2`."
      ]
    },
    {
      "cell_type": "code",
      "metadata": {
        "id": "drlYnhUfX6g6"
      },
      "source": [
        "def remove_unprintable_sequences2(all_words_windowed):\r\n",
        "  filtered_words = []\r\n",
        "  for word_tuple in all_words_windowed:\r\n",
        "    for word in word_tuple:\r\n",
        "      break_out = False\r\n",
        "      for char in word:\r\n",
        "        if not char in string.printable:\r\n",
        "          break_out = True\r\n",
        "          break\r\n",
        "      if break_out:\r\n",
        "        break    \r\n",
        "    else:\r\n",
        "      filtered_words+=[word_tuple]\r\n",
        "\r\n",
        "  return filtered_words"
      ],
      "execution_count": 224,
      "outputs": []
    },
    {
      "cell_type": "markdown",
      "metadata": {
        "id": "-Y5YSvESboYU"
      },
      "source": [
        "We now put all the functions you provided in this new function, to load our data."
      ]
    },
    {
      "cell_type": "code",
      "metadata": {
        "id": "fKCVbIY0Tqfp"
      },
      "source": [
        "def load_data_word(path, sequence_length=5):\r\n",
        "\r\n",
        "    #Generate a list of texts from the dataset\r\n",
        "    texts = textlist_generator(path)\r\n",
        "\r\n",
        "    texts=tokenize(texts)\r\n",
        "\r\n",
        "    words_windowed = [list(windowed(text, sequence_length)) for text in texts]\r\n",
        "\r\n",
        "\r\n",
        "    all_words_windowed = [sublst for lst in words_windowed for sublst in lst]\r\n",
        "\r\n",
        "    filtered_words = remove_unprintable_sequences2(all_words_windowed)\r\n",
        "\r\n",
        "    return filtered_words"
      ],
      "execution_count": 225,
      "outputs": []
    },
    {
      "cell_type": "markdown",
      "metadata": {
        "id": "3kZ3bKU1C4xm"
      },
      "source": [
        "**** "
      ]
    },
    {
      "cell_type": "markdown",
      "metadata": {
        "id": "BuUnW1w8EMo5"
      },
      "source": [
        "**3.3** </br>\n",
        "(1 Points)\n",
        "Write a function that returns a set of all the words in the sequence. "
      ]
    },
    {
      "cell_type": "code",
      "metadata": {
        "id": "i0kyCSQOEWuW"
      },
      "source": [
        "def set_of_words_in(sequences):\n",
        "    set_of_words = set([word for word_tuple in sequences for word in word_tuple])\n",
        "    return set_of_words"
      ],
      "execution_count": 226,
      "outputs": []
    },
    {
      "cell_type": "markdown",
      "metadata": {
        "id": "B102b9njEe7U"
      },
      "source": [
        "**3.4** </br>\n",
        "(1 Points)\n",
        "Write a function that returns a dictionary containing the set of words indentified in task 3.3 and assigns an index to each of them."
      ]
    },
    {
      "cell_type": "code",
      "metadata": {
        "id": "Sxj_ahttEzJl"
      },
      "source": [
        "def create_word2idx(sequences):\n",
        "    word2idx = {}\n",
        "    set_of_words = set_of_words_in(sequences)\n",
        "    for i, word in enumerate(list(set_of_words)):\n",
        "      word2idx[word] = i  \n",
        "    return word2idx"
      ],
      "execution_count": 233,
      "outputs": []
    },
    {
      "cell_type": "markdown",
      "metadata": {
        "id": "ZqaN_y1GE5co"
      },
      "source": [
        "**3.5** </br>\n",
        "(1 Points)\n",
        "Create a function `encode_sequence`, that transforms the words of a list of words `sequence` into their equivalent index from `word2index`."
      ]
    },
    {
      "cell_type": "code",
      "metadata": {
        "id": "Sa2RstHQFLux"
      },
      "source": [
        "def encode_sequence(sequence, word2idx):\n",
        "    encoded_seq = [word2idx[word] for word in sequence]\n",
        "    return encoded_seq"
      ],
      "execution_count": 234,
      "outputs": []
    },
    {
      "cell_type": "markdown",
      "metadata": {
        "id": "p7dNIOZKGmt7"
      },
      "source": [
        "**3.6** </br>\n",
        "(1 Points)\n",
        "Complete the function `encode_sequences` that generates a numpy array, with the encoded sequence of all the sequences."
      ]
    },
    {
      "cell_type": "code",
      "metadata": {
        "id": "FVK1-y5ZGsDH"
      },
      "source": [
        "def encode_sequences(sequences, word2idx):\n",
        "    # TODO: not sure if we wanted it nested like here or not\n",
        "    return np.array([encode_sequence(sequence, word2idx) for sequence in sequences])"
      ],
      "execution_count": 239,
      "outputs": []
    },
    {
      "cell_type": "markdown",
      "metadata": {
        "id": "nNi7RhbUFs1i"
      },
      "source": [
        "In the next code snippet we call all the functions you defined above. (You dont have to do anything here, just run the cell)"
      ]
    },
    {
      "cell_type": "code",
      "metadata": {
        "id": "iRJ1D6OtFrd7"
      },
      "source": [
        "class Sequences(Dataset):\n",
        "    def __init__(self, path, sequence_length=30):\n",
        "        self.sequences = load_data_word(DATA_PATH, sequence_length=sequence_length)\n",
        "        self.vocab_size = len(set_of_words_in(self.sequences))\n",
        "        self.word2idx = create_word2idx(self.sequences)\n",
        "        self.idx2word = {idx: word for word, idx in self.word2idx.items()}\n",
        "        self.encoded = encode_sequences(self.sequences, self.word2idx)\n",
        "        \n",
        "    def __getitem__(self, i):\n",
        "        return self.encoded[i, :-1], self.encoded[i, 1:]\n",
        "    \n",
        "    def __len__(self):\n",
        "        return len(self.encoded)"
      ],
      "execution_count": 252,
      "outputs": []
    },
    {
      "cell_type": "code",
      "metadata": {
        "id": "nK4PRO9L7uOK"
      },
      "source": [
        "# TODO: uncomment below and remove below below\r\n",
        "#sequence_length=int(input(\"choose your sequence_length (for this task, we did choose 10): \"))\r\n",
        "sequence_length = 5\r\n",
        "if sequence_length<=1:\r\n",
        "  print(\"1 or less is not a valid sequence length. Your model will not learn anything from just one word at a time. The sequence lenght of 10 has been chosen for you.\")\r\n",
        "  sequence_length=10"
      ],
      "execution_count": 253,
      "outputs": []
    },
    {
      "cell_type": "code",
      "metadata": {
        "colab": {
          "base_uri": "https://localhost:8080/"
        },
        "id": "xSV6H2z9IqV5",
        "outputId": "b74809aa-1f28-44b1-d2a2-d555a82d1bf5"
      },
      "source": [
        "dataset_word = Sequences(DATA_PATH, sequence_length)\r\n",
        "len(dataset_word)\r\n",
        "train_loader_word = DataLoader(dataset_word, batch_size=4096)"
      ],
      "execution_count": 254,
      "outputs": [
        {
          "output_type": "stream",
          "text": [
            "['present-day', '140']\n",
            "[('present-day', 0), ('140', 1)]\n",
            "[[ 891 4013 1150 1156 3100]\n",
            " [4013 1150 1156 3100 3151]]\n"
          ],
          "name": "stdout"
        }
      ]
    },
    {
      "cell_type": "markdown",
      "metadata": {
        "id": "lRyoQrbvtdLy"
      },
      "source": [
        "<h2>4. char-RNN: Character-level text generation</h2>\n",
        "\n",
        "For an Idea how it could be done read this [Blog post](http://karpathy.github.io/2015/05/21/rnn-effectiveness/). In there they are using an LSTM to generate new texts on character Level. To make it easier for you, in this notebook we are Building a RNN with GRU as basis. GRU works close to LSTM, but is easier to handle. For a full comparison of these two have a look at [this](http://www.wildml.com/2015/10/recurrent-neural-network-tutorial-part-4-implementing-a-grulstm-rnn-with-python-and-theano/)"
      ]
    },
    {
      "cell_type": "code",
      "metadata": {
        "id": "_gAAAtscOJf-"
      },
      "source": [
        "class RNN(nn.Module):\n",
        "    def __init__(\n",
        "        self,\n",
        "        vocab_size,\n",
        "        embedding_dimension=100,\n",
        "        hidden_size=128, \n",
        "        n_layers=1,\n",
        "        device='cpu',\n",
        "    ):\n",
        "        \n",
        "        super(RNN, self).__init__()\n",
        "        self.n_layers = n_layers\n",
        "        self.hidden_size = hidden_size\n",
        "        self.device = device\n",
        "        \n",
        "        #Our Building-Blocks:\n",
        "        self.encoder = nn.Embedding(vocab_size, embedding_dimension)\n",
        "        self.rnn = nn.GRU(\n",
        "            embedding_dimension,\n",
        "            hidden_size,\n",
        "            num_layers=n_layers,\n",
        "            batch_first=True,\n",
        "        )\n",
        "        self.decoder = nn.Linear(hidden_size, vocab_size)\n",
        "        \n",
        "    def init_hidden(self, batch_size):\n",
        "        #we initialize a random hidden state\n",
        "        return torch.randn(self.n_layers, batch_size, self.hidden_size).to(self.device)\n",
        "    \n",
        "    def forward(self, input_, hidden):\n",
        "        #we feed the input through our RNN\n",
        "        encoded = self.encoder(input_)\n",
        "        output, hidden = self.rnn(encoded.unsqueeze(1), hidden)\n",
        "        output = self.decoder(output.squeeze(1))\n",
        "        return output, hidden"
      ],
      "execution_count": 255,
      "outputs": []
    },
    {
      "cell_type": "markdown",
      "metadata": {
        "id": "ys33f5T5jF8K"
      },
      "source": [
        "Lets Initialize the model with the data for chars"
      ]
    },
    {
      "cell_type": "code",
      "metadata": {
        "id": "UrC85qKz-UJT"
      },
      "source": [
        "model_char = RNN(vocab_size=dataset_char.vocab_size, device=device_char).to(device_char)\n",
        "\n",
        "criterion = nn.CrossEntropyLoss()\n",
        "optimizer = optim.Adam(\n",
        "    filter(lambda p: p.requires_grad, model_char.parameters()),\n",
        "    lr=0.001,\n",
        ")"
      ],
      "execution_count": 256,
      "outputs": []
    },
    {
      "cell_type": "code",
      "metadata": {
        "id": "rw0OpXVz9S7n",
        "colab": {
          "base_uri": "https://localhost:8080/"
        },
        "outputId": "c450e5f1-c3b7-4fdf-d22e-6a0d8e76f0f7"
      },
      "source": [
        "print(model_char)\n",
        "print()\n",
        "print('Trainable parameters:')\n",
        "print('\\n'.join([' * ' + x[0] for x in model_char.named_parameters() if x[1].requires_grad]))"
      ],
      "execution_count": 257,
      "outputs": [
        {
          "output_type": "stream",
          "text": [
            "RNN(\n",
            "  (encoder): Embedding(66, 100)\n",
            "  (rnn): GRU(100, 128, batch_first=True)\n",
            "  (decoder): Linear(in_features=128, out_features=66, bias=True)\n",
            ")\n",
            "\n",
            "Trainable parameters:\n",
            " * encoder.weight\n",
            " * rnn.weight_ih_l0\n",
            " * rnn.weight_hh_l0\n",
            " * rnn.bias_ih_l0\n",
            " * rnn.bias_hh_l0\n",
            " * decoder.weight\n",
            " * decoder.bias\n"
          ],
          "name": "stdout"
        }
      ]
    },
    {
      "cell_type": "markdown",
      "metadata": {
        "id": "-5xRYf-fjulU"
      },
      "source": [
        "![](https://github.com/HSinger04/DL4NLP/blob/master/src/images/char_rnn_diagram.png?raw=1)"
      ]
    },
    {
      "cell_type": "code",
      "metadata": {
        "id": "Edy_iSXh-UJZ",
        "colab": {
          "base_uri": "https://localhost:8080/",
          "height": 286,
          "referenced_widgets": [
            "d36dff4dd80447d6a211239c3ce3a4db",
            "38f557326ddd44b09e6f76fcb9b4b4c9",
            "ae9c26ff565a4b589548fae81cf0d926",
            "1d0181d116a74e35b036444334de9524",
            "1a795c2aaa944466a620a26fc30cb7e6",
            "dad1b12e55be460cb3743582e5ee8c63",
            "21fdd44e46414589b5cd38002ac4a3cc",
            "6c6cb40f48d34daabd34a4e680998c4c"
          ]
        },
        "outputId": "2798794d-15fa-4c93-8ed3-f9fe80c6d276"
      },
      "source": [
        "model_char.train()\n",
        "train_losses = []\n",
        "for epoch in range(30):\n",
        "    progress_bar = tqdm(train_loader_char, leave=False)\n",
        "    losses = []\n",
        "    total = 0\n",
        "    for inputs, targets in progress_bar:\n",
        "        batch_size = inputs.size(0)\n",
        "        hidden = model_char.init_hidden(batch_size)\n",
        "\n",
        "        model_char.zero_grad()\n",
        "        \n",
        "        loss = 0\n",
        "        for char_idx in range(inputs.size(1)):\n",
        "            output, hidden = model_char(inputs[:, char_idx].to(device_char), hidden)\n",
        "            loss += criterion(output, targets[:, char_idx].to(device_char))\n",
        "\n",
        "        loss.backward()\n",
        "\n",
        "        optimizer.step()\n",
        "        \n",
        "        avg_loss = loss.item() / inputs.size(1)\n",
        "        \n",
        "        progress_bar.set_description(f'Loss: {avg_loss:.3f}')\n",
        "        \n",
        "        losses.append(avg_loss)\n",
        "        total += 1\n",
        "    \n",
        "    epoch_loss = sum(losses) / total\n",
        "    train_losses.append(epoch_loss)\n",
        "        \n",
        "    tqdm.write(f'Epoch #{epoch + 1}\\tTrain Loss: {epoch_loss:.3f}')\n",
        "\n",
        "\n",
        "#Again, this will take a while. Go for a walk in the sunshine or something else nice :D"
      ],
      "execution_count": 261,
      "outputs": [
        {
          "output_type": "display_data",
          "data": {
            "application/vnd.jupyter.widget-view+json": {
              "model_id": "d36dff4dd80447d6a211239c3ce3a4db",
              "version_minor": 0,
              "version_major": 2
            },
            "text/plain": [
              "HBox(children=(FloatProgress(value=0.0, max=300.0), HTML(value='')))"
            ]
          },
          "metadata": {
            "tags": []
          }
        },
        {
          "output_type": "stream",
          "text": [
            "torch.Size([4096])\n"
          ],
          "name": "stdout"
        },
        {
          "output_type": "error",
          "ename": "NotImplementedError",
          "evalue": "ignored",
          "traceback": [
            "\u001b[0;31m---------------------------------------------------------------------------\u001b[0m",
            "\u001b[0;31mNotImplementedError\u001b[0m                       Traceback (most recent call last)",
            "\u001b[0;32m<ipython-input-261-62b43ad32ef5>\u001b[0m in \u001b[0;36m<module>\u001b[0;34m()\u001b[0m\n\u001b[1;32m     15\u001b[0m           \u001b[0;31m# TODO: remove\u001b[0m\u001b[0;34m\u001b[0m\u001b[0;34m\u001b[0m\u001b[0;34m\u001b[0m\u001b[0m\n\u001b[1;32m     16\u001b[0m             \u001b[0mprint\u001b[0m\u001b[0;34m(\u001b[0m\u001b[0minputs\u001b[0m\u001b[0;34m[\u001b[0m\u001b[0;34m:\u001b[0m\u001b[0;34m,\u001b[0m \u001b[0mchar_idx\u001b[0m\u001b[0;34m]\u001b[0m\u001b[0;34m.\u001b[0m\u001b[0mshape\u001b[0m\u001b[0;34m)\u001b[0m\u001b[0;34m\u001b[0m\u001b[0;34m\u001b[0m\u001b[0m\n\u001b[0;32m---> 17\u001b[0;31m             \u001b[0;32mraise\u001b[0m \u001b[0mNotImplementedError\u001b[0m\u001b[0;34m(\u001b[0m\u001b[0;34m)\u001b[0m\u001b[0;34m\u001b[0m\u001b[0;34m\u001b[0m\u001b[0m\n\u001b[0m\u001b[1;32m     18\u001b[0m             \u001b[0moutput\u001b[0m\u001b[0;34m,\u001b[0m \u001b[0mhidden\u001b[0m \u001b[0;34m=\u001b[0m \u001b[0mmodel_char\u001b[0m\u001b[0;34m(\u001b[0m\u001b[0minputs\u001b[0m\u001b[0;34m[\u001b[0m\u001b[0;34m:\u001b[0m\u001b[0;34m,\u001b[0m \u001b[0mchar_idx\u001b[0m\u001b[0;34m]\u001b[0m\u001b[0;34m.\u001b[0m\u001b[0mto\u001b[0m\u001b[0;34m(\u001b[0m\u001b[0mdevice_char\u001b[0m\u001b[0;34m)\u001b[0m\u001b[0;34m,\u001b[0m \u001b[0mhidden\u001b[0m\u001b[0;34m)\u001b[0m\u001b[0;34m\u001b[0m\u001b[0;34m\u001b[0m\u001b[0m\n\u001b[1;32m     19\u001b[0m             \u001b[0mloss\u001b[0m \u001b[0;34m+=\u001b[0m \u001b[0mcriterion\u001b[0m\u001b[0;34m(\u001b[0m\u001b[0moutput\u001b[0m\u001b[0;34m,\u001b[0m \u001b[0mtargets\u001b[0m\u001b[0;34m[\u001b[0m\u001b[0;34m:\u001b[0m\u001b[0;34m,\u001b[0m \u001b[0mchar_idx\u001b[0m\u001b[0;34m]\u001b[0m\u001b[0;34m.\u001b[0m\u001b[0mto\u001b[0m\u001b[0;34m(\u001b[0m\u001b[0mdevice_char\u001b[0m\u001b[0;34m)\u001b[0m\u001b[0;34m)\u001b[0m\u001b[0;34m\u001b[0m\u001b[0;34m\u001b[0m\u001b[0m\n",
            "\u001b[0;31mNotImplementedError\u001b[0m: "
          ]
        }
      ]
    },
    {
      "cell_type": "markdown",
      "metadata": {
        "id": "F5KJlq_yk4xi"
      },
      "source": [
        "Now lets test this:"
      ]
    },
    {
      "cell_type": "code",
      "metadata": {
        "id": "TsxjlCe9-UJd"
      },
      "source": [
        "def pretty_print(text):\n",
        "    \"\"\"Wrap text for nice printing.\"\"\"\n",
        "    to_print = ''\n",
        "    for paragraph in text.split('\\n'):\n",
        "        to_print += '\\n'.join(wrap(paragraph))\n",
        "        to_print += '\\n'\n",
        "    print(to_print)\n",
        "\n",
        "#this temperature defines how \"strict\" the RNN is following the original\n",
        "temperature = 1.0\n",
        "\n",
        "model_char.eval()\n",
        "seed = '\\n'\n",
        "text = ''\n",
        "with torch.no_grad():\n",
        "    batch_size = 1\n",
        "    hidden = model_char.init_hidden(batch_size)\n",
        "    last_char = dataset_char.char2idx[seed]\n",
        "    for _ in range(1000):\n",
        "        output, hidden = model_char(torch.LongTensor([last_char]).to(device_char), hidden)\n",
        "        \n",
        "        #find the next char\n",
        "        distribution = output.squeeze().div(temperature).exp()\n",
        "        guess = torch.multinomial(distribution, 1).item()\n",
        "        \n",
        "        #the next char is the new last_char\n",
        "        last_char = guess\n",
        "\n",
        "        #append char to text.\n",
        "        text += dataset_char.idx2char[guess]\n",
        "        \n",
        "pretty_print(text)"
      ],
      "execution_count": null,
      "outputs": []
    },
    {
      "cell_type": "markdown",
      "metadata": {
        "id": "fhUG73OHib1R"
      },
      "source": [
        "Even though it may not be sentences, those words already sound like they are out of the mouth of your fitness coach. Maybe our word-level-model can do more."
      ]
    },
    {
      "cell_type": "markdown",
      "metadata": {
        "id": "mqXvJapdIMCi"
      },
      "source": [
        "<h2>5. Word-RNN: Word-level text generation</h2>\r\n",
        "\r\n",
        "Since the Dataset is originally made for char-level-generation this of course is probably not appropriate for word-level-generator. Just as a prove of concept, we will still show you how it works. The results are still quite good."
      ]
    },
    {
      "cell_type": "code",
      "metadata": {
        "id": "DXx0-gArPPjd"
      },
      "source": [
        "model_word = RNN(vocab_size=dataset_word.vocab_size, device=device_word).to(device_word)\n",
        "\n",
        "criterion = nn.CrossEntropyLoss()\n",
        "optimizer = optim.Adam(\n",
        "    filter(lambda p: p.requires_grad, model_word.parameters()),\n",
        "    lr=0.001,\n",
        ")"
      ],
      "execution_count": null,
      "outputs": []
    },
    {
      "cell_type": "code",
      "metadata": {
        "id": "Rx8L3RGXPPje"
      },
      "source": [
        "print(model_word)\n",
        "print()\n",
        "print('Trainable parameters:')\n",
        "print('\\n'.join([' * ' + x[0] for x in model_word.named_parameters() if x[1].requires_grad]))"
      ],
      "execution_count": null,
      "outputs": []
    },
    {
      "cell_type": "markdown",
      "metadata": {
        "id": "bLDenti0PPjf"
      },
      "source": [
        "![](https://github.com/HSinger04/DL4NLP/blob/master/src/images/char_rnn_diagram.png?raw=1)"
      ]
    },
    {
      "cell_type": "markdown",
      "metadata": {
        "id": "5SLh24QhgT3h"
      },
      "source": [
        "**5.1**\r\n",
        "<br>\r\n",
        "(4 Points)\r\n",
        "Now that you have seen, how our character-level model is trained, it is time to do the same for our word-level-model.\r\n",
        "Now it is your turn to implement the loss function. Have a look at the code from char-level-generation as an orientation. "
      ]
    },
    {
      "cell_type": "code",
      "metadata": {
        "id": "vz1lP9LcgUYS"
      },
      "source": [
        "\r\n",
        "model_word.train()\r\n",
        "train_losses = []\r\n",
        "for epoch in range(50):\r\n",
        "    progress_bar = tqdm(train_loader_word, leave=False)\r\n",
        "    losses = []\r\n",
        "    total = 0\r\n",
        "    for inputs, targets in progress_bar:\r\n",
        "        batch_size = inputs.size(0)\r\n",
        "        hidden = model_word.init_hidden(batch_size)\r\n",
        "\r\n",
        "        model_word.zero_grad()\r\n",
        "        \r\n",
        "        loss = 0\r\n",
        "        #Your Code here\r\n",
        "\r\n",
        "        loss.backward()\r\n",
        "\r\n",
        "        optimizer.step()\r\n",
        "        \r\n",
        "        avg_loss = loss.item() / inputs.size(1)\r\n",
        "        \r\n",
        "        progress_bar.set_description(f'Loss: {avg_loss:.3f}')\r\n",
        "        \r\n",
        "        losses.append(avg_loss)\r\n",
        "        total += 1\r\n",
        "    \r\n",
        "    epoch_loss = sum(losses) / total\r\n",
        "    train_losses.append(epoch_loss)\r\n",
        "        \r\n",
        "    tqdm.write(f'Epoch #{epoch + 1}\\tTrain Loss: {epoch_loss:.3f}')"
      ],
      "execution_count": null,
      "outputs": []
    },
    {
      "cell_type": "markdown",
      "metadata": {
        "id": "np52XAlcg_nD"
      },
      "source": [
        "Big finale: Now we want you to test your model: Try it out and look if it works."
      ]
    },
    {
      "cell_type": "code",
      "metadata": {
        "id": "XYjYvLJEPPjg"
      },
      "source": [
        "def pretty_print(text):\n",
        "    \"\"\"Wrap text for nice printing.\"\"\"\n",
        "    to_print = ''\n",
        "    for paragraph in text.split('\\n'):\n",
        "        to_print += '\\n'.join(wrap(paragraph))\n",
        "        to_print += '\\n'\n",
        "    print(to_print)\n",
        "\n",
        "\n",
        "\n",
        "def generate(keywords, model_word):\n",
        "\n",
        "\n",
        "  keywords=keywords.lower()\n",
        "  text_tokens=[]\n",
        "  #for every sentence.,.\n",
        "  texts_sent=sent_tokenize(keywords)\n",
        "  for sent in texts_sent:\n",
        "    #we seperate the sentece into words...\n",
        "    sent=word_tokenize(sent)\n",
        "    #...and add these words into this list\n",
        "    for token in sent:\n",
        "      text_tokens+=[token+\" \"]\n",
        "  #our seed is only the last word of your input\n",
        "  seed=text_tokens[-1]\n",
        "  \n",
        "  #check if your word is even in the training-data\n",
        "  try:\n",
        "    dataset_word.word2idx[seed]\n",
        "  except KeyError:\n",
        "    print(\"the Word\",seed,\"is not part of the learned words and therefore can not be used as starting point for the new text\")\n",
        "\n",
        "  temperature = 1.0 \n",
        "\n",
        "  model_word.eval()\n",
        "  text = \"\"\n",
        "  with torch.no_grad():\n",
        "      batch_size = 1\n",
        "      hidden = model_word.init_hidden(batch_size)\n",
        "      last_word = dataset_word.word2idx[seed]\n",
        "      for _ in range(100):\n",
        "          output, hidden = model_word(torch.LongTensor([last_word]).to(device_word), hidden)\n",
        "          \n",
        "          distribution = output.squeeze().div(temperature).exp()\n",
        "          guess = torch.multinomial(distribution, 1).item()\n",
        "          \n",
        "          last_word = guess\n",
        "          text += dataset_word.idx2word[guess]\n",
        "  return text     \n",
        "\n",
        "\n",
        "keywords=input(\"Start your text about fitness with a few words: \")\n",
        "\n",
        "text=generate(keywords, model_word)\n",
        "pretty_print(text)"
      ],
      "execution_count": null,
      "outputs": []
    },
    {
      "cell_type": "markdown",
      "metadata": {
        "id": "7lXArrWduviN"
      },
      "source": [
        "Now you can look at the resuls of your Char-Level and Word-Level-Model. This of course is not graded, but might be interesting for you."
      ]
    },
    {
      "cell_type": "markdown",
      "metadata": {
        "id": "zhJY0Jw108xR"
      },
      "source": [
        "Congratulation! You are done now"
      ]
    }
  ]
}