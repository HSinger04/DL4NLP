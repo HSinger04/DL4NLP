{
 "nbformat": 4,
 "nbformat_minor": 0,
 "metadata": {
  "anaconda-cloud": {},
  "colab": {
   "name": "practical1.ipynb",
   "provenance": [],
   "collapsed_sections": [
    "Zavi0t3vaBvN"
   ]
  },
  "kernelspec": {
   "display_name": "Python 3",
   "language": "python",
   "name": "python3"
  },
  "language_info": {
   "codemirror_mode": {
    "name": "ipython",
    "version": 3
   },
   "file_extension": ".py",
   "mimetype": "text/x-python",
   "name": "python",
   "nbconvert_exporter": "python",
   "pygments_lexer": "ipython3",
   "version": "3.7.7"
  }
 },
 "cells": [
  {
   "cell_type": "markdown",
   "metadata": {
    "collapsed": false,
    "id": "Xv2OlMsg2Bpc"
   },
   "source": [
    "[![Open In Colab](https://colab.research.google.com/assets/colab-badge.svg)](https://colab.research.google.com/github/HSinger04/DL4NLP/blob/master/src/assignment1.ipynb)"
   ]
  },
  {
   "cell_type": "markdown",
   "metadata": {
    "id": "ighIhhiLaBtR"
   },
   "source": [
    "## Practical Exercise 1: word2vec\n",
    "By Joline Janz and Frederik Wollatz"
   ]
  },
  {
   "cell_type": "markdown",
   "metadata": {
    "id": "MG7euCYV2Bpj"
   },
   "source": [
    "Each Notebook will contribute equaly to your final grade."
   ]
  },
  {
   "cell_type": "markdown",
   "metadata": {
    "id": "qCmr1p64aBtW"
   },
   "source": [
    "This practical Exercise is presented as an IPython Notebook, with the code written for recent versions of **Python 3**. \n",
    "\n",
    "To execute a notebook cell, press `shift-enter`. The return value of the last command will be displayed, if it is not `None`.\n",
    "\n",
    "Potentially useful library documentation, references, and resources:\n",
    "\n",
    "* IPython notebooks: <https://ipython.org/ipython-doc/3/notebook/notebook.html#introduction>\n",
    "* Numpy numerical array library: <https://docs.scipy.org/doc/>\n",
    "* Gensim's word2vec: <https://radimrehurek.com/gensim/models/word2vec.html>\n",
    "* Bokeh interactive plots: <http://bokeh.pydata.org/en/latest/> (we provide plotting code here, but click the thumbnails for more examples to copy-paste)\n",
    "* scikit-learn ML library (aka `sklearn`): <http://scikit-learn.org/stable/documentation.html>\n",
    "* nltk NLP toolkit: <http://www.nltk.org/>\n",
    "* tutorial for processing xml in python using `lxml`: <http://lxml.de/tutorial.html> (we did this for you below, but in case you need it in the future)"
   ]
  },
  {
   "cell_type": "markdown",
   "metadata": {
    "id": "ZoKd2JJZ2Bpo"
   },
   "source": [
    "In this Notebook you will learn the basics on how to construct a word-embedding. As you recall from the lecture, word-embeddings are a type of word representation that allows words with similar meaning to have a similar representation. To do this, words are represented as real-valued vectors in a predefined vector space. Additionally, you will also learn how to use some basic NLP tools like tokenization and regular Expressions!\n",
    "Good Luck!"
   ]
  },
  {
   "cell_type": "code",
   "metadata": {
    "id": "569W6MImaBtX"
   },
   "source": [
    "import numpy as np\n",
    "import os\n",
    "from random import shuffle\n",
    "import re"
   ],
   "execution_count": 60,
   "outputs": []
  },
  {
   "cell_type": "code",
   "metadata": {
    "id": "rsgimgrUaBtd"
   },
   "source": [
    "from bokeh.models import ColumnDataSource, LabelSet\n",
    "from bokeh.plotting import figure, show, output_file\n",
    "from bokeh.io import output_notebook\n",
    "output_notebook()"
   ],
   "execution_count": 61,
   "outputs": [
    {
     "data": {
      "text/html": "\n    <div class=\"bk-root\">\n        <a href=\"https://bokeh.org\" target=\"_blank\" class=\"bk-logo bk-logo-small bk-logo-notebook\"></a>\n        <span id=\"1357\">Loading BokehJS ...</span>\n    </div>"
     },
     "metadata": {},
     "output_type": "display_data"
    },
    {
     "data": {
      "application/javascript": "\n(function(root) {\n  function now() {\n    return new Date();\n  }\n\n  var force = true;\n\n  if (typeof root._bokeh_onload_callbacks === \"undefined\" || force === true) {\n    root._bokeh_onload_callbacks = [];\n    root._bokeh_is_loading = undefined;\n  }\n\n  var JS_MIME_TYPE = 'application/javascript';\n  var HTML_MIME_TYPE = 'text/html';\n  var EXEC_MIME_TYPE = 'application/vnd.bokehjs_exec.v0+json';\n  var CLASS_NAME = 'output_bokeh rendered_html';\n\n  /**\n   * Render data to the DOM node\n   */\n  function render(props, node) {\n    var script = document.createElement(\"script\");\n    node.appendChild(script);\n  }\n\n  /**\n   * Handle when an output is cleared or removed\n   */\n  function handleClearOutput(event, handle) {\n    var cell = handle.cell;\n\n    var id = cell.output_area._bokeh_element_id;\n    var server_id = cell.output_area._bokeh_server_id;\n    // Clean up Bokeh references\n    if (id != null && id in Bokeh.index) {\n      Bokeh.index[id].model.document.clear();\n      delete Bokeh.index[id];\n    }\n\n    if (server_id !== undefined) {\n      // Clean up Bokeh references\n      var cmd = \"from bokeh.io.state import curstate; print(curstate().uuid_to_server['\" + server_id + \"'].get_sessions()[0].document.roots[0]._id)\";\n      cell.notebook.kernel.execute(cmd, {\n        iopub: {\n          output: function(msg) {\n            var id = msg.content.text.trim();\n            if (id in Bokeh.index) {\n              Bokeh.index[id].model.document.clear();\n              delete Bokeh.index[id];\n            }\n          }\n        }\n      });\n      // Destroy server and session\n      var cmd = \"import bokeh.io.notebook as ion; ion.destroy_server('\" + server_id + \"')\";\n      cell.notebook.kernel.execute(cmd);\n    }\n  }\n\n  /**\n   * Handle when a new output is added\n   */\n  function handleAddOutput(event, handle) {\n    var output_area = handle.output_area;\n    var output = handle.output;\n\n    // limit handleAddOutput to display_data with EXEC_MIME_TYPE content only\n    if ((output.output_type != \"display_data\") || (!output.data.hasOwnProperty(EXEC_MIME_TYPE))) {\n      return\n    }\n\n    var toinsert = output_area.element.find(\".\" + CLASS_NAME.split(' ')[0]);\n\n    if (output.metadata[EXEC_MIME_TYPE][\"id\"] !== undefined) {\n      toinsert[toinsert.length - 1].firstChild.textContent = output.data[JS_MIME_TYPE];\n      // store reference to embed id on output_area\n      output_area._bokeh_element_id = output.metadata[EXEC_MIME_TYPE][\"id\"];\n    }\n    if (output.metadata[EXEC_MIME_TYPE][\"server_id\"] !== undefined) {\n      var bk_div = document.createElement(\"div\");\n      bk_div.innerHTML = output.data[HTML_MIME_TYPE];\n      var script_attrs = bk_div.children[0].attributes;\n      for (var i = 0; i < script_attrs.length; i++) {\n        toinsert[toinsert.length - 1].firstChild.setAttribute(script_attrs[i].name, script_attrs[i].value);\n        toinsert[toinsert.length - 1].firstChild.textContent = bk_div.children[0].textContent\n      }\n      // store reference to server id on output_area\n      output_area._bokeh_server_id = output.metadata[EXEC_MIME_TYPE][\"server_id\"];\n    }\n  }\n\n  function register_renderer(events, OutputArea) {\n\n    function append_mime(data, metadata, element) {\n      // create a DOM node to render to\n      var toinsert = this.create_output_subarea(\n        metadata,\n        CLASS_NAME,\n        EXEC_MIME_TYPE\n      );\n      this.keyboard_manager.register_events(toinsert);\n      // Render to node\n      var props = {data: data, metadata: metadata[EXEC_MIME_TYPE]};\n      render(props, toinsert[toinsert.length - 1]);\n      element.append(toinsert);\n      return toinsert\n    }\n\n    /* Handle when an output is cleared or removed */\n    events.on('clear_output.CodeCell', handleClearOutput);\n    events.on('delete.Cell', handleClearOutput);\n\n    /* Handle when a new output is added */\n    events.on('output_added.OutputArea', handleAddOutput);\n\n    /**\n     * Register the mime type and append_mime function with output_area\n     */\n    OutputArea.prototype.register_mime_type(EXEC_MIME_TYPE, append_mime, {\n      /* Is output safe? */\n      safe: true,\n      /* Index of renderer in `output_area.display_order` */\n      index: 0\n    });\n  }\n\n  // register the mime type if in Jupyter Notebook environment and previously unregistered\n  if (root.Jupyter !== undefined) {\n    var events = require('base/js/events');\n    var OutputArea = require('notebook/js/outputarea').OutputArea;\n\n    if (OutputArea.prototype.mime_types().indexOf(EXEC_MIME_TYPE) == -1) {\n      register_renderer(events, OutputArea);\n    }\n  }\n\n  \n  if (typeof (root._bokeh_timeout) === \"undefined\" || force === true) {\n    root._bokeh_timeout = Date.now() + 5000;\n    root._bokeh_failed_load = false;\n  }\n\n  var NB_LOAD_WARNING = {'data': {'text/html':\n     \"<div style='background-color: #fdd'>\\n\"+\n     \"<p>\\n\"+\n     \"BokehJS does not appear to have successfully loaded. If loading BokehJS from CDN, this \\n\"+\n     \"may be due to a slow or bad network connection. Possible fixes:\\n\"+\n     \"</p>\\n\"+\n     \"<ul>\\n\"+\n     \"<li>re-rerun `output_notebook()` to attempt to load from CDN again, or</li>\\n\"+\n     \"<li>use INLINE resources instead, as so:</li>\\n\"+\n     \"</ul>\\n\"+\n     \"<code>\\n\"+\n     \"from bokeh.resources import INLINE\\n\"+\n     \"output_notebook(resources=INLINE)\\n\"+\n     \"</code>\\n\"+\n     \"</div>\"}};\n\n  function display_loaded() {\n    var el = document.getElementById(\"1357\");\n    if (el != null) {\n      el.textContent = \"BokehJS is loading...\";\n    }\n    if (root.Bokeh !== undefined) {\n      if (el != null) {\n        el.textContent = \"BokehJS \" + root.Bokeh.version + \" successfully loaded.\";\n      }\n    } else if (Date.now() < root._bokeh_timeout) {\n      setTimeout(display_loaded, 100)\n    }\n  }\n\n\n  function run_callbacks() {\n    try {\n      root._bokeh_onload_callbacks.forEach(function(callback) {\n        if (callback != null)\n          callback();\n      });\n    } finally {\n      delete root._bokeh_onload_callbacks\n    }\n    console.debug(\"Bokeh: all callbacks have finished\");\n  }\n\n  function load_libs(css_urls, js_urls, callback) {\n    if (css_urls == null) css_urls = [];\n    if (js_urls == null) js_urls = [];\n\n    root._bokeh_onload_callbacks.push(callback);\n    if (root._bokeh_is_loading > 0) {\n      console.debug(\"Bokeh: BokehJS is being loaded, scheduling callback at\", now());\n      return null;\n    }\n    if (js_urls == null || js_urls.length === 0) {\n      run_callbacks();\n      return null;\n    }\n    console.debug(\"Bokeh: BokehJS not loaded, scheduling load and callback at\", now());\n    root._bokeh_is_loading = css_urls.length + js_urls.length;\n\n    function on_load() {\n      root._bokeh_is_loading--;\n      if (root._bokeh_is_loading === 0) {\n        console.debug(\"Bokeh: all BokehJS libraries/stylesheets loaded\");\n        run_callbacks()\n      }\n    }\n\n    function on_error() {\n      console.error(\"failed to load \" + url);\n    }\n\n    for (var i = 0; i < css_urls.length; i++) {\n      var url = css_urls[i];\n      const element = document.createElement(\"link\");\n      element.onload = on_load;\n      element.onerror = on_error;\n      element.rel = \"stylesheet\";\n      element.type = \"text/css\";\n      element.href = url;\n      console.debug(\"Bokeh: injecting link tag for BokehJS stylesheet: \", url);\n      document.body.appendChild(element);\n    }\n\n    const hashes = {\"https://cdn.bokeh.org/bokeh/release/bokeh-2.2.3.min.js\": \"T2yuo9Oe71Cz/I4X9Ac5+gpEa5a8PpJCDlqKYO0CfAuEszu1JrXLl8YugMqYe3sM\", \"https://cdn.bokeh.org/bokeh/release/bokeh-widgets-2.2.3.min.js\": \"98GDGJ0kOMCUMUePhksaQ/GYgB3+NH9h996V88sh3aOiUNX3N+fLXAtry6xctSZ6\", \"https://cdn.bokeh.org/bokeh/release/bokeh-tables-2.2.3.min.js\": \"89bArO+nlbP3sgakeHjCo1JYxYR5wufVgA3IbUvDY+K7w4zyxJqssu7wVnfeKCq8\"};\n\n    for (var i = 0; i < js_urls.length; i++) {\n      var url = js_urls[i];\n      var element = document.createElement('script');\n      element.onload = on_load;\n      element.onerror = on_error;\n      element.async = false;\n      element.src = url;\n      if (url in hashes) {\n        element.crossOrigin = \"anonymous\";\n        element.integrity = \"sha384-\" + hashes[url];\n      }\n      console.debug(\"Bokeh: injecting script tag for BokehJS library: \", url);\n      document.head.appendChild(element);\n    }\n  };\n\n  function inject_raw_css(css) {\n    const element = document.createElement(\"style\");\n    element.appendChild(document.createTextNode(css));\n    document.body.appendChild(element);\n  }\n\n  \n  var js_urls = [\"https://cdn.bokeh.org/bokeh/release/bokeh-2.2.3.min.js\", \"https://cdn.bokeh.org/bokeh/release/bokeh-widgets-2.2.3.min.js\", \"https://cdn.bokeh.org/bokeh/release/bokeh-tables-2.2.3.min.js\"];\n  var css_urls = [];\n  \n\n  var inline_js = [\n    function(Bokeh) {\n      Bokeh.set_log_level(\"info\");\n    },\n    function(Bokeh) {\n    \n    \n    }\n  ];\n\n  function run_inline_js() {\n    \n    if (root.Bokeh !== undefined || force === true) {\n      \n    for (var i = 0; i < inline_js.length; i++) {\n      inline_js[i].call(root, root.Bokeh);\n    }\n    if (force === true) {\n        display_loaded();\n      }} else if (Date.now() < root._bokeh_timeout) {\n      setTimeout(run_inline_js, 100);\n    } else if (!root._bokeh_failed_load) {\n      console.log(\"Bokeh: BokehJS failed to load within specified timeout.\");\n      root._bokeh_failed_load = true;\n    } else if (force !== true) {\n      var cell = $(document.getElementById(\"1357\")).parents('.cell').data().cell;\n      cell.output_area.append_execute_result(NB_LOAD_WARNING)\n    }\n\n  }\n\n  if (root._bokeh_is_loading === 0) {\n    console.debug(\"Bokeh: BokehJS loaded, going straight to plotting\");\n    run_inline_js();\n  } else {\n    load_libs(css_urls, js_urls, function() {\n      console.debug(\"Bokeh: BokehJS plotting callback run at\", now());\n      run_inline_js();\n    });\n  }\n}(window));",
      "application/vnd.bokehjs_load.v0+json": "\n(function(root) {\n  function now() {\n    return new Date();\n  }\n\n  var force = true;\n\n  if (typeof root._bokeh_onload_callbacks === \"undefined\" || force === true) {\n    root._bokeh_onload_callbacks = [];\n    root._bokeh_is_loading = undefined;\n  }\n\n  \n\n  \n  if (typeof (root._bokeh_timeout) === \"undefined\" || force === true) {\n    root._bokeh_timeout = Date.now() + 5000;\n    root._bokeh_failed_load = false;\n  }\n\n  var NB_LOAD_WARNING = {'data': {'text/html':\n     \"<div style='background-color: #fdd'>\\n\"+\n     \"<p>\\n\"+\n     \"BokehJS does not appear to have successfully loaded. If loading BokehJS from CDN, this \\n\"+\n     \"may be due to a slow or bad network connection. Possible fixes:\\n\"+\n     \"</p>\\n\"+\n     \"<ul>\\n\"+\n     \"<li>re-rerun `output_notebook()` to attempt to load from CDN again, or</li>\\n\"+\n     \"<li>use INLINE resources instead, as so:</li>\\n\"+\n     \"</ul>\\n\"+\n     \"<code>\\n\"+\n     \"from bokeh.resources import INLINE\\n\"+\n     \"output_notebook(resources=INLINE)\\n\"+\n     \"</code>\\n\"+\n     \"</div>\"}};\n\n  function display_loaded() {\n    var el = document.getElementById(\"1357\");\n    if (el != null) {\n      el.textContent = \"BokehJS is loading...\";\n    }\n    if (root.Bokeh !== undefined) {\n      if (el != null) {\n        el.textContent = \"BokehJS \" + root.Bokeh.version + \" successfully loaded.\";\n      }\n    } else if (Date.now() < root._bokeh_timeout) {\n      setTimeout(display_loaded, 100)\n    }\n  }\n\n\n  function run_callbacks() {\n    try {\n      root._bokeh_onload_callbacks.forEach(function(callback) {\n        if (callback != null)\n          callback();\n      });\n    } finally {\n      delete root._bokeh_onload_callbacks\n    }\n    console.debug(\"Bokeh: all callbacks have finished\");\n  }\n\n  function load_libs(css_urls, js_urls, callback) {\n    if (css_urls == null) css_urls = [];\n    if (js_urls == null) js_urls = [];\n\n    root._bokeh_onload_callbacks.push(callback);\n    if (root._bokeh_is_loading > 0) {\n      console.debug(\"Bokeh: BokehJS is being loaded, scheduling callback at\", now());\n      return null;\n    }\n    if (js_urls == null || js_urls.length === 0) {\n      run_callbacks();\n      return null;\n    }\n    console.debug(\"Bokeh: BokehJS not loaded, scheduling load and callback at\", now());\n    root._bokeh_is_loading = css_urls.length + js_urls.length;\n\n    function on_load() {\n      root._bokeh_is_loading--;\n      if (root._bokeh_is_loading === 0) {\n        console.debug(\"Bokeh: all BokehJS libraries/stylesheets loaded\");\n        run_callbacks()\n      }\n    }\n\n    function on_error() {\n      console.error(\"failed to load \" + url);\n    }\n\n    for (var i = 0; i < css_urls.length; i++) {\n      var url = css_urls[i];\n      const element = document.createElement(\"link\");\n      element.onload = on_load;\n      element.onerror = on_error;\n      element.rel = \"stylesheet\";\n      element.type = \"text/css\";\n      element.href = url;\n      console.debug(\"Bokeh: injecting link tag for BokehJS stylesheet: \", url);\n      document.body.appendChild(element);\n    }\n\n    const hashes = {\"https://cdn.bokeh.org/bokeh/release/bokeh-2.2.3.min.js\": \"T2yuo9Oe71Cz/I4X9Ac5+gpEa5a8PpJCDlqKYO0CfAuEszu1JrXLl8YugMqYe3sM\", \"https://cdn.bokeh.org/bokeh/release/bokeh-widgets-2.2.3.min.js\": \"98GDGJ0kOMCUMUePhksaQ/GYgB3+NH9h996V88sh3aOiUNX3N+fLXAtry6xctSZ6\", \"https://cdn.bokeh.org/bokeh/release/bokeh-tables-2.2.3.min.js\": \"89bArO+nlbP3sgakeHjCo1JYxYR5wufVgA3IbUvDY+K7w4zyxJqssu7wVnfeKCq8\"};\n\n    for (var i = 0; i < js_urls.length; i++) {\n      var url = js_urls[i];\n      var element = document.createElement('script');\n      element.onload = on_load;\n      element.onerror = on_error;\n      element.async = false;\n      element.src = url;\n      if (url in hashes) {\n        element.crossOrigin = \"anonymous\";\n        element.integrity = \"sha384-\" + hashes[url];\n      }\n      console.debug(\"Bokeh: injecting script tag for BokehJS library: \", url);\n      document.head.appendChild(element);\n    }\n  };\n\n  function inject_raw_css(css) {\n    const element = document.createElement(\"style\");\n    element.appendChild(document.createTextNode(css));\n    document.body.appendChild(element);\n  }\n\n  \n  var js_urls = [\"https://cdn.bokeh.org/bokeh/release/bokeh-2.2.3.min.js\", \"https://cdn.bokeh.org/bokeh/release/bokeh-widgets-2.2.3.min.js\", \"https://cdn.bokeh.org/bokeh/release/bokeh-tables-2.2.3.min.js\"];\n  var css_urls = [];\n  \n\n  var inline_js = [\n    function(Bokeh) {\n      Bokeh.set_log_level(\"info\");\n    },\n    function(Bokeh) {\n    \n    \n    }\n  ];\n\n  function run_inline_js() {\n    \n    if (root.Bokeh !== undefined || force === true) {\n      \n    for (var i = 0; i < inline_js.length; i++) {\n      inline_js[i].call(root, root.Bokeh);\n    }\n    if (force === true) {\n        display_loaded();\n      }} else if (Date.now() < root._bokeh_timeout) {\n      setTimeout(run_inline_js, 100);\n    } else if (!root._bokeh_failed_load) {\n      console.log(\"Bokeh: BokehJS failed to load within specified timeout.\");\n      root._bokeh_failed_load = true;\n    } else if (force !== true) {\n      var cell = $(document.getElementById(\"1357\")).parents('.cell').data().cell;\n      cell.output_area.append_execute_result(NB_LOAD_WARNING)\n    }\n\n  }\n\n  if (root._bokeh_is_loading === 0) {\n    console.debug(\"Bokeh: BokehJS loaded, going straight to plotting\");\n    run_inline_js();\n  } else {\n    load_libs(css_urls, js_urls, function() {\n      console.debug(\"Bokeh: BokehJS plotting callback run at\", now());\n      run_inline_js();\n    });\n  }\n}(window));"
     },
     "metadata": {},
     "output_type": "display_data"
    }
   ]
  },
  {
   "cell_type": "code",
   "metadata": {
    "id": "ofHeuGejaZHs"
   },
   "source": [
    "try: \n",
    "    import nltk\n",
    "except:\n",
    "    import sys #Here we install nltk. You only have to execute this cell once!\n",
    "    !{sys.executable} -m pip install nltk \n",
    "    import nltk\n",
    "    nltk.download()"
   ],
   "execution_count": 62,
   "outputs": []
  },
  {
   "cell_type": "markdown",
   "metadata": {
    "id": "Haav4K7YaBti"
   },
   "source": [
    "### Part 0: Download the TED dataset"
   ]
  },
  {
   "cell_type": "markdown",
   "metadata": {
    "id": "5IWfXKbC2Bpw"
   },
   "source": [
    "As input we need a large amount of text data. We will use the TED database, which are the transcripts of Ted Talks. The next cells will download everything you need, this might take a while as the dataset is 75MB."
   ]
  },
  {
   "cell_type": "code",
   "metadata": {
    "id": "stf464BBaBtj"
   },
   "source": [
    "import urllib.request\n",
    "import zipfile\n",
    "import lxml.etree"
   ],
   "execution_count": 63,
   "outputs": []
  },
  {
   "cell_type": "code",
   "metadata": {
    "id": "91T_rkPbaBtn"
   },
   "source": [
    "# Download the dataset if it's not already there: this may take a minute as it is 75MB\n",
    "if not (os.path.isfile('ted_en-20160408.zip') or gdrive_path):\n",
    "    urllib.request.urlretrieve(\"https://wit3.fbk.eu/get.php?path=XML_releases/xml/ted_en-20160408.zip&filename=ted_en-20160408.zip\", filename=\"ted_en-20160408.zip\")"
   ],
   "execution_count": 64,
   "outputs": []
  },
  {
   "cell_type": "code",
   "metadata": {
    "id": "0oWf1JkvaBtr"
   },
   "source": [
    "# For now, we're only interested in the subtitle text, so let's extract that from the XML:\n",
    "with zipfile.ZipFile(gdrive_path + 'ted_en-20160408.zip', 'r') as z:\n",
    "    doc = lxml.etree.parse(z.open('ted_en-20160408.xml', 'r'))\n",
    "input_text = '\\n'.join(doc.xpath('//content/text()'))\n",
    "del doc"
   ],
   "execution_count": 65,
   "outputs": []
  },
  {
   "cell_type": "markdown",
   "metadata": {
    "id": "G9UVfpExaBtu"
   },
   "source": [
    "### Part 1: Preprocessing\n",
    "\n",
    "Before using our text, we need to preprocess it. Therefore, we bring it into a form that is predictable and analyzable. We attempt to clean up the raw subtitles a bit, so that we get only complete sentences. The following substring shows examples of what we're trying to get rid of. Since it's hard to define precisely what we want to get rid of, we'll just use some simple heuristics."
   ]
  },
  {
   "cell_type": "markdown",
   "metadata": {
    "id": "eKWHxHG7bkWa"
   },
   "source": [
    "<h4>Execercise 1.1 (2 Points)</h4> \n",
    "Before we work with the data we should have a look at it. We already marked some areas for you, that need to be cleaned. You do not have to code anything here, you just have to become aware of sensitive preprocessing steps."
   ]
  },
  {
   "cell_type": "code",
   "metadata": {
    "colab": {
     "base_uri": "https://localhost:8080/"
    },
    "id": "yGpx6RFzaBtv",
    "scrolled": false,
    "outputId": "3750bb60-df42-4154-c6b1-d67061e06b13"
   },
   "source": [
    "#Have a look at the output of this code, to see some examples\n",
    "i = input_text.find(\"Hyowon Gweon: See this?\")\n",
    "print(input_text[i:i+145])\n",
    "\n",
    "\n",
    "i = input_text.find(\"You will earn\")\n",
    "print(input_text[i:i+30])"
   ],
   "execution_count": 66,
   "outputs": [
    {
     "name": "stdout",
     "output_type": "stream",
     "text": [
      "Hyowon Gweon: See this? (Ball squeaks) Did you see that? (Ball squeaks) Cool. See this one? (Ball squeaks) Wow.\n",
      "Laura Schulz: Told you. (Laughs)\n",
      "\n",
      "You will earn 10% of any gold \n"
     ]
    }
   ]
  },
  {
   "cell_type": "markdown",
   "metadata": {
    "id": "5Y7gtjkWcJ-2"
   },
   "source": [
    "For example the parenthesized strings like \"(Ball squeaks)\" and symbols like % could distort the semantics of words in the embedding. Name at least two more problematic sections and how you would solve them.\n"
   ]
  },
  {
   "cell_type": "markdown",
   "metadata": {
    "id": "nRn3imW72Bp9"
   },
   "source": [
    "<b>Your Solution:</b> \n",
    "<br>- Parenthesized Strings\n",
    "<br>- Percent-Symbol\n",
    "<br>- Speaker Identifier (e.g. \"Hyowon Gweon:\")\n",
    "<br>- Number-Symbol\n"
   ]
  },
  {
   "cell_type": "markdown",
   "metadata": {
    "id": "CH2seZr2aBt1"
   },
   "source": [
    "<h4>Exercise 1.2 (2 Points)</h4>\n",
    "Let's start by removing all parenthesized strings using a regex:"
   ]
  },
  {
   "cell_type": "code",
   "metadata": {
    "colab": {
     "base_uri": "https://localhost:8080/"
    },
    "id": "8u3YXkh5aBt1",
    "outputId": "b51f03fd-1d50-455f-eeaf-fe410fdf530d"
   },
   "source": [
    "i = input_text.find(\"Hyowon Gweon: See this?\")\n",
    "print(\"before\")\n",
    "print(input_text[i:i+93])\n",
    "\n",
    "input_text_noparens = re.sub(r'\\([^)]*\\)', '', input_text) #Identifies everything in parenthesis and replaces it with \"\"\n",
    "\n",
    "\n",
    "#you can use this to verify\n",
    "i = input_text_noparens.find(\"Hyowon Gweon: See this?\")\n",
    "print(\"after\")\n",
    "print(input_text_noparens[i:i+93])\n",
    "\n",
    "#We won't worry about the irregular spaces since we'll later split the text into sentences and tokenize it anyway."
   ],
   "execution_count": 67,
   "outputs": [
    {
     "name": "stdout",
     "output_type": "stream",
     "text": [
      "before\n",
      "Hyowon Gweon: See this? (Ball squeaks) Did you see that? (Ball squeaks) Cool. See this one? (\n",
      "after\n",
      "Hyowon Gweon: See this?  Did you see that?  Cool. See this one?  Wow.\n",
      "Laura Schulz: Told you.\n"
     ]
    }
   ]
  },
  {
   "cell_type": "markdown",
   "metadata": {
    "id": "FtwPNpChdjww"
   },
   "source": [
    "Try it yourself: Replace every percentage Symbol with the word \"percent\""
   ]
  },
  {
   "cell_type": "code",
   "metadata": {
    "colab": {
     "base_uri": "https://localhost:8080/"
    },
    "id": "6o6oEW0AdiDY",
    "outputId": "c2b9a0a7-685a-43c4-cbcc-bcbaed4b176c"
   },
   "source": [
    "i = input_text_noparens.find(\"You will earn\")\n",
    "print(\"before\")\n",
    "print(input_text_noparens[i:i+30])\n",
    "\n",
    "input_text_clean = re.sub(\"%\", \" percent\", input_text_noparens)\n",
    "\n",
    "i = input_text_clean.find(\"You will earn\")\n",
    "print(\"after\")\n",
    "print(input_text_clean[i:i+37])"
   ],
   "execution_count": 68,
   "outputs": [
    {
     "name": "stdout",
     "output_type": "stream",
     "text": [
      "before\n",
      "You will earn 10% of any gold \n",
      "after\n",
      "You will earn 10 percent of any gold \n"
     ]
    }
   ]
  },
  {
   "cell_type": "markdown",
   "metadata": {
    "id": "67ZOyc_9e2aS"
   },
   "source": [
    "<h4>Exercise 1.3 (up to 6 Points)</h4>\n",
    "Now you have learned how to use RegEx to your advantage and have Identified potential parts of the text, that we want to eliminate. We have already implented how to remove all parenthesized strings. It is now your Task to implement at least one more heuristic to replace the problematic parts you previously identified(Exercise 1.1).\n",
    "A simple replacing function (like the one where you replaced \"%\" with \"percent\") gives you two points per function, more complicated implementations will give you the full 6 Points."
   ]
  },
  {
   "cell_type": "code",
   "metadata": {
    "id": "S6NKj6fNfXMQ",
    "colab": {
     "base_uri": "https://localhost:8080/"
    },
    "outputId": "7c90269a-16fa-4e7c-d74b-6a53575281d6"
   },
   "source": [
    "from num2words import num2words\n",
    "\n",
    "search_str = \"by does.\"\n",
    "\n",
    "i = input_text_clean.find(search_str) #find problematic parts\n",
    "print(\"before\")\n",
    "print(input_text_clean[i:i+37]) #and show them\n",
    "\n",
    "# Remove speaker identifiers. Unlike in 1.4, we only remove\n",
    "# substrings before ':' that either consist of two capital letters\n",
    "# for initials or is two words starting with capital letters.\n",
    "# Thus, the problem from 1.4 is resolved, though this ofc\n",
    "# also isn't a perfect solution (e.g. the speaker identifier \"Ray:\"\n",
    "# does not get detected with this method.\n",
    "new_input_text_clean = re.sub(\n",
    "    r'([A-Z]{2}|[A-Z][a-z]+\\s[A-Z][a-z]+):', '', input_text_clean)\n",
    "\n",
    "i = new_input_text_clean.find(search_str) #validate your method\n",
    "print(\"after\")\n",
    "print(new_input_text_clean[i:i+37])\n",
    "\n",
    "\n",
    "search_str = \"You will earn\"\n",
    "i = new_input_text_clean.find(search_str)\n",
    "print(\"before\")\n",
    "print(new_input_text_clean[i:i+30])\n",
    "\n",
    "def num_to_word(line):\n",
    "    \"\"\"\n",
    "    finds and replaces all numbers in numeric format with\n",
    "    word representation.\n",
    "\n",
    "    :param line:\n",
    "    :return: if digit to replace was found, return cleaned line\n",
    "    \"\"\"\n",
    "\n",
    "    # check in line for all maximal number occurences\n",
    "    numbers = re.findall(r'[0-9]+', line)\n",
    "    # if number in numeric format exists, replace\n",
    "    for num in numbers:\n",
    "        line = re.sub(\n",
    "            num,\n",
    "            num2words(num),\n",
    "            line\n",
    "        )\n",
    "    return line\n",
    "\n",
    "X = []\n",
    "for line in new_input_text_clean.split('\\n'):\n",
    "\n",
    "    line = num_to_word(line)\n",
    "    # store in X\n",
    "    X.append(line)\n",
    "\n",
    "new_input_text_clean=\"\".join(X)\n",
    "\n",
    "search_str = \"You will earn\"\n",
    "i = new_input_text_clean.find(search_str)\n",
    "print(\"after\")\n",
    "print(new_input_text_clean[i:i+30])"
   ],
   "execution_count": 69,
   "outputs": [
    {
     "name": "stdout",
     "output_type": "stream",
     "text": [
      "before\n",
      "by does.\n",
      " Hyowon Gweon: See this?  Di\n",
      "after\n",
      "by does.\n",
      "  See this?  Did you see tha\n",
      "before\n",
      "You will earn 10 percent of an\n",
      "after\n",
      "You will earn ten percent of a\n"
     ]
    }
   ]
  },
  {
   "cell_type": "markdown",
   "metadata": {
    "id": "hf2I0FH99VSX"
   },
   "source": [
    "<h4>Exercise 1.4 (4 Points)</h4>\n",
    "What does this block of code do? Identify one flaw. Again, you dont have to code anything here!"
   ]
  },
  {
   "cell_type": "code",
   "metadata": {
    "id": "iESrOqQ32BqQ",
    "outputId": "fd9621ae-21f1-4697-b3c9-7ce753e6ecca",
    "colab": {
     "base_uri": "https://localhost:8080/"
    }
   },
   "source": [
    "i = input_text_clean.find(\"Hyowon Gweon: See this?\")\n",
    "print(\"before:\")\n",
    "print(input_text_clean[i-31:i+92])\n",
    "\n",
    "X = []\n",
    "for line in input_text_clean.split('\\n'):\n",
    "    m = re.match(r'^(?:(?P<precolon>[^:]{,20}):)?(?P<postcolon>.*)$', line)\n",
    "    X.extend(m.groupdict()['postcolon'])\n",
    "input_text_clean2=\"\".join(X)\n",
    "\n",
    "\n",
    "i = input_text_clean2.find(\"See this?\")\n",
    "print(\"after:\")\n",
    "print(input_text_clean2[i-31:i+55])"
   ],
   "execution_count": 70,
   "outputs": [
    {
     "name": "stdout",
     "output_type": "stream",
     "text": [
      "before:\n",
      "let's see what the baby does.\n",
      " Hyowon Gweon: See this?  Did you see that?  Cool. See this one?  Wow.\n",
      "Laura Schulz: Told you\n",
      "after:\n",
      " let's see what the baby does. See this?  Did you see that?  Cool. See this one?  Wow.\n"
     ]
    }
   ]
  },
  {
   "cell_type": "markdown",
   "metadata": {
    "pycharm": {
     "name": "#%% md\n"
    },
    "id": "XtKO1-v82BqQ"
   },
   "source": [
    "This code block removes the speaker identifiers (e.g. Laura Schulz).\n",
    "The flaw is that it removes anything at the start of a new line\n",
    "before the first \":\". However, this also detects and thus deletes\n",
    "strings like 'Second one:' which appear at the start, but are no speaker identifiers\n",
    "(These can be found by running re.findall(r'\\n[^:]{,20}:', new_input_text_clean))."
   ]
  },
  {
   "cell_type": "markdown",
   "metadata": {
    "id": "sX5lFA4XijPm",
    "pycharm": {
     "name": "#%% md\n"
    }
   },
   "source": [
    "<h4>Exercise 1.5 (6 Points)</h4>\n",
    "\n",
    "To build our embedding we need to tokenize every single word. Therefore we first need to split the text into sentences and after that into words. \n",
    "Try it yourself or use the NLTK-Tools build for this (https://www.kite.com/python/docs/nltk.word_tokenize + https://www.kite.com/python/docs/nltk.sent_tokenize).\n",
    "To make it easier to build our Embedding we should also delete every character that is not a letter. Additionally, we could lower vocabulary count. A way to do this is by converting capital characters to lower case characters.\n",
    "\n",
    "Split your text into sentences and save them in the array `sentences_strings_ted`.\n",
    "Save one variabale `tokens` with all the tokens in the text and one array named `sentences_ted` that contains an array for every sentence, with all the tokenized words of that sentence.<br><br>\n",
    "Example:<br>\n",
    "If the Text looks like this: \"I love cake. You have to be honest, you love it too!\", the variables look like:<br><br>\n",
    "sentences_strings_ted=['I love cake.', 'You have to be honest, you love it too!']<br>\n",
    "sentences_ted=[['i', 'love', 'cake'], ['you', 'have', 'to', 'be', 'honest', 'you', 'love', 'it', 'too']]<br>\n",
    "tokens=['i', 'love', 'cake', 'you', 'have', 'to', 'be', 'honest', 'you', 'love', 'it', 'too']<br>\n",
    "\n",
    "\n",
    "Apply this to `new_input_text_clean`"
   ]
  },
  {
   "cell_type": "code",
   "metadata": {
    "pycharm": {
     "name": "#%%\n"
    },
    "id": "SNcfLdHg2BqR",
    "colab": {
     "base_uri": "https://localhost:8080/"
    },
    "outputId": "4b602d10-d181-4465-d524-097f4289d5a1"
   },
   "source": [
    "from nltk.tokenize import RegexpTokenizer\n",
    "\n",
    "sentences_strings_ted = None\n",
    "\n",
    "try:\n",
    "    sentences_strings_ted = nltk.sent_tokenize(\n",
    "        new_input_text_clean\n",
    "    )\n",
    "except:\n",
    "    nltk.download(\"punkt\")\n",
    "    sentences_strings_ted = nltk.sent_tokenize(\n",
    "        new_input_text_clean\n",
    "    )\n",
    "\n",
    "# only keeps tokens that consist of lowercase alphabet letters only\n",
    "reg_tok = RegexpTokenizer(r'[a-z]+')\n",
    "\n",
    "sentences_ted = \\\n",
    "    [reg_tok.tokenize(sent.lower())\n",
    "     for sent in sentences_strings_ted]\n",
    "\n",
    "\n",
    "tokens = \\\n",
    "    [token for sentence in sentences_ted for token in sentence]\n",
    "\n",
    "# print results\n",
    "print(sentences_strings_ted[:2])\n",
    "print(sentences_ted[:2])\n",
    "print(tokens[:50])"
   ],
   "execution_count": 71,
   "outputs": [
    {
     "name": "stdout",
     "output_type": "stream",
     "text": [
      "[\"Here are two reasons companies fail: they only do more of the same, or they only do what's new.To me the real, real solution to quality growth is figuring out the balance between two activities: exploration and exploitation.\", 'Both are necessary, but it can be too much of a good thing.Consider Facit.']\n",
      "[['here', 'are', 'two', 'reasons', 'companies', 'fail', 'they', 'only', 'do', 'more', 'of', 'the', 'same', 'or', 'they', 'only', 'do', 'what', 's', 'new', 'to', 'me', 'the', 'real', 'real', 'solution', 'to', 'quality', 'growth', 'is', 'figuring', 'out', 'the', 'balance', 'between', 'two', 'activities', 'exploration', 'and', 'exploitation'], ['both', 'are', 'necessary', 'but', 'it', 'can', 'be', 'too', 'much', 'of', 'a', 'good', 'thing', 'consider', 'facit']]\n",
      "['here', 'are', 'two', 'reasons', 'companies', 'fail', 'they', 'only', 'do', 'more', 'of', 'the', 'same', 'or', 'they', 'only', 'do', 'what', 's', 'new', 'to', 'me', 'the', 'real', 'real', 'solution', 'to', 'quality', 'growth', 'is', 'figuring', 'out', 'the', 'balance', 'between', 'two', 'activities', 'exploration', 'and', 'exploitation', 'both', 'are', 'necessary', 'but', 'it', 'can', 'be', 'too', 'much', 'of']\n"
     ]
    }
   ]
  },
  {
   "cell_type": "markdown",
   "metadata": {
    "id": "sUiFC0I5j31i"
   },
   "source": [
    "<h4>Exercise 1.6 (1 Point)</h4>\n",
    "The good side is, that by converting all capital letters is, we reduce the volume of the vocabulary. Thereby we dont differentiate between the the words \"today\" and \"Today\". \n",
    "Can you think of any downside to this process?"
   ]
  },
  {
   "cell_type": "markdown",
   "metadata": {
    "id": "nw04JKzB2BqT"
   },
   "source": [
    "Proper nouns are characterized by their capital letters. If e.g. we would have an entity called 'Blue', but also the color 'blue' in our text, we wouldn't be abe to distinguish between them anymore even though they are different words."
   ]
  },
  {
   "cell_type": "markdown",
   "metadata": {
    "id": "g8Fs3pzZmHHv"
   },
   "source": [
    "Now we can have a look at the processed dataset:"
   ]
  },
  {
   "cell_type": "code",
   "metadata": {
    "id": "ooe1gfSZaBuG",
    "outputId": "9d023bb3-11a2-4bc6-9cf0-fb6602f4467c",
    "colab": {
     "base_uri": "https://localhost:8080/"
    }
   },
   "source": [
    "len(sentences_ted)"
   ],
   "execution_count": 72,
   "outputs": [
    {
     "data": {
      "text/plain": "238003"
     },
     "execution_count": 72,
     "metadata": {},
     "output_type": "execute_result"
    }
   ]
  },
  {
   "cell_type": "code",
   "metadata": {
    "id": "Jwdw8QxbaBuJ",
    "outputId": "23eb4b23-11cf-4d8f-8c80-a9236be52743",
    "colab": {
     "base_uri": "https://localhost:8080/"
    }
   },
   "source": [
    "print(sentences_ted[0])\n",
    "print(sentences_ted[-1])"
   ],
   "execution_count": 73,
   "outputs": [
    {
     "name": "stdout",
     "output_type": "stream",
     "text": [
      "['here', 'are', 'two', 'reasons', 'companies', 'fail', 'they', 'only', 'do', 'more', 'of', 'the', 'same', 'or', 'they', 'only', 'do', 'what', 's', 'new', 'to', 'me', 'the', 'real', 'real', 'solution', 'to', 'quality', 'growth', 'is', 'figuring', 'out', 'the', 'balance', 'between', 'two', 'activities', 'exploration', 'and', 'exploitation']\n",
      "['we', 'have', 'nothing', 'to', 'lose', 'and', 'everything', 'to', 'gain', 'ciao', 'bellos']\n"
     ]
    }
   ]
  },
  {
   "cell_type": "markdown",
   "metadata": {
    "id": "SCjkAGHjaBuN"
   },
   "source": [
    "### Part 2: Word Frequencies"
   ]
  },
  {
   "cell_type": "markdown",
   "metadata": {
    "id": "hvLMH0iXaBuO"
   },
   "source": [
    "<h4>Exercise 2.1 (4 Points)</h4>\n",
    "Your next task will be to store the counts of the top 1000 most frequent words in a list called `counts_ted_top1000` ! There are multiple ways to do this. You can have a look at the Counter-Function(https://docs.python.org/2/library/collections.html) or the FreqDist-Function (https://www.kite.com/python/docs/nltk.FreqDist). If you dont trust any of those you can of course build your own function.\n",
    "In the end we want an array with tupels of the structure [(WordA,FrequencyA),(WordB,FrequencyB)]."
   ]
  },
  {
   "cell_type": "code",
   "metadata": {
    "id": "LcQzY8iWaBuP"
   },
   "source": [
    "counts_ted_top1000 = nltk.FreqDist(tokens)\n",
    "\n",
    "counts_ted_top1000tupels = [(word, counts_ted_top1000[word]) for word in counts_ted_top1000]"
   ],
   "execution_count": 74,
   "outputs": []
  },
  {
   "cell_type": "markdown",
   "metadata": {
    "id": "hti5NFdGaBuX"
   },
   "source": [
    "The following code is going to plot a histogramm of the distribution of the  top-30 words."
   ]
  },
  {
   "cell_type": "code",
   "metadata": {
    "id": "KKpWmQz12Bqd",
    "outputId": "665c6dee-105d-4671-901c-815643ec3dc0",
    "colab": {
     "base_uri": "https://localhost:8080/",
     "height": 297
    }
   },
   "source": [
    "import matplotlib.pyplot as plt\n",
    "mostfreqn=30 #Here we define how many of them we want to see in the diagramm \n",
    "frequency=[y for (x,y) in counts_ted_top1000tupels][:mostfreqn]\n",
    "word=[x for (x,y) in counts_ted_top1000tupels][:mostfreqn]\n",
    "indices = np.arange(len(counts_ted_top1000tupels[:mostfreqn]))\n",
    "plt.bar(indices, frequency, color='r')\n",
    "plt.xticks(indices, word, rotation='vertical')\n",
    "plt.tight_layout()\n",
    "plt.show()"
   ],
   "execution_count": 75,
   "outputs": [
    {
     "data": {
      "text/plain": "<Figure size 432x288 with 1 Axes>",
      "image/png": "[encoded data removed]"
     },
     "metadata": {
      "needs_background": "light"
     },
     "output_type": "display_data"
    }
   ]
  },
  {
   "cell_type": "markdown",
   "metadata": {
    "id": "yf6gXJU32Bqd"
   },
   "source": [
    "You can clearly see, that many of the most common words are so called stop words. Stop Words are words, that are tipically not usefull to identify what a text is about."
   ]
  },
  {
   "cell_type": "markdown",
   "metadata": {
    "id": "2oRdD3e4aBud"
   },
   "source": [
    "### Part 3: Train Word2Vec"
   ]
  },
  {
   "cell_type": "markdown",
   "metadata": {
    "id": "kp0JGmKWhrNd"
   },
   "source": [
    "Now it is time to train the modell. Gensim has an already implemented model that you can use."
   ]
  },
  {
   "cell_type": "markdown",
   "metadata": {
    "id": "JTA9yWtdhb6z"
   },
   "source": [
    "Using the provided modell is enough for the purposes of our notebook. If you want to dive deeper into the topic this youtube video https://www.youtube.com/watch?v=kKDYtZfriI8 could be a great guidance for you to get started. \n"
   ]
  },
  {
   "cell_type": "code",
   "metadata": {
    "id": "A_t4-aiTaBue"
   },
   "source": [
    "#This takes a moment...dont worry :D\n",
    "from gensim.models import Word2Vec\n",
    "model_ted = Word2Vec(sentences_ted)\n",
    "\n",
    "word_vectors = model_ted.wv"
   ],
   "execution_count": 76,
   "outputs": []
  },
  {
   "cell_type": "markdown",
   "metadata": {
    "id": "KKYd7ZemaBuj"
   },
   "source": [
    "### Part 4: Ted Learnt Representations (3 Points)\n"
   ]
  },
  {
   "cell_type": "markdown",
   "metadata": {
    "id": "P7VvU82AaBuj"
   },
   "source": [
    "Finding similar words: (see gensim docs for functions, that might help you https://radimrehurek.com/gensim/models/keyedvectors.html)"
   ]
  },
  {
   "cell_type": "markdown",
   "metadata": {
    "id": "8agPp1iR2Bqh"
   },
   "source": [
    "Now lets explore what we can do with this! How does \"house\" look in our embedding?"
   ]
  },
  {
   "cell_type": "code",
   "metadata": {
    "id": "F-TJQUI12Bqi",
    "outputId": "26ef76eb-3dc7-4b45-864f-63a4f68a8cd2",
    "colab": {
     "base_uri": "https://localhost:8080/"
    }
   },
   "source": [
    "word_vectors['house']"
   ],
   "execution_count": 77,
   "outputs": [
    {
     "data": {
      "text/plain": "array([ 1.9425967 ,  0.36808956,  0.34417632,  0.05766101, -0.04228266,\n        0.2949112 ,  0.31774265, -0.16451387,  0.596561  ,  1.3078823 ,\n        0.40642208, -1.4814214 , -0.10556711,  1.4976759 , -0.30017963,\n       -0.6491717 , -1.5242857 ,  0.86338884,  0.28304854,  0.9938992 ,\n        0.62465894, -1.223312  , -0.41914606, -1.4603721 ,  1.306217  ,\n        0.03304178, -1.2608309 , -0.13499898, -1.0125794 ,  1.4117329 ,\n       -1.2886547 , -0.6674684 ,  0.00459983,  0.693579  , -1.3691776 ,\n        1.927111  , -1.0134044 , -0.37137744, -0.0090249 , -0.38299793,\n       -0.997348  , -0.3431111 ,  0.43618092, -1.2896103 ,  1.0970294 ,\n       -0.06452098,  0.3904955 ,  0.79004824,  0.45483303,  1.111062  ,\n       -1.0502186 , -0.05003866, -2.5895622 ,  0.483591  , -0.66178846,\n        0.04126437,  0.9930052 ,  0.1606756 ,  1.0325992 , -1.0503565 ,\n        0.41093713, -0.7789002 ,  0.73972404, -0.65555406,  1.3124897 ,\n        0.5495426 ,  0.6204622 , -0.8040334 ,  0.1371052 , -0.46369278,\n        0.7598794 ,  0.25188282, -0.7416428 ,  0.00862553,  0.11864645,\n        1.435059  , -2.8650181 , -0.86270916, -0.4690478 ,  0.6214024 ,\n        0.02469156,  0.06256019, -0.09130525, -2.0817647 ,  0.05297214,\n        0.25540623,  0.6211752 ,  0.22317852,  0.48798126, -0.18071415,\n        0.61374795, -0.10566268,  2.5042062 , -1.1322378 ,  0.02977213,\n       -0.27922937,  0.30273372, -2.2648332 , -0.30318365,  0.690969  ],\n      dtype=float32)"
     },
     "execution_count": 77,
     "metadata": {},
     "output_type": "execute_result"
    }
   ]
  },
  {
   "cell_type": "markdown",
   "metadata": {
    "id": "sW4_WKIf2Bqj"
   },
   "source": [
    "What is the most similar word for \"town\"?"
   ]
  },
  {
   "cell_type": "code",
   "metadata": {
    "id": "J0F5B8eN2Bqj",
    "outputId": "157212da-26da-4f55-93e5-0f0e98fdcdd0",
    "colab": {
     "base_uri": "https://localhost:8080/"
    }
   },
   "source": [
    "word_vectors.most_similar(positive=\"town\", topn=1)"
   ],
   "execution_count": 78,
   "outputs": [
    {
     "data": {
      "text/plain": "[('village', 0.896518349647522)]"
     },
     "execution_count": 78,
     "metadata": {},
     "output_type": "execute_result"
    }
   ]
  },
  {
   "cell_type": "markdown",
   "metadata": {
    "id": "hTrzOibc2Bqm"
   },
   "source": [
    "How similar are the words \"town\" and \"house\"?"
   ]
  },
  {
   "cell_type": "code",
   "metadata": {
    "pycharm": {
     "name": "#%%\n"
    },
    "id": "Evb9ktsZ2Bqn",
    "outputId": "9d57b90c-1146-4015-f7dc-3f48af2e9ddd",
    "colab": {
     "base_uri": "https://localhost:8080/"
    }
   },
   "source": [
    "word_vectors.cosine_similarities(word_vectors['house'], [word_vectors['town']])"
   ],
   "execution_count": 79,
   "outputs": [
    {
     "data": {
      "text/plain": "array([0.77762353], dtype=float32)"
     },
     "execution_count": 79,
     "metadata": {},
     "output_type": "execute_result"
    }
   ]
  },
  {
   "cell_type": "markdown",
   "metadata": {
    "id": "p7I5G-KpqbfH"
   },
   "source": [
    "<h4>Exercise 4.1 (3 Points)</h4>\n",
    "Now that we have trained our own embedding, lets test some classical ideas: \n",
    "implement the following formula. Print out the 10 words, that are most similar to this formula: <br>\n",
    "$King-Man+Woman=???$\n",
    "There are two ways of computing similarity in word Embeddings:\n",
    " - https://tedboy.github.io/nlps/generated/generated/gensim.models.Word2Vec.most_similar.html\n",
    " - https://tedboy.github.io/nlps/generated/generated/gensim.models.Word2Vec.most_similar_cosmul.html\n",
    "You should try out both! In this case one of them is better, but both of them are valid methods for computing similarity in the word-space.\n"
   ]
  },
  {
   "cell_type": "code",
   "metadata": {
    "id": "S0y_5MLlqiMx",
    "outputId": "c8147c3d-8db2-4b2e-da06-c12ff8609740",
    "colab": {
     "base_uri": "https://localhost:8080/"
    }
   },
   "source": [
    "print(word_vectors.most_similar(\n",
    "    positive=[\"king\", \"woman\"], negative=[\"man\"]))\n",
    "print(word_vectors.most_similar_cosmul(\n",
    "    positive=[\"king\", \"woman\"], negative=[\"man\"]))"
   ],
   "execution_count": 80,
   "outputs": [
    {
     "name": "stdout",
     "output_type": "stream",
     "text": [
      "[('martin', 0.7809369564056396), ('luther', 0.7792169451713562), ('french', 0.76381516456604), ('president', 0.7402549982070923), ('german', 0.7395772337913513), ('named', 0.7321485280990601), ('dr', 0.7321253418922424), ('robert', 0.7291948795318604), ('charles', 0.7267881631851196), ('nelson', 0.7254624366760254)]\n",
      "[('luther', 0.951016366481781), ('martin', 0.9503644704818726), ('french', 0.9443038702011108), ('german', 0.9335345029830933), ('president', 0.9309550523757935), ('named', 0.925839900970459), ('robert', 0.9234219789505005), ('dr', 0.9233623743057251), ('nelson', 0.9232341647148132), ('queen', 0.921504557132721)]\n"
     ]
    }
   ]
  },
  {
   "cell_type": "markdown",
   "metadata": {
    "id": "gSsUPsxo2Bqp"
   },
   "source": [
    "The expected outcome (Queen) should be one of the top ten most similar words. But there are also a lot of words, that you would not expect. Think about where how these words might be connected to the formula. You do not have to write anything down for this task, just take your time and understand why some of the words (luther, mary, dr, president) might be in this list."
   ]
  },
  {
   "cell_type": "markdown",
   "metadata": {
    "id": "TMtpPOVtaBup"
   },
   "source": [
    "#### t-SNE visualization\n",
    "\n",
    "We will use the t-SNE algorithm, given belwo, for visualization. The so-called t-Distributed Stochastic Neighbor Embedding (t-SNE) is an unsupervised and non-linear machine learning technique. It is commonly used for visualizing high dimensional data (just like our high dimensional vectors). You do not have to understand the code, it's purpose is simply to give you an idea of how the data is arranged in high dimensional space."
   ]
  },
  {
   "cell_type": "markdown",
   "metadata": {
    "id": "LnuijI2s2Bqq"
   },
   "source": [
    "<h4>Exercise 4.2 (2 Points)</h4>\n",
    "To use the t-SNE code below, first put a list of the top 100 words (as strings) into a variable `words_top_ted`. "
   ]
  },
  {
   "cell_type": "code",
   "metadata": {
    "id": "e2gYgJ2q2Bqr"
   },
   "source": [
    "words_top_ted = list(counts_ted_top1000)[:100]"
   ],
   "execution_count": 81,
   "outputs": []
  },
  {
   "cell_type": "markdown",
   "metadata": {
    "id": "-SYLalLf2Bqr"
   },
   "source": [
    "The following code gets the corresponding vectors from the model, assuming it's called `model_ted`:"
   ]
  },
  {
   "cell_type": "code",
   "metadata": {
    "id": "0-lLF1lZaBus",
    "outputId": "e212ce22-0061-4d7e-f7e8-a3950ce15069",
    "colab": {
     "base_uri": "https://localhost:8080/"
    }
   },
   "source": [
    "# This assumes words_top_ted is a list of strings, the top 250 words\n",
    "words_top_vec_ted = model_ted[words_top_ted]"
   ],
   "execution_count": 82,
   "outputs": [
    {
     "name": "stderr",
     "output_type": "stream",
     "text": [
      "/home/work/PycharmProjects/DL4NLP/lib/python3.6/site-packages/ipykernel_launcher.py:2: DeprecationWarning: Call to deprecated `__getitem__` (Method will be removed in 4.0.0, use self.wv.__getitem__() instead).\n",
      "  \n"
     ]
    }
   ]
  },
  {
   "cell_type": "markdown",
   "metadata": {
    "id": "xvRU-2bT2Bqs"
   },
   "source": [
    "The next few lines are for the t-SNE visualization."
   ]
  },
  {
   "cell_type": "code",
   "metadata": {
    "id": "HeJF5ut9aBux"
   },
   "source": [
    "from sklearn.manifold import TSNE \n",
    "tsne = TSNE(n_components=2, random_state=0)\n",
    "words_top_ted_tsne = tsne.fit_transform(words_top_vec_ted)"
   ],
   "execution_count": 83,
   "outputs": []
  },
  {
   "cell_type": "code",
   "metadata": {
    "id": "J2VgYLIZaBu2",
    "outputId": "08bcc113-7026-4f90-8854-fd4acc8f53a9",
    "colab": {
     "base_uri": "https://localhost:8080/",
     "height": 17
    },
    "pycharm": {
     "name": "#%%\n"
    }
   },
   "source": [
    "p = figure(tools=\"pan,wheel_zoom,reset,save\",\n",
    "           toolbar_location=\"above\",\n",
    "           title=\"word2vec T-SNE for most common words\")\n",
    "\n",
    "source = ColumnDataSource(data=dict(x1=words_top_ted_tsne[:,0],\n",
    "                                    x2=words_top_ted_tsne[:,1],\n",
    "                                    names=words_top_ted))\n",
    "\n",
    "p.scatter(x=\"x1\", y=\"x2\", size=8, source=source)\n",
    "\n",
    "labels = LabelSet(x=\"x1\", y=\"x2\", text=\"names\", y_offset=6, \n",
    "                  text_font_size=\"8pt\", text_color=\"#555555\",\n",
    "                  source=source, text_align='center')\n",
    "p.add_layout(labels)\n",
    "\n",
    "show(p)\n",
    "\n"
   ],
   "execution_count": 84,
   "outputs": [
    {
     "data": {
      "text/html": "\n\n\n\n\n\n  <div class=\"bk-root\" id=\"345e5392-954d-415b-bde6-92bc52514f8d\" data-root-id=\"1358\"></div>\n"
     },
     "metadata": {},
     "output_type": "display_data"
    },
    {
     "data": {
      "application/javascript": "(function(root) {\n  function embed_document(root) {\n    \n  var docs_json = {\"83ff7abb-13e6-4982-95f2-7a4972d20507\":{\"roots\":{\"references\":[{\"attributes\":{\"below\":[{\"id\":\"1369\"}],\"center\":[{\"id\":\"1372\"},{\"id\":\"1376\"},{\"id\":\"1392\"}],\"left\":[{\"id\":\"1373\"}],\"renderers\":[{\"id\":\"1390\"}],\"title\":{\"id\":\"1359\"},\"toolbar\":{\"id\":\"1381\"},\"toolbar_location\":\"above\",\"x_range\":{\"id\":\"1361\"},\"x_scale\":{\"id\":\"1365\"},\"y_range\":{\"id\":\"1363\"},\"y_scale\":{\"id\":\"1367\"}},\"id\":\"1358\",\"subtype\":\"Figure\",\"type\":\"Plot\"},{\"attributes\":{},\"id\":\"1361\",\"type\":\"DataRange1d\"},{\"attributes\":{\"data_source\":{\"id\":\"1386\"},\"glyph\":{\"id\":\"1388\"},\"hover_glyph\":null,\"muted_glyph\":null,\"nonselection_glyph\":{\"id\":\"1389\"},\"selection_glyph\":null,\"view\":{\"id\":\"1391\"}},\"id\":\"1390\",\"type\":\"GlyphRenderer\"},{\"attributes\":{},\"id\":\"1427\",\"type\":\"UnionRenderers\"},{\"attributes\":{},\"id\":\"1428\",\"type\":\"Selection\"},{\"attributes\":{\"axis\":{\"id\":\"1373\"},\"dimension\":1,\"ticker\":null},\"id\":\"1376\",\"type\":\"Grid\"},{\"attributes\":{},\"id\":\"1380\",\"type\":\"SaveTool\"},{\"attributes\":{},\"id\":\"1426\",\"type\":\"BasicTickFormatter\"},{\"attributes\":{\"source\":{\"id\":\"1386\"}},\"id\":\"1391\",\"type\":\"CDSView\"},{\"attributes\":{\"fill_color\":{\"value\":\"#1f77b4\"},\"line_color\":{\"value\":\"#1f77b4\"},\"size\":{\"units\":\"screen\",\"value\":8},\"x\":{\"field\":\"x1\"},\"y\":{\"field\":\"x2\"}},\"id\":\"1388\",\"type\":\"Scatter\"},{\"attributes\":{\"fill_alpha\":{\"value\":0.1},\"fill_color\":{\"value\":\"#1f77b4\"},\"line_alpha\":{\"value\":0.1},\"line_color\":{\"value\":\"#1f77b4\"},\"size\":{\"units\":\"screen\",\"value\":8},\"x\":{\"field\":\"x1\"},\"y\":{\"field\":\"x2\"}},\"id\":\"1389\",\"type\":\"Scatter\"},{\"attributes\":{\"active_drag\":\"auto\",\"active_inspect\":\"auto\",\"active_multi\":null,\"active_scroll\":\"auto\",\"active_tap\":\"auto\",\"tools\":[{\"id\":\"1377\"},{\"id\":\"1378\"},{\"id\":\"1379\"},{\"id\":\"1380\"}]},\"id\":\"1381\",\"type\":\"Toolbar\"},{\"attributes\":{\"axis\":{\"id\":\"1369\"},\"ticker\":null},\"id\":\"1372\",\"type\":\"Grid\"},{\"attributes\":{},\"id\":\"1367\",\"type\":\"LinearScale\"},{\"attributes\":{\"formatter\":{\"id\":\"1424\"},\"ticker\":{\"id\":\"1374\"}},\"id\":\"1373\",\"type\":\"LinearAxis\"},{\"attributes\":{\"formatter\":{\"id\":\"1426\"},\"ticker\":{\"id\":\"1370\"}},\"id\":\"1369\",\"type\":\"LinearAxis\"},{\"attributes\":{\"data\":{\"names\":[\"the\",\"and\",\"to\",\"of\",\"a\",\"that\",\"i\",\"in\",\"it\",\"you\",\"we\",\"is\",\"s\",\"this\",\"so\",\"they\",\"was\",\"for\",\"are\",\"have\",\"but\",\"what\",\"on\",\"with\",\"one\",\"can\",\"t\",\"about\",\"there\",\"be\",\"as\",\"at\",\"all\",\"not\",\"do\",\"my\",\"re\",\"people\",\"like\",\"if\",\"from\",\"now\",\"our\",\"he\",\"an\",\"just\",\"these\",\"or\",\"when\",\"because\",\"very\",\"me\",\"out\",\"by\",\"them\",\"how\",\"know\",\"up\",\"going\",\"more\",\"had\",\"think\",\"who\",\"were\",\"see\",\"your\",\"two\",\"their\",\"which\",\"would\",\"here\",\"really\",\"get\",\"ve\",\"then\",\"m\",\"world\",\"us\",\"time\",\"some\",\"has\",\"don\",\"actually\",\"into\",\"way\",\"where\",\"will\",\"years\",\"things\",\"other\",\"hundred\",\"no\",\"could\",\"go\",\"well\",\"want\",\"been\",\"make\",\"right\",\"she\"],\"x1\":{\"__ndarray__\":\"jBe3wfphu8C+b3BBiuUwwse2AcLHNW1BdMFZwvLHEMK9r17AePK6QvJAuUITW8/Ce//lwpwgi8ExM19BW+zTQqqw58K6QqvBicG4wvXn+8KeWc5BdLpaPlxf0UFKYXXC/i4Swl0eSsLRI9FCcU9jQo5V60DU5MhCmdAcQZchKEGfFsfAZ0ECQglLZUIou53CoprBwnhEi8IjwPfBFSZTQit6VcKDrKxBJycjwjG+w8FgvoLCyzG2QAWW5EBH8YfB19BoQpiJAkIcrAhC8tyGQtkSIMKiMoPCShZRQoLCl8F8bixCmjiiwuhZGMGRjh5CxA4Kw3c28kFolZtC7PQPwjeyU0JrRCRCYM57QvLiqEG6CzBCT0GSwoymEEKrzedBs7CZQgcw/8IXCZXBCD4Jw8lL3EKREIFCpDmiQlR7kME74wXD2nccwgfwCUBl3UPClcWnP8CqVME1xIjC2JDtwjuACULAxmDBe1Wgws17d0KawXLCAEOgQlbWiEEWfLXBcuG8wontlkKqYAhB0MgowQ==\",\"dtype\":\"float32\",\"order\":\"little\",\"shape\":[100]},\"x2\":{\"__ndarray__\":\"E+f4QThg0kGQ5URCMIrGQQboP0EtbpxBY8+TQlAtKsFqihdAbRRQQtt1iEL+uBhA1YgBQXGYhEGR37NAwtiIQrodKsH7d+/BSF2wQcteUkLkjOhB9rvcwcveh0I/CUBC00AxQl08wsJajmfBTZSPwYLG0EIZ83rCQ+8ywtOACkNIAihCY185Qk5wKMJYjJxCKDIMQn97WMF0t4ZCtoeJQPNUQEDW9+bAABrBQiBmgMJAdOpCwRUGwY+SokIZR0nCa5+XQbjXlEHvPNpCxhg8Qg1nFcLXP7dBlWhgQuQu8EKxuFPCGzcDw0DWwMIbJqlCNRZBQifuS8L5F3TAZxAIw2/NhML++9vCqde7QhzM2sICKAFCKkWpwi+4AcGJW9FA8UdkwlvfhkKZZWc/vAMpweDRoEHLMYBCWj6qQe8BUUIFdgJCFrLYwlv4YUE2ar7BSXp1QrwFX8HCE8fCtk1qwmh518EsIahCoXNAwmmt/EIeEKnCIE8ywrvLsMGyyrHC60uuwRxPmcLntQVCLL+Hwg==\",\"dtype\":\"float32\",\"order\":\"little\",\"shape\":[100]}},\"selected\":{\"id\":\"1428\"},\"selection_policy\":{\"id\":\"1427\"}},\"id\":\"1386\",\"type\":\"ColumnDataSource\"},{\"attributes\":{\"source\":{\"id\":\"1386\"},\"text\":{\"field\":\"names\"},\"text_align\":\"center\",\"text_color\":{\"value\":\"#555555\"},\"text_font_size\":{\"value\":\"8pt\"},\"x\":{\"field\":\"x1\"},\"y\":{\"field\":\"x2\"},\"y_offset\":{\"value\":6}},\"id\":\"1392\",\"type\":\"LabelSet\"},{\"attributes\":{},\"id\":\"1378\",\"type\":\"WheelZoomTool\"},{\"attributes\":{},\"id\":\"1374\",\"type\":\"BasicTicker\"},{\"attributes\":{},\"id\":\"1379\",\"type\":\"ResetTool\"},{\"attributes\":{},\"id\":\"1363\",\"type\":\"DataRange1d\"},{\"attributes\":{},\"id\":\"1370\",\"type\":\"BasicTicker\"},{\"attributes\":{\"text\":\"word2vec T-SNE for most common words\"},\"id\":\"1359\",\"type\":\"Title\"},{\"attributes\":{},\"id\":\"1424\",\"type\":\"BasicTickFormatter\"},{\"attributes\":{},\"id\":\"1377\",\"type\":\"PanTool\"},{\"attributes\":{},\"id\":\"1365\",\"type\":\"LinearScale\"}],\"root_ids\":[\"1358\"]},\"title\":\"Bokeh Application\",\"version\":\"2.2.3\"}};\n  var render_items = [{\"docid\":\"83ff7abb-13e6-4982-95f2-7a4972d20507\",\"root_ids\":[\"1358\"],\"roots\":{\"1358\":\"345e5392-954d-415b-bde6-92bc52514f8d\"}}];\n  root.Bokeh.embed.embed_items_notebook(docs_json, render_items);\n\n  }\n  if (root.Bokeh !== undefined) {\n    embed_document(root);\n  } else {\n    var attempts = 0;\n    var timer = setInterval(function(root) {\n      if (root.Bokeh !== undefined) {\n        clearInterval(timer);\n        embed_document(root);\n      } else {\n        attempts++;\n        if (attempts > 100) {\n          clearInterval(timer);\n          console.log(\"Bokeh: ERROR: Unable to run BokehJS code because BokehJS library is missing\");\n        }\n      }\n    }, 10, root)\n  }\n})(window);",
      "application/vnd.bokehjs_exec.v0+json": ""
     },
     "metadata": {
      "application/vnd.bokehjs_exec.v0+json": {
       "id": "1358"
      }
     },
     "output_type": "display_data"
    }
   ]
  }
 ]
}