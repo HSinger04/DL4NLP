{
  "nbformat": 4,
  "nbformat_minor": 0,
  "metadata": {
    "colab": {
      "name": "assignment2.ipynb",
      "provenance": [],
      "collapsed_sections": []
    },
    "kernelspec": {
      "display_name": "Python 3",
      "language": "python",
      "name": "python3"
    },
    "language_info": {
      "codemirror_mode": {
        "name": "ipython",
        "version": 3
      },
      "file_extension": ".py",
      "mimetype": "text/x-python",
      "name": "python",
      "nbconvert_exporter": "python",
      "pygments_lexer": "ipython3",
      "version": "3.7.6"
    },
    "accelerator": "GPU"
  },
  "cells": [
    {
      "cell_type": "markdown",
      "metadata": {
        "id": "ieu7mWKsqGg6"
      },
      "source": [
        "[![Open In Colab](https://colab.research.google.com/assets/colab-badge.svg)](https://colab.research.google.com/github/HSinger04/DL4NLP/blob/master/src/assignment2.ipynb#scrollTo=ieu7mWKsqGg6)"
      ]
    },
    {
      "cell_type": "markdown",
      "metadata": {
        "id": "KthJSHkGQR7Z"
      },
      "source": [
        "# Bag of Words Text Classification\n",
        "\n",
        "In this assignment we will build a simple Bag of Words (BoW) text classifier using PyTorch. The classifier is trained on Twitter Sentiment dataset and is supposed to identify if the Sentiment is positive or negative.\n",
        "\n",
        "\n",
        "## Concepts covered in this assignment\n",
        "1. NLP text pre-processing\n",
        "2. Split of training, validation and testing datasets\n",
        "3. Build a simple feed-forward neural net classifier using PyTorch \n",
        "4. Training the model \n",
        "\n"
      ]
    },
    {
      "cell_type": "markdown",
      "metadata": {
        "id": "3v_ulv3NvQbA"
      },
      "source": [
        "As always we start with some imports!\n",
        "\n",
        "\n"
      ]
    },
    {
      "cell_type": "code",
      "metadata": {
        "colab": {
          "base_uri": "https://localhost:8080/"
        },
        "id": "ZniLdSpeQR7l",
        "outputId": "e1b19a8d-355b-4274-a8b9-6f74b89c07f7"
      },
      "source": [
        "import nltk\n",
        "nltk.download('stopwords')\n",
        "nltk.download('wordnet')"
      ],
      "execution_count": null,
      "outputs": [
        {
          "output_type": "stream",
          "text": [
            "[nltk_data] Downloading package stopwords to /root/nltk_data...\n",
            "[nltk_data]   Package stopwords is already up-to-date!\n",
            "[nltk_data] Downloading package wordnet to /root/nltk_data...\n",
            "[nltk_data]   Package wordnet is already up-to-date!\n"
          ],
          "name": "stdout"
        },
        {
          "output_type": "execute_result",
          "data": {
            "text/plain": [
              "True"
            ]
          },
          "metadata": {
            "tags": []
          },
          "execution_count": 63
        }
      ]
    },
    {
      "cell_type": "code",
      "metadata": {
        "colab": {
          "base_uri": "https://localhost:8080/"
        },
        "id": "_8cUAJPMQR7g",
        "outputId": "1dd4e750-ce4b-403d-8364-8061ca27b549"
      },
      "source": [
        "import random\n",
        "import re # regular expression\n",
        "from collections import Counter \n",
        "from functools import partial\n",
        "from pathlib import Path\n",
        "\n",
        "import matplotlib.pyplot as plt\n",
        "import numpy as np\n",
        "import pandas as pd\n",
        "import google_drive_downloader\n",
        "from google_drive_downloader import GoogleDriveDownloader as gdd\n",
        "from IPython.core.display import display, HTML\n",
        "from sklearn.metrics import classification_report\n",
        "from tqdm import tqdm, tqdm_notebook # show progress bar\n",
        "\n",
        "# PyTorch modules\n",
        "import torch\n",
        "import torch.nn as nn\n",
        "import torch.nn.functional as F\n",
        "from torch import optim\n",
        "from torch.optim.lr_scheduler import CosineAnnealingLR\n",
        "from torch.utils.data import Dataset, DataLoader\n",
        "from torch.utils.data.dataset import random_split\n",
        "\n",
        "# nltk text processors\n",
        "import nltk\n",
        "from nltk.corpus import stopwords\n",
        "from nltk.tokenize import wordpunct_tokenize\n",
        "from nltk.stem import WordNetLemmatizer\n",
        "\n",
        "%matplotlib inline\n",
        "%config InlineBackend.figure_formats = ['svg']\n",
        "plt.style.use('ggplot')\n",
        "tqdm.pandas()\n",
        "\n",
        "device = torch.device('cuda' if torch.cuda.is_available() else 'cpu')\n",
        "device"
      ],
      "execution_count": null,
      "outputs": [
        {
          "output_type": "execute_result",
          "data": {
            "text/plain": [
              "device(type='cuda')"
            ]
          },
          "metadata": {
            "tags": []
          },
          "execution_count": 64
        }
      ]
    },
    {
      "cell_type": "code",
      "metadata": {
        "id": "j8-WlORVQR7n"
      },
      "source": [
        "DATA_PATH = 'data/twitter_reviews.csv'\n",
        "if not Path(DATA_PATH).is_file():\n",
        "    gdd.download_file_from_google_drive(\n",
        "        file_id='13OLqDXOBAO9fjD9Shz8iTeev3ZaNHaTC',\n",
        "        dest_path=DATA_PATH,\n",
        "    )"
      ],
      "execution_count": null,
      "outputs": []
    },
    {
      "cell_type": "markdown",
      "metadata": {
        "id": "YJmd3NNtQR7s"
      },
      "source": [
        "**Take a look at a few examples**"
      ]
    },
    {
      "cell_type": "markdown",
      "metadata": {
        "id": "0Frm2s8TwMFV"
      },
      "source": [
        "Here is a sample set of five random tweets, we are classifying in positive (label = 1) and negative tweets (label = 0).\n"
      ]
    },
    {
      "cell_type": "code",
      "metadata": {
        "colab": {
          "base_uri": "https://localhost:8080/",
          "height": 206
        },
        "id": "FnsKvqrXQR7t",
        "outputId": "d3717058-efc5-4770-9f9d-c4d63818f599"
      },
      "source": [
        "df = pd.read_csv(DATA_PATH)\n",
        "df.sample(5)"
      ],
      "execution_count": null,
      "outputs": [
        {
          "output_type": "execute_result",
          "data": {
            "text/html": [
              "<div>\n",
              "<style scoped>\n",
              "    .dataframe tbody tr th:only-of-type {\n",
              "        vertical-align: middle;\n",
              "    }\n",
              "\n",
              "    .dataframe tbody tr th {\n",
              "        vertical-align: top;\n",
              "    }\n",
              "\n",
              "    .dataframe thead th {\n",
              "        text-align: right;\n",
              "    }\n",
              "</style>\n",
              "<table border=\"1\" class=\"dataframe\">\n",
              "  <thead>\n",
              "    <tr style=\"text-align: right;\">\n",
              "      <th></th>\n",
              "      <th>Unnamed: 0</th>\n",
              "      <th>tweet</th>\n",
              "      <th>label</th>\n",
              "    </tr>\n",
              "  </thead>\n",
              "  <tbody>\n",
              "    <tr>\n",
              "      <th>894387</th>\n",
              "      <td>894387</td>\n",
              "      <td>@jolenejaye I believe in you!  And coffee!</td>\n",
              "      <td>1</td>\n",
              "    </tr>\n",
              "    <tr>\n",
              "      <th>80329</th>\n",
              "      <td>80329</td>\n",
              "      <td>@ArtEnvironments added  gmail was a perfect al...</td>\n",
              "      <td>1</td>\n",
              "    </tr>\n",
              "    <tr>\n",
              "      <th>597456</th>\n",
              "      <td>597456</td>\n",
              "      <td>@AnnaLynneMc your car is one of my favorites! ...</td>\n",
              "      <td>1</td>\n",
              "    </tr>\n",
              "    <tr>\n",
              "      <th>68171</th>\n",
              "      <td>68171</td>\n",
              "      <td>@booshtukka Stop eating cheese before going to...</td>\n",
              "      <td>1</td>\n",
              "    </tr>\n",
              "    <tr>\n",
              "      <th>849144</th>\n",
              "      <td>849144</td>\n",
              "      <td>@Inluu Really? Wow.. That's high!</td>\n",
              "      <td>1</td>\n",
              "    </tr>\n",
              "  </tbody>\n",
              "</table>\n",
              "</div>"
            ],
            "text/plain": [
              "        Unnamed: 0                                              tweet  label\n",
              "894387      894387       @jolenejaye I believe in you!  And coffee!        1\n",
              "80329        80329  @ArtEnvironments added  gmail was a perfect al...      1\n",
              "597456      597456  @AnnaLynneMc your car is one of my favorites! ...      1\n",
              "68171        68171  @booshtukka Stop eating cheese before going to...      1\n",
              "849144      849144                 @Inluu Really? Wow.. That's high!       1"
            ]
          },
          "metadata": {
            "tags": []
          },
          "execution_count": 66
        }
      ]
    },
    {
      "cell_type": "code",
      "metadata": {
        "colab": {
          "base_uri": "https://localhost:8080/"
        },
        "id": "oTM2IdHRQR7y",
        "outputId": "de95941c-09c8-4f2d-fd5c-5caad47c385f"
      },
      "source": [
        "print('Number of records:', len(df), '\\n')\n",
        "print('Number of positive tweets:', len(df[df.label == 1]))\n",
        "print('Number of negative tweets:', len(df[df.label == 0]), '\\n')\n",
        "\n",
        "print('Example negative tweet:')\n",
        "print(df.loc[55,].tweet, '\\n')\n",
        "print('Example positive tweet:')\n",
        "print(df.loc[12456,].tweet, '\\n')"
      ],
      "execution_count": null,
      "outputs": [
        {
          "output_type": "stream",
          "text": [
            "Number of records: 1000000 \n",
            "\n",
            "Number of positive tweets: 531354\n",
            "Number of negative tweets: 468646 \n",
            "\n",
            "Example negative tweet:\n",
            "  David must be hospitalized for five days end of July (palatine tonsils). I will probably never see Katie in concert.  \n",
            "\n",
            "Example positive tweet:\n",
            "*sigh*  sweet dreams guys...... \n",
            "\n"
          ],
          "name": "stdout"
        }
      ]
    },
    {
      "cell_type": "markdown",
      "metadata": {
        "id": "kajOXwKjQR71"
      },
      "source": [
        "# 1. Preprocess Text\n",
        "\n",
        "* Replace weird characters\n",
        "* Lowercase\n",
        "* Tokenize \n",
        "* Stemming & Lemmatize\n",
        "* Remove stopwords"
      ]
    },
    {
      "cell_type": "markdown",
      "metadata": {
        "id": "NEAMiSRUQR71"
      },
      "source": [
        "**Let's see how to pre-process these steps one by one. Below we constructed a test corpus which is composed of 3 reviews. Each review is a paragraph.**"
      ]
    },
    {
      "cell_type": "code",
      "metadata": {
        "colab": {
          "base_uri": "https://localhost:8080/",
          "height": 35
        },
        "id": "bd4I86AdQR72",
        "outputId": "6a0624bb-2ba9-41a0-9728-91363985355d"
      },
      "source": [
        "test_corpus = '''Curtain drops at the #Crown Uptown after 32 years http://www.kansas.com/news/featured/story/860875.html\n",
        "'''\n",
        "test_corpus"
      ],
      "execution_count": null,
      "outputs": [
        {
          "output_type": "execute_result",
          "data": {
            "application/vnd.google.colaboratory.intrinsic+json": {
              "type": "string"
            },
            "text/plain": [
              "'Curtain drops at the #Crown Uptown after 32 years http://www.kansas.com/news/featured/story/860875.html\\n'"
            ]
          },
          "metadata": {
            "tags": []
          },
          "execution_count": 68
        }
      ]
    },
    {
      "cell_type": "markdown",
      "metadata": {
        "id": "PLcnJGQQo8kj"
      },
      "source": [
        "<h1>Execercise 1.1</h1> (1 Points)<br>\n",
        "\n",
        "\n",
        "Write a function \"special_and_lower\" that removes special characters and put the text lowercase. If you wonder what a special character is, check [here](https://www.computerhope.com/jargon/s/specchar.htm#:~:text=A%20special%20character%20is%20a,characters%20may%20have%20multiple%20uses.): \n"
      ]
    },
    {
      "cell_type": "code",
      "metadata": {
        "id": "qYXwtY8M1mEm",
        "colab": {
          "base_uri": "https://localhost:8080/"
        },
        "outputId": "386f39c1-d243-489e-80ae-8a3bb0881533"
      },
      "source": [
        "# remove special characters & lowercase\n",
        "def special_and_lower(text):\n",
        "\n",
        "  text = re.findall(r'\\w+', text, re.ASCII)\n",
        "  \n",
        "  no_special = \"\"\n",
        "\n",
        "  for word in text[:-1]:\n",
        "    no_special += word + \" \"  \n",
        "\n",
        "  # don't add trailing space for last word  \n",
        "  no_special += text[-1]\n",
        "\n",
        "  # lower\n",
        "  text = no_special.lower()\n",
        "\n",
        "  return text\n",
        "\n",
        "test_corpus = special_and_lower(test_corpus)\n",
        "print(test_corpus)"
      ],
      "execution_count": null,
      "outputs": [
        {
          "output_type": "stream",
          "text": [
            "curtain drops at the crown uptown after 32 years http www kansas com news featured story 860875 html\n"
          ],
          "name": "stdout"
        }
      ]
    },
    {
      "cell_type": "markdown",
      "metadata": {
        "id": "A7qx11yEpxg6"
      },
      "source": [
        "<h1>Execercise 1.2</h1> (1 Points)<br> Write a function \"tokenize_text\" that tokenizes the text."
      ]
    },
    {
      "cell_type": "code",
      "metadata": {
        "id": "H-jMKxAK1xRw",
        "colab": {
          "base_uri": "https://localhost:8080/"
        },
        "outputId": "3e3adbf9-291e-4b56-9f41-e67a337b1d35"
      },
      "source": [
        "# tokenize\n",
        "def tokenize_text(text):\n",
        "\n",
        "  try:\n",
        "    text = nltk.word_tokenize(text)\n",
        "  except: \n",
        "    nltk.download(\"punkt\")\n",
        "    text = nltk.word_tokenize(text)\n",
        "  \n",
        "\n",
        "  return text\n",
        "\n",
        "test_corpus = tokenize_text(test_corpus)\n",
        "print(test_corpus)"
      ],
      "execution_count": null,
      "outputs": [
        {
          "output_type": "stream",
          "text": [
            "['curtain', 'drops', 'at', 'the', 'crown', 'uptown', 'after', '32', 'years', 'http', 'www', 'kansas', 'com', 'news', 'featured', 'story', '860875', 'html']\n"
          ],
          "name": "stdout"
        }
      ]
    },
    {
      "cell_type": "markdown",
      "metadata": {
        "id": "0HX3sCwXp_D_"
      },
      "source": [
        "<h1>Execercise 1.3</h1> (1 Points) <br> \n",
        "\n",
        "\n",
        "Using *WordNetLemmatizer*, write a function \"lemmatize_text\" that lemmatizes the text. Lemmatization, which is the process of grouping inflected forms together as a single base form, is a text normalization that is used in pre-processing. Please lemmatize first nouns and then verbs. For more information regarding *WordNetLemmatizer*, please check [here](https://www.nltk.org/_modules/nltk/stem/wordnet.html): \n"
      ]
    },
    {
      "cell_type": "code",
      "metadata": {
        "id": "Zlhlfx2o2Iw1",
        "colab": {
          "base_uri": "https://localhost:8080/"
        },
        "outputId": "0c6b242c-0a9b-4102-8254-a77110bfd52e"
      },
      "source": [
        "from nltk.corpus.reader import wordnet\n",
        "\n",
        "# lemmatize\n",
        "def lemmatize_text(text, wnl):\n",
        "\n",
        "  for i, word in enumerate(text):\n",
        "    # lemmatize noun\n",
        "    lemma = wnl.lemmatize(word)\n",
        "    # lemmatize verb\n",
        "    lemma = wnl.lemmatize(word, pos=wordnet.VERB)\n",
        "    text[i] = lemma\n",
        "\n",
        "  return text\n",
        "\n",
        "test_corpus = lemmatize_text(test_corpus, WordNetLemmatizer())\n",
        "print(test_corpus)"
      ],
      "execution_count": null,
      "outputs": [
        {
          "output_type": "stream",
          "text": [
            "['curtain', 'drop', 'at', 'the', 'crown', 'uptown', 'after', '32', 'years', 'http', 'www', 'kansas', 'com', 'news', 'feature', 'story', '860875', 'html']\n"
          ],
          "name": "stdout"
        }
      ]
    },
    {
      "cell_type": "markdown",
      "metadata": {
        "id": "goU2DbZoqSm-"
      },
      "source": [
        "<h1>Execercise 1.4 </h1>(1 Points) <br>Write a function \"replace_numbers\" that replaces any standalone number with the special token '<NUM>'. For instance, '42' must be replaced by the token but '42h' not.\n",
        "\n",
        "\n"
      ]
    },
    {
      "cell_type": "code",
      "metadata": {
        "id": "Y7aOeaUB2ULM",
        "colab": {
          "base_uri": "https://localhost:8080/"
        },
        "outputId": "3e223368-79be-436e-9a6d-f3cf564b123a"
      },
      "source": [
        "# replace numbers\n",
        "def replace_numbers(text):\n",
        "\n",
        "  for i, lemma in enumerate(text):\n",
        "    text[i] = re.sub(r\"[0-9]+\", \"<NUM>\", lemma)\n",
        "\n",
        "  return text\n",
        "\n",
        "test_corpus = replace_numbers(test_corpus)\n",
        "print(test_corpus)"
      ],
      "execution_count": null,
      "outputs": [
        {
          "output_type": "stream",
          "text": [
            "['curtain', 'drop', 'at', 'the', 'crown', 'uptown', 'after', '<NUM>', 'years', 'http', 'www', 'kansas', 'com', 'news', 'feature', 'story', '<NUM>', 'html']\n"
          ],
          "name": "stdout"
        }
      ]
    },
    {
      "cell_type": "markdown",
      "metadata": {
        "id": "ucsZrwA0rdIO"
      },
      "source": [
        "<h1>Execercise 1.5</h1> (1 Points)<br> We want to remove words that are very common in all the texts (like \"a\" or \"to\"). These words are called stopwords and do not contain any meaning, that is relevant for our task. \n",
        "Write a function \"remove_stopwords\" that removes stopwords using the stopwords imported from NLTK (check on top)."
      ]
    },
    {
      "cell_type": "code",
      "metadata": {
        "id": "R6oAv-bR2fVu",
        "colab": {
          "base_uri": "https://localhost:8080/"
        },
        "outputId": "54c8574a-6067-40c4-f671-9ffeb2c22fa1"
      },
      "source": [
        "# remove stopwords\n",
        "def remove_stopwords(text, stop_words):\n",
        "\n",
        "  for i, word in enumerate(text):\n",
        "    if word in stop_words:\n",
        "      text.pop(i)\n",
        "\n",
        "  return text\n",
        "\n",
        "stop_words = set(stopwords.words('english'))\n",
        "remove_stopwords(test_corpus, stop_words)"
      ],
      "execution_count": null,
      "outputs": [
        {
          "output_type": "execute_result",
          "data": {
            "text/plain": [
              "['curtain',\n",
              " 'drop',\n",
              " 'the',\n",
              " 'crown',\n",
              " 'uptown',\n",
              " '<NUM>',\n",
              " 'years',\n",
              " 'http',\n",
              " 'www',\n",
              " 'kansas',\n",
              " 'com',\n",
              " 'news',\n",
              " 'feature',\n",
              " 'story',\n",
              " '<NUM>',\n",
              " 'html']"
            ]
          },
          "metadata": {
            "tags": []
          },
          "execution_count": 73
        }
      ]
    },
    {
      "cell_type": "markdown",
      "metadata": {
        "id": "uXzZMB5BPoAw"
      },
      "source": [
        "# 2. Building the Vocabulary"
      ]
    },
    {
      "cell_type": "markdown",
      "metadata": {
        "id": "091YxPUFruN0"
      },
      "source": [
        "<h1>Execercise 2.1</h1> (2 Points)<br> Define the function `build_vocab` which receives as input `clean_tokens` and returns `vocab`, which is a python dictionary with words as keys and unique integer indexes as values. \n",
        "\n"
      ]
    },
    {
      "cell_type": "code",
      "metadata": {
        "id": "MlIG7CON27mQ",
        "colab": {
          "base_uri": "https://localhost:8080/"
        },
        "outputId": "2c18b365-1682-469d-e33f-b4327b9d3e26"
      },
      "source": [
        "def build_vocab(corpus):\n",
        "  vocab = {}\n",
        "  i = 0\n",
        "\n",
        "  for tokens in corpus:\n",
        "    for token in tokens:\n",
        "      if not token in vocab:\n",
        "        vocab[token] = i\n",
        "        i += 1  \n",
        "\n",
        "  return vocab\n",
        "print(build_vocab([test_corpus]))"
      ],
      "execution_count": null,
      "outputs": [
        {
          "output_type": "stream",
          "text": [
            "{'curtain': 0, 'drop': 1, 'the': 2, 'crown': 3, 'uptown': 4, '<NUM>': 5, 'years': 6, 'http': 7, 'www': 8, 'kansas': 9, 'com': 10, 'news': 11, 'feature': 12, 'story': 13, 'html': 14}\n"
          ],
          "name": "stdout"
        }
      ]
    },
    {
      "cell_type": "markdown",
      "metadata": {
        "id": "Vy2zLY1CsqeT"
      },
      "source": [
        "<h1>Execercise 2.2 </h1>(2 Points)<br> Define the function `build_index2token` which receives as input `vocab` (the output of the previously defined function `build_vocab`) and returns `index2token`, which is a python dictionary with unique integer indexes as keys and  words as values. Make sure that the indexes assigned to the words are exactly the same as in `vocab`.\n"
      ]
    },
    {
      "cell_type": "code",
      "metadata": {
        "id": "SXa8xkqS3RYn",
        "colab": {
          "base_uri": "https://localhost:8080/"
        },
        "outputId": "11b449d9-a79e-457e-8666-ce8535a3830a"
      },
      "source": [
        "def build_index2token(vocab):\n",
        "\n",
        "    index2token = dict((v,k) for k,v in vocab.items())\n",
        "\n",
        "    return index2token\n",
        "\n",
        "print(build_index2token(build_vocab([test_corpus]))) "
      ],
      "execution_count": null,
      "outputs": [
        {
          "output_type": "stream",
          "text": [
            "{0: 'curtain', 1: 'drop', 2: 'the', 3: 'crown', 4: 'uptown', 5: '<NUM>', 6: 'years', 7: 'http', 8: 'www', 9: 'kansas', 10: 'com', 11: 'news', 12: 'feature', 13: 'story', 14: 'html'}\n"
          ],
          "name": "stdout"
        }
      ]
    },
    {
      "cell_type": "markdown",
      "metadata": {
        "id": "jCw9LKDKQR8W"
      },
      "source": [
        "**Let's pacakage the pre-processing steps together into functions and apply on our dataset**\n",
        "\n"
      ]
    },
    {
      "cell_type": "code",
      "metadata": {
        "id": "GHCoa8R_QR8W"
      },
      "source": [
        "def remove_rare_words(tokens, common_tokens, max_len):\n",
        "    return [token if token in common_tokens else '<UNK>' for token in tokens][-max_len:]\n",
        "\n",
        "def tokenize(text, stop_words, lemmatizer):\n",
        "    # remove special characters and put text lowercase\n",
        "    text = special_and_lower(text)\n",
        "\n",
        "    # tokenize\n",
        "    tokens = tokenize_text(text) \n",
        "\n",
        "    # lemmatize nouns and verbs\n",
        "    tokens = lemmatize_text(tokens, lemmatizer)\n",
        "\n",
        "    # remove stopwords\n",
        "    tokens = remove_stopwords(tokens, stop_words)\n",
        "\n",
        "    return tokens\n",
        "\n",
        "def build_bow_vector(sequence, idx2token):\n",
        "    vector = [0] * len(idx2token)\n",
        "    for token_idx in sequence:\n",
        "        if token_idx not in idx2token:\n",
        "            raise ValueError('Wrong sequence index found!')\n",
        "        else:\n",
        "            vector[token_idx] += 1\n",
        "    return vector"
      ],
      "execution_count": null,
      "outputs": []
    },
    {
      "cell_type": "markdown",
      "metadata": {
        "id": "lRH1n4NLP1zt"
      },
      "source": [
        "# 3. Splitting and transforming the Dataset"
      ]
    },
    {
      "cell_type": "markdown",
      "metadata": {
        "id": "Vrtj7ZIEyI2Q"
      },
      "source": [
        "<h1>Execercise 3.1</h1> (not scored) <br>\r\n",
        " Play with `MAX_LEN` and `MAX_VOCAB` parameters. Try to find which parameter configuration leads to better classification performance. "
      ]
    },
    {
      "cell_type": "code",
      "metadata": {
        "id": "bYb2RZSI_F8A"
      },
      "source": [
        "# Set parameters\n",
        "# TODO: just used MAX_LEN = 16 for quick check\n",
        "\n",
        "MAX_LEN = \"128\" #@param [16, 32, 64, 128, 256, 512] {allow-input: true}\n",
        "MAX_VOCAB = \"100\" #@param [100, 1000, 5000, 10000, 100000] {allow-input: true}\n",
        "\n",
        "MAX_LEN = int(MAX_LEN)\n",
        "MAX_VOCAB = int(MAX_VOCAB)"
      ],
      "execution_count": null,
      "outputs": []
    },
    {
      "cell_type": "markdown",
      "metadata": {
        "id": "2h8bZrGZ5AAq"
      },
      "source": [
        "Next we will build our class TwitterDataset. It helps us to easier access different parts of our DataSet."
      ]
    },
    {
      "cell_type": "code",
      "metadata": {
        "id": "cRpfCXB5QR8Y"
      },
      "source": [
        "class TwitterDataset(Dataset):\n",
        "    def __init__(self, data_path, max_vocab=5000, max_len=128):\n",
        "        df = pd.read_csv(data_path)\n",
        "        \n",
        "        # Clean and tokenize\n",
        "        stop_words = set(stopwords.words('english'))\n",
        "        lemmatizer = WordNetLemmatizer()\n",
        "        df['tokens'] = df.tweet.apply(\n",
        "            partial(\n",
        "                tokenize,\n",
        "                stop_words=stop_words,\n",
        "                lemmatizer=lemmatizer,\n",
        "            ),\n",
        "        )  \n",
        "        \n",
        "        all_tokens = [token for doc in list(df.tokens) for token in doc]\n",
        "        \n",
        "        # Build most common tokens bound by max vocab size\n",
        "        common_tokens = set( \n",
        "            list(\n",
        "                zip(*Counter(all_tokens).most_common(max_vocab))\n",
        "            )[0] \n",
        "        )\n",
        "        \n",
        "        # Replace rare words with <UNK>\n",
        "        \n",
        "        df.loc[:, 'tokens'] = df.tokens.progress_apply(\n",
        "            partial(\n",
        "                remove_rare_words,\n",
        "                common_tokens=common_tokens,\n",
        "                max_len=max_len,\n",
        "            ),\n",
        "        )\n",
        "        \n",
        "        # Replace numbers with <NUM>\n",
        "        df.loc[:, 'tokens'] = df.tokens.progress_apply(replace_numbers)\n",
        "        \n",
        "        # Remove sequences with only <UNK>\n",
        "        df = df[df.tokens.progress_apply(\n",
        "            lambda tokens: any(token != '<UNK>' for token in tokens),\n",
        "        )]\n",
        "        \n",
        "        # Build vocab\n",
        "        self.token2idx = build_vocab(list(df.tokens))\n",
        "        self.idx2token = build_index2token(self.token2idx)\n",
        "        # vocab = sorted(set(\n",
        "        #     token for doc in list(df.tokens) for token in doc\n",
        "        # ))\n",
        "        # self.token2idx = {token: idx for idx, token in enumerate(vocab)}\n",
        "        # self.idx2token = {idx: token for token, idx in self.token2idx.items()}\n",
        "        \n",
        "        # Convert tokens to indexes\n",
        "        df['indexed_tokens'] = df.tokens.progress_apply(\n",
        "            lambda doc: [self.token2idx[token] for token in doc],\n",
        "        )\n",
        "        \n",
        "        # Build BoW vector\n",
        "        df['bow_vector'] = df.indexed_tokens.progress_apply(\n",
        "            build_bow_vector, args=(self.idx2token,)\n",
        "        )\n",
        "        \n",
        "        self.text = df.tweet.tolist()\n",
        "        self.sequences = df.indexed_tokens.tolist()\n",
        "        self.bow_vector = df.bow_vector.tolist()\n",
        "        self.targets = df.label.tolist()\n",
        "    \n",
        "    def __getitem__(self, i):\n",
        "        return (\n",
        "            self.sequences[i],\n",
        "            self.bow_vector[i],\n",
        "            self.targets[i],\n",
        "            self.text[i],\n",
        "        )\n",
        "    \n",
        "    def __len__(self):\n",
        "        return len(self.targets)"
      ],
      "execution_count": null,
      "outputs": []
    },
    {
      "cell_type": "code",
      "metadata": {
        "id": "K31nmR1KQR8a",
        "colab": {
          "base_uri": "https://localhost:8080/"
        },
        "outputId": "e8b15091-3e7a-4102-e602-849c7a1e37d8"
      },
      "source": [
        "#This will load for a while: Grab a coffee\r\n",
        "dataset = TwitterDataset(DATA_PATH, max_vocab=MAX_VOCAB, max_len=MAX_LEN)"
      ],
      "execution_count": null,
      "outputs": [
        {
          "output_type": "stream",
          "text": [
            "100%|██████████| 1000000/1000000 [00:04<00:00, 248915.42it/s]\n",
            "100%|██████████| 1000000/1000000 [00:08<00:00, 118189.32it/s]\n",
            "100%|██████████| 1000000/1000000 [00:01<00:00, 725095.12it/s]\n",
            "100%|██████████| 921616/921616 [00:03<00:00, 283928.83it/s]\n",
            "100%|██████████| 921616/921616 [00:05<00:00, 168394.02it/s]\n"
          ],
          "name": "stderr"
        }
      ]
    },
    {
      "cell_type": "markdown",
      "metadata": {
        "id": "ZgCt9GdyQR8d"
      },
      "source": [
        "See a random sample out of the dataset processed"
      ]
    },
    {
      "cell_type": "code",
      "metadata": {
        "id": "V57qJlwuQR8e",
        "colab": {
          "base_uri": "https://localhost:8080/"
        },
        "outputId": "4ab0a61a-587b-4dd2-a1c2-db3cee55979f"
      },
      "source": [
        "print('Number of records:', len(dataset), '\\n')\n",
        "\n",
        "import random\n",
        "random_idx = random.randint(0,len(dataset)-1)\n",
        "print('index:', random_idx, '\\n')\n",
        "sample_seq, bow_vector, sample_target, sample_text = dataset[random_idx]\n",
        "print(sample_text, '\\n')\n",
        "print(sample_seq, '\\n')\n",
        "print('BoW vector size:', len(bow_vector), '\\n')\n",
        "print('label:', sample_target, '\\n')"
      ],
      "execution_count": null,
      "outputs": [
        {
          "output_type": "stream",
          "text": [
            "Number of records: 921616 \n",
            "\n",
            "index: 122661 \n",
            "\n",
            "@DoubleFresh Totally! I'm finding myself strangely attracted to chrome trashcans and a delightful array of drinks.  \n",
            "\n",
            "[3, 3, 24, 73, 3, 3, 3, 3, 33, 3, 3, 3] \n",
            "\n",
            "BoW vector size: 100 \n",
            "\n",
            "label: 1 \n",
            "\n"
          ],
          "name": "stdout"
        }
      ]
    },
    {
      "cell_type": "markdown",
      "metadata": {
        "id": "3ScUh32jQR8g"
      },
      "source": [
        "<h1>Execercise 3.2</h1> (2 Points)<br> Split into training, validation, and test sets. \n",
        "\n",
        "Since we only have a certain ammount of Data to train, validate and test our model on, we need to split our Dataset into 3 Parts:\n",
        "\n",
        "- **Training**: data the model learns from (80%)\n",
        "- **Validation**: data to evaluate with for hyperparameter tuning (make sure the model doesn't overfit!) (10%)\n",
        "- **Testing**: data to evaluate the final performance of the model (10%)\n",
        "\n",
        "Given the ratios for validation and testing, it is your task to complete the `function split_train_valid_test` and calculate the three split lenghts, which are then used as argument in the `random_split` function we have imported at the top of this notebook."
      ]
    },
    {
      "cell_type": "code",
      "metadata": {
        "id": "vXPILzsF5Li1"
      },
      "source": [
        "def split_train_valid_test(corpus, valid_ratio=0.1, test_ratio=0.1):\r\n",
        "    \"\"\"Split dataset into train, validation, and test.\"\"\"\r\n",
        "    corpus_length = len(corpus)\r\n",
        "    test_length = int((1 - valid_ratio - test_ratio)  * corpus_length)\r\n",
        "    valid_length = int((corpus_length - test_length) / 2)\r\n",
        "    # take whatever remains for train_length, which is roughly equivalent to valid_length\r\n",
        "    train_length = corpus_length - test_length - valid_length\r\n",
        "    return random_split(\r\n",
        "        corpus, lengths=[train_length, valid_length, test_length],\r\n",
        "    )"
      ],
      "execution_count": null,
      "outputs": []
    },
    {
      "cell_type": "code",
      "metadata": {
        "colab": {
          "base_uri": "https://localhost:8080/"
        },
        "id": "qRIrAPkmQR8i",
        "outputId": "833c4630-319d-4704-f486-fc3909d30892"
      },
      "source": [
        "#Now we apply the function above:\n",
        "train_dataset, valid_dataset, test_dataset = split_train_valid_test(\n",
        "    dataset, valid_ratio=0.05, test_ratio=0.05)\n",
        "len(train_dataset), len(valid_dataset), len(test_dataset)"
      ],
      "execution_count": null,
      "outputs": [
        {
          "output_type": "execute_result",
          "data": {
            "text/plain": [
              "(46081, 46081, 829454)"
            ]
          },
          "metadata": {
            "tags": []
          },
          "execution_count": 82
        }
      ]
    },
    {
      "cell_type": "markdown",
      "metadata": {
        "id": "VdbeQ4l05SXQ"
      },
      "source": [
        "Next up: Batching. Since our Neural Network can only Work on a certain amount of Data at one point in time and we dont have endless amounts of RAM at our hands we will use Batching and Split our Data-Set into Mouth-sized bites."
      ]
    },
    {
      "cell_type": "code",
      "metadata": {
        "id": "Z1iPjOIOQR8l"
      },
      "source": [
        "BATCH_SIZE = 528\n",
        "\n",
        "def collate(batch):\n",
        "    seq = [item[0] for item in batch]\n",
        "    bow = [item[1] for item in batch]\n",
        "    target = torch.LongTensor([item[2] for item in batch])\n",
        "    text = [item[3] for item in batch]\n",
        "    return seq, bow, target, text\n",
        "\n",
        "train_loader = DataLoader(train_dataset, batch_size=BATCH_SIZE, collate_fn=collate)\n",
        "valid_loader = DataLoader(valid_dataset, batch_size=BATCH_SIZE, collate_fn=collate)\n",
        "test_loader = DataLoader(test_dataset, batch_size=BATCH_SIZE, collate_fn=collate)"
      ],
      "execution_count": null,
      "outputs": []
    },
    {
      "cell_type": "markdown",
      "metadata": {
        "id": "gg5oSR-U5XfW"
      },
      "source": [
        "After splitting our Data it now looks like this:"
      ]
    },
    {
      "cell_type": "code",
      "metadata": {
        "colab": {
          "base_uri": "https://localhost:8080/"
        },
        "id": "3LNYX9TOQR8n",
        "outputId": "80925f73-2306-43e6-bbb5-9b6541f1bc39"
      },
      "source": [
        "print('number of training batches:', len(train_loader), '\\n')\n",
        "batch_idx = random.randint(0, len(train_loader)-1)\n",
        "example_idx = random.randint(0, BATCH_SIZE-1)\n",
        "\n",
        "for i, fields in enumerate(train_loader):\n",
        "    seq, bow, target, text = fields\n",
        "    if i == batch_idx:\n",
        "        print('Training input sequence:', seq[example_idx], '\\n')\n",
        "        print('BoW vector size:', len(bow[example_idx]), '\\n')\n",
        "        print('Label: ', target[example_idx], '\\n')\n",
        "        print('Review text:', text[example_idx], '\\n')\n",
        "    "
      ],
      "execution_count": null,
      "outputs": [
        {
          "output_type": "stream",
          "text": [
            "number of training batches: 88 \n",
            "\n",
            "Training input sequence: [3, 45, 46, 3] \n",
            "\n",
            "BoW vector size: 100 \n",
            "\n",
            "Label:  tensor(0) \n",
            "\n",
            "Review text: @englandsimpson I wish I could be there  \n",
            "\n"
          ],
          "name": "stdout"
        }
      ]
    },
    {
      "cell_type": "markdown",
      "metadata": {
        "id": "dRziGFdtQR8p"
      },
      "source": [
        "# 4. BoW Model"
      ]
    },
    {
      "cell_type": "markdown",
      "metadata": {
        "id": "1aZ_jCUBGll4"
      },
      "source": [
        "### Build BoW Model\n",
        "\n",
        "![BOW](https://github.com/scoutbeedev/pytorch-nlp-notebooks/blob/master/images/bow_representation.png?raw=1)\n",
        "\n",
        "In the cell below 4.1 we implemented a BoW-Model with the following specifics:\n",
        "- Input: BoW Vector\n",
        "- Model: \n",
        "    - feed-forward fully connected network\n",
        "    - 2 hidden layers\n",
        "- Output: \n",
        "    - vector size of 2 (2 possible outcome: positive v.s. negative)\n",
        "    - probability of input document classified as the label"
      ]
    },
    {
      "cell_type": "markdown",
      "metadata": {
        "id": "GreaW-FG80cU"
      },
      "source": [
        "<h1>Execercise 4.1 </h1> (2 Points)<br> \n",
        "\n",
        "Substitute the two non-linear functions which are currently of type `relu` with any other type you like. You may want to experiment with several types and then leave you favourite in the final solution. Check [here](https://pytorch.org/docs/stable/nn.html#non-linear-activations-weighted-sum-nonlinearity) for the available non-linear functions in Pytorch."
      ]
    },
    {
      "cell_type": "code",
      "metadata": {
        "id": "-eKgEFZOQR8s"
      },
      "source": [
        "class FeedfowardTextClassifier(nn.Module):\n",
        "    def __init__(self, device, vocab_size, hidden1, hidden2, hidden3, num_labels, batch_size):\n",
        "        super(FeedfowardTextClassifier, self).__init__()\n",
        "        self.device = device\n",
        "        self.batch_size = batch_size\n",
        "        #Here we have the different Layers of our NN\n",
        "        self.fc1 = nn.Linear(vocab_size, hidden1) \n",
        "        self.fc2 = nn.Linear(hidden1, hidden2)\n",
        "        self.fc3 = nn.Linear(hidden2, hidden3)\n",
        "        self.fc4 = nn.Linear(hidden3, num_labels)\n",
        "    \n",
        "    def forward(self, x):\n",
        "        batch_size = len(x)\n",
        "        if batch_size != self.batch_size:\n",
        "            self.batch_size = batch_size\n",
        "            \n",
        "        #Now we feed our Data through our NN\n",
        "        x = torch.FloatTensor(x)\n",
        "        x = F.elu(self.fc1(x)) \n",
        "        x = F.leaky_relu(self.fc2(x)) \n",
        "        x = F.relu(self.fc3(x))\n",
        "        return torch.sigmoid(self.fc4(x))\n"
      ],
      "execution_count": null,
      "outputs": []
    },
    {
      "cell_type": "markdown",
      "metadata": {
        "id": "ZU0R7y2j9rOF"
      },
      "source": [
        "<h1>Execercise 4.2</h1>\r\n",
        "(not scored)<br> Play with HIDDEN1 and HIDDEN2 parameters. Try to find which parameter configuration leads to better classification performance. The number below influences the amount of Neurons per Layer."
      ]
    },
    {
      "cell_type": "code",
      "metadata": {
        "id": "EgoFy6Z3K5vC"
      },
      "source": [
        "# Define hidden layer size\n",
        "HIDDEN1 = \"30\" #@param [10, 30, 50, 100, 200, 500] {allow-input: true}\n",
        "HIDDEN2 = 50 #@param [10, 30, 50, 100, 200, 500] {allow-input: true}\n",
        "HIDDEN3 = 50 #@param [10, 30, 50, 100, 200, 500] {allow-input: true}\n",
        "\n",
        "HIDDEN1 = int(HIDDEN1)\n",
        "HIDDEN2 = int(HIDDEN2)\n",
        "HIDDEN3 = int(HIDDEN3)"
      ],
      "execution_count": null,
      "outputs": []
    },
    {
      "cell_type": "markdown",
      "metadata": {
        "id": "oJHJnPnJLUfo"
      },
      "source": [
        "<h1>Execercise 4.3</h1> (2 Points) <br> Add a an extra hidden layer to the network, with a size of your choice. You can do it by modifying the cell below and of course adjusting the Class definition of `FeedfowardTextClassifier` such that it accepts one more layer when initialized."
      ]
    },
    {
      "cell_type": "code",
      "metadata": {
        "colab": {
          "base_uri": "https://localhost:8080/"
        },
        "id": "M0Q9ze4EQR8t",
        "outputId": "e3ed4cda-36c1-4960-b2b6-f60f25e0e71b"
      },
      "source": [
        "#initializing the model\n",
        "bow_model = FeedfowardTextClassifier(\n",
        "    vocab_size=len(dataset.token2idx),\n",
        "    hidden1=HIDDEN1,\n",
        "    hidden2=HIDDEN2,\n",
        "    hidden3=HIDDEN3,\n",
        "    num_labels=2,\n",
        "    device=device,\n",
        "    batch_size=BATCH_SIZE,\n",
        ")\n",
        "bow_model"
      ],
      "execution_count": null,
      "outputs": [
        {
          "output_type": "execute_result",
          "data": {
            "text/plain": [
              "FeedfowardTextClassifier(\n",
              "  (fc1): Linear(in_features=100, out_features=30, bias=True)\n",
              "  (fc2): Linear(in_features=30, out_features=50, bias=True)\n",
              "  (fc3): Linear(in_features=50, out_features=50, bias=True)\n",
              "  (fc4): Linear(in_features=50, out_features=2, bias=True)\n",
              ")"
            ]
          },
          "metadata": {
            "tags": []
          },
          "execution_count": 87
        }
      ]
    },
    {
      "cell_type": "code",
      "metadata": {
        "colab": {
          "base_uri": "https://localhost:8080/"
        },
        "id": "a3PifawkQR8w",
        "outputId": "339fb202-8011-468c-85d9-5ac7cdc995de"
      },
      "source": [
        "for param in bow_model.parameters():\n",
        "    print(param.size())"
      ],
      "execution_count": null,
      "outputs": [
        {
          "output_type": "stream",
          "text": [
            "torch.Size([30, 100])\n",
            "torch.Size([30])\n",
            "torch.Size([50, 30])\n",
            "torch.Size([50])\n",
            "torch.Size([50, 50])\n",
            "torch.Size([50])\n",
            "torch.Size([2, 50])\n",
            "torch.Size([2])\n"
          ],
          "name": "stdout"
        }
      ]
    },
    {
      "cell_type": "markdown",
      "metadata": {
        "id": "F9AG4SosQR80"
      },
      "source": [
        "### Train BoW Model\n",
        "\n",
        "\n",
        "\n",
        "\n",
        "Layer 1 affine: $$x_1 = W_1 X + b_1$$\n",
        "Layer 1 activation: $$h_1 = Relu(x_1)$$\n",
        "Layer 2 affine: $$x_2 = W_2 h_1 + b_2$$\n",
        "output: $$p = softmax(x_2)$$\n",
        "Loss: $$L = −(ylog(p)+(1−y)log(1−p))$$\n",
        "Gradient: \n",
        "$$\\frac{\\partial }{\\partial W_1}L(W_1, b_1, W_2, b_2) = \\frac{\\partial L}{\\partial p}\\frac{\\partial p}{\\partial x_2}\\frac{\\partial x_2}{\\partial h_1}\\frac{\\partial h_1}{\\partial x_1}\\frac{\\partial x_1}{\\partial W_1}$$\n",
        "\n",
        "Parameter update:\n",
        "$$W_1 = W_1 - \\alpha \\frac{\\partial L}{\\partial W_1}$$"
      ]
    },
    {
      "cell_type": "markdown",
      "metadata": {
        "id": "FsGaRTbKGy2F"
      },
      "source": [
        "<h1>Execercise 4.4</h1> (not scored)<br> What happens if you set a very small learning rate? What if you set a very large learning rate? "
      ]
    },
    {
      "cell_type": "code",
      "metadata": {
        "id": "58BGkAHOE8Lf"
      },
      "source": [
        "LEARNING_RATE = 1e-5"
      ],
      "execution_count": null,
      "outputs": []
    },
    {
      "cell_type": "markdown",
      "metadata": {
        "id": "3utDgyY2G2vK"
      },
      "source": [
        "**Define loss function and gradient descent optimizer**\n",
        "\n",
        "- Criterion: compute *Loss* to see how much the prediction does differ from truth\n",
        "- Optimizer: different ways of updating the weight parameters. It can affect the speed of training and how easily the global minimum is reached. \n",
        "- scheduler: dynamic alteration of the learning rate\n",
        "\n",
        "When selecting optimizers, you can think about what problems can we run into when performing gradient desent? (hint: global minimum v.s. local minimum)"
      ]
    },
    {
      "cell_type": "code",
      "metadata": {
        "id": "H2emTYNqE4yC"
      },
      "source": [
        "criterion = nn.CrossEntropyLoss()\n",
        "optimizer = optim.Adam(\n",
        "    filter(lambda p: p.requires_grad, bow_model.parameters()),\n",
        "    lr=LEARNING_RATE,\n",
        ")\n",
        "scheduler = CosineAnnealingLR(optimizer, 1)"
      ],
      "execution_count": null,
      "outputs": []
    },
    {
      "cell_type": "markdown",
      "metadata": {
        "id": "IpHbURwPH74N"
      },
      "source": [
        "**Define training round & validation round**"
      ]
    },
    {
      "cell_type": "code",
      "metadata": {
        "id": "ROAha1KQQR81"
      },
      "source": [
        "def train_epoch(model, optimizer, train_loader, input_type='bow'):\n",
        "    model.train()\n",
        "    total_loss, total = 0, 0\n",
        "    for seq, bow, target, text in train_loader:\n",
        "        if input_type == 'bow':\n",
        "            inputs = bow\n",
        "        \n",
        "        # Reset gradient\n",
        "        optimizer.zero_grad()\n",
        "        \n",
        "        # Forward pass\n",
        "        output = model(inputs)\n",
        "        \n",
        "        # Compute loss\n",
        "        loss = criterion(output, target)\n",
        "        \n",
        "        # Perform gradient descent, backwards pass\n",
        "        loss.backward()\n",
        "\n",
        "        # Take a step in the right direction\n",
        "        optimizer.step()\n",
        "        scheduler.step()\n",
        "\n",
        "        # Record metrics\n",
        "        total_loss += loss.item()\n",
        "        total += len(target)\n",
        "\n",
        "    return total_loss / total\n",
        "\n",
        "\n",
        "def validate_epoch(model, valid_loader, input_type='bow'):\n",
        "    model.eval()\n",
        "    total_loss, total = 0, 0\n",
        "    with torch.no_grad():\n",
        "        for seq, bow, target, text in valid_loader:\n",
        "            if input_type == 'bow':\n",
        "                inputs = bow\n",
        "\n",
        "            # Forward pass\n",
        "            output = model(inputs)\n",
        "\n",
        "            # Calculate how wrong the model is\n",
        "            loss = criterion(output, target)\n",
        "\n",
        "            # Record metrics\n",
        "            total_loss += loss.item()\n",
        "            total += len(target)\n",
        "\n",
        "    return total_loss / total"
      ],
      "execution_count": null,
      "outputs": []
    },
    {
      "cell_type": "markdown",
      "metadata": {
        "id": "4JwqTT6bQR83"
      },
      "source": [
        "** Run training epochs**"
      ]
    },
    {
      "cell_type": "code",
      "metadata": {
        "id": "k_DOlOHkQR83",
        "colab": {
          "base_uri": "https://localhost:8080/"
        },
        "outputId": "31d2a1a9-dc53-48c1-b82d-259626908167"
      },
      "source": [
        "n_epochs = 0\n",
        "max_epochs =50\n",
        "train_losses, valid_losses = [], []\n",
        "while n_epochs <= max_epochs:\n",
        "    train_loss = train_epoch(bow_model, optimizer, train_loader, input_type='bow')\n",
        "    valid_loss = validate_epoch(bow_model, valid_loader, input_type='bow')\n",
        "    \n",
        "    tqdm.write(\n",
        "        f'epoch #{n_epochs + 1:3d}\\ttrain_loss: {train_loss:.2e}\\tvalid_loss: {valid_loss:.2e}\\n',\n",
        "    )\n",
        "    \n",
        "    # Early stopping if the current valid_loss is greater than the last three valid losses\n",
        "    if len(valid_losses) > 2 and all(valid_loss >= loss for loss in valid_losses[-3:]):\n",
        "        print('Stopping early')\n",
        "        break\n",
        "    \n",
        "    train_losses.append(train_loss)\n",
        "    valid_losses.append(valid_loss)\n",
        "    \n",
        "    n_epochs += 1"
      ],
      "execution_count": null,
      "outputs": [
        {
          "output_type": "stream",
          "text": [
            "epoch #  1\ttrain_loss: 1.33e-03\tvalid_loss: 1.33e-03\n",
            "\n",
            "epoch #  2\ttrain_loss: 1.33e-03\tvalid_loss: 1.33e-03\n",
            "\n",
            "epoch #  3\ttrain_loss: 1.33e-03\tvalid_loss: 1.33e-03\n",
            "\n",
            "epoch #  4\ttrain_loss: 1.33e-03\tvalid_loss: 1.33e-03\n",
            "\n",
            "epoch #  5\ttrain_loss: 1.33e-03\tvalid_loss: 1.33e-03\n",
            "\n",
            "epoch #  6\ttrain_loss: 1.33e-03\tvalid_loss: 1.33e-03\n",
            "\n",
            "epoch #  7\ttrain_loss: 1.32e-03\tvalid_loss: 1.33e-03\n",
            "\n",
            "epoch #  8\ttrain_loss: 1.32e-03\tvalid_loss: 1.32e-03\n",
            "\n",
            "epoch #  9\ttrain_loss: 1.32e-03\tvalid_loss: 1.32e-03\n",
            "\n",
            "epoch # 10\ttrain_loss: 1.32e-03\tvalid_loss: 1.32e-03\n",
            "\n",
            "epoch # 11\ttrain_loss: 1.32e-03\tvalid_loss: 1.32e-03\n",
            "\n",
            "epoch # 12\ttrain_loss: 1.32e-03\tvalid_loss: 1.32e-03\n",
            "\n",
            "epoch # 13\ttrain_loss: 1.32e-03\tvalid_loss: 1.32e-03\n",
            "\n",
            "epoch # 14\ttrain_loss: 1.32e-03\tvalid_loss: 1.32e-03\n",
            "\n",
            "epoch # 15\ttrain_loss: 1.32e-03\tvalid_loss: 1.32e-03\n",
            "\n",
            "epoch # 16\ttrain_loss: 1.32e-03\tvalid_loss: 1.32e-03\n",
            "\n",
            "epoch # 17\ttrain_loss: 1.32e-03\tvalid_loss: 1.32e-03\n",
            "\n",
            "epoch # 18\ttrain_loss: 1.32e-03\tvalid_loss: 1.32e-03\n",
            "\n",
            "epoch # 19\ttrain_loss: 1.32e-03\tvalid_loss: 1.32e-03\n",
            "\n",
            "epoch # 20\ttrain_loss: 1.32e-03\tvalid_loss: 1.32e-03\n",
            "\n",
            "epoch # 21\ttrain_loss: 1.32e-03\tvalid_loss: 1.32e-03\n",
            "\n",
            "epoch # 22\ttrain_loss: 1.32e-03\tvalid_loss: 1.32e-03\n",
            "\n",
            "epoch # 23\ttrain_loss: 1.32e-03\tvalid_loss: 1.32e-03\n",
            "\n",
            "epoch # 24\ttrain_loss: 1.32e-03\tvalid_loss: 1.32e-03\n",
            "\n",
            "epoch # 25\ttrain_loss: 1.32e-03\tvalid_loss: 1.32e-03\n",
            "\n",
            "epoch # 26\ttrain_loss: 1.32e-03\tvalid_loss: 1.32e-03\n",
            "\n",
            "epoch # 27\ttrain_loss: 1.32e-03\tvalid_loss: 1.32e-03\n",
            "\n",
            "epoch # 28\ttrain_loss: 1.32e-03\tvalid_loss: 1.32e-03\n",
            "\n",
            "epoch # 29\ttrain_loss: 1.32e-03\tvalid_loss: 1.32e-03\n",
            "\n",
            "epoch # 30\ttrain_loss: 1.32e-03\tvalid_loss: 1.32e-03\n",
            "\n",
            "epoch # 31\ttrain_loss: 1.32e-03\tvalid_loss: 1.32e-03\n",
            "\n",
            "epoch # 32\ttrain_loss: 1.32e-03\tvalid_loss: 1.32e-03\n",
            "\n",
            "epoch # 33\ttrain_loss: 1.32e-03\tvalid_loss: 1.32e-03\n",
            "\n",
            "epoch # 34\ttrain_loss: 1.32e-03\tvalid_loss: 1.32e-03\n",
            "\n",
            "epoch # 35\ttrain_loss: 1.32e-03\tvalid_loss: 1.32e-03\n",
            "\n",
            "epoch # 36\ttrain_loss: 1.32e-03\tvalid_loss: 1.32e-03\n",
            "\n",
            "epoch # 37\ttrain_loss: 1.32e-03\tvalid_loss: 1.32e-03\n",
            "\n",
            "epoch # 38\ttrain_loss: 1.32e-03\tvalid_loss: 1.32e-03\n",
            "\n",
            "epoch # 39\ttrain_loss: 1.32e-03\tvalid_loss: 1.32e-03\n",
            "\n",
            "epoch # 40\ttrain_loss: 1.32e-03\tvalid_loss: 1.32e-03\n",
            "\n",
            "epoch # 41\ttrain_loss: 1.32e-03\tvalid_loss: 1.32e-03\n",
            "\n",
            "epoch # 42\ttrain_loss: 1.32e-03\tvalid_loss: 1.32e-03\n",
            "\n",
            "epoch # 43\ttrain_loss: 1.32e-03\tvalid_loss: 1.32e-03\n",
            "\n",
            "epoch # 44\ttrain_loss: 1.32e-03\tvalid_loss: 1.32e-03\n",
            "\n",
            "epoch # 45\ttrain_loss: 1.32e-03\tvalid_loss: 1.32e-03\n",
            "\n",
            "epoch # 46\ttrain_loss: 1.32e-03\tvalid_loss: 1.32e-03\n",
            "\n",
            "epoch # 47\ttrain_loss: 1.32e-03\tvalid_loss: 1.32e-03\n",
            "\n",
            "epoch # 48\ttrain_loss: 1.32e-03\tvalid_loss: 1.32e-03\n",
            "\n",
            "epoch # 49\ttrain_loss: 1.32e-03\tvalid_loss: 1.32e-03\n",
            "\n",
            "epoch # 50\ttrain_loss: 1.32e-03\tvalid_loss: 1.32e-03\n",
            "\n",
            "epoch # 51\ttrain_loss: 1.32e-03\tvalid_loss: 1.31e-03\n",
            "\n"
          ],
          "name": "stdout"
        }
      ]
    },
    {
      "cell_type": "code",
      "metadata": {
        "id": "kmGeqkhPZ9cp",
        "colab": {
          "base_uri": "https://localhost:8080/",
          "height": 396
        },
        "outputId": "ebb1b92b-12f1-448d-ee7d-213c68266b80"
      },
      "source": [
        "epoch_ticks = range(1, n_epochs + 1)\n",
        "plt.plot(epoch_ticks, train_losses)\n",
        "plt.plot(epoch_ticks, valid_losses)\n",
        "plt.legend(['Train Loss', 'Valid Loss'])\n",
        "plt.title('Losses') \n",
        "plt.xlabel('Epoch #')\n",
        "plt.ylabel('Loss')\n",
        "plt.xticks(epoch_ticks)\n",
        "plt.show()"
      ],
      "execution_count": null,
      "outputs": [
        {
          "output_type": "display_data",
          "data": {
            "text/plain": [
              "<Figure size 432x288 with 1 Axes>"
            ],
            "image/svg+xml": "<?xml version=\"1.0\" encoding=\"utf-8\" standalone=\"no\"?>\n<!DOCTYPE svg PUBLIC \"-//W3C//DTD SVG 1.1//EN\"\n  \"http://www.w3.org/Graphics/SVG/1.1/DTD/svg11.dtd\">\n<!-- Created with matplotlib (https://matplotlib.org/) -->\n<svg height=\"281.073625pt\" version=\"1.1\" viewBox=\"0 0 419.529375 281.073625\" width=\"419.529375pt\" xmlns=\"http://www.w3.org/2000/svg\" xmlns:xlink=\"http://www.w3.org/1999/xlink\">\n <defs>\n  <style type=\"text/css\">\n*{stroke-linecap:butt;stroke-linejoin:round;}\n  </style>\n </defs>\n <g id=\"figure_1\">\n  <g id=\"patch_1\">\n   <path d=\"M 0 281.073625 \nL 419.529375 281.073625 \nL 419.529375 0 \nL 0 0 \nz\n\" style=\"fill:#ffffff;\"/>\n  </g>\n  <g id=\"axes_1\">\n   <g id=\"patch_2\">\n    <path d=\"M 77.529375 241.58175 \nL 412.329375 241.58175 \nL 412.329375 24.14175 \nL 77.529375 24.14175 \nz\n\" style=\"fill:#e5e5e5;\"/>\n   </g>\n   <g id=\"matplotlib.axis_1\">\n    <g id=\"xtick_1\">\n     <g id=\"line2d_1\">\n      <path clip-path=\"url(#pe3912087ce)\" d=\"M 92.747557 241.58175 \nL 92.747557 24.14175 \n\" style=\"fill:none;stroke:#ffffff;stroke-linecap:square;stroke-width:0.8;\"/>\n     </g>\n     <g id=\"line2d_2\">\n      <defs>\n       <path d=\"M 0 0 \nL 0 3.5 \n\" id=\"mffe0c70a18\" style=\"stroke:#555555;stroke-width:0.8;\"/>\n      </defs>\n      <g>\n       <use style=\"fill:#555555;stroke:#555555;stroke-width:0.8;\" x=\"92.747557\" xlink:href=\"#mffe0c70a18\" y=\"241.58175\"/>\n      </g>\n     </g>\n     <g id=\"text_1\">\n      <!-- 1 -->\n      <defs>\n       <path d=\"M 12.40625 8.296875 \nL 28.515625 8.296875 \nL 28.515625 63.921875 \nL 10.984375 60.40625 \nL 10.984375 69.390625 \nL 28.421875 72.90625 \nL 38.28125 72.90625 \nL 38.28125 8.296875 \nL 54.390625 8.296875 \nL 54.390625 0 \nL 12.40625 0 \nz\n\" id=\"DejaVuSans-49\"/>\n      </defs>\n      <g style=\"fill:#555555;\" transform=\"translate(89.566307 256.180187)scale(0.1 -0.1)\">\n       <use xlink:href=\"#DejaVuSans-49\"/>\n      </g>\n     </g>\n    </g>\n    <g id=\"xtick_2\">\n     <g id=\"line2d_3\">\n      <path clip-path=\"url(#pe3912087ce)\" d=\"M 98.83483 241.58175 \nL 98.83483 24.14175 \n\" style=\"fill:none;stroke:#ffffff;stroke-linecap:square;stroke-width:0.8;\"/>\n     </g>\n     <g id=\"line2d_4\">\n      <g>\n       <use style=\"fill:#555555;stroke:#555555;stroke-width:0.8;\" x=\"98.83483\" xlink:href=\"#mffe0c70a18\" y=\"241.58175\"/>\n      </g>\n     </g>\n     <g id=\"text_2\">\n      <!-- 2 -->\n      <defs>\n       <path d=\"M 19.1875 8.296875 \nL 53.609375 8.296875 \nL 53.609375 0 \nL 7.328125 0 \nL 7.328125 8.296875 \nQ 12.9375 14.109375 22.625 23.890625 \nQ 32.328125 33.6875 34.8125 36.53125 \nQ 39.546875 41.84375 41.421875 45.53125 \nQ 43.3125 49.21875 43.3125 52.78125 \nQ 43.3125 58.59375 39.234375 62.25 \nQ 35.15625 65.921875 28.609375 65.921875 \nQ 23.96875 65.921875 18.8125 64.3125 \nQ 13.671875 62.703125 7.8125 59.421875 \nL 7.8125 69.390625 \nQ 13.765625 71.78125 18.9375 73 \nQ 24.125 74.21875 28.421875 74.21875 \nQ 39.75 74.21875 46.484375 68.546875 \nQ 53.21875 62.890625 53.21875 53.421875 \nQ 53.21875 48.921875 51.53125 44.890625 \nQ 49.859375 40.875 45.40625 35.40625 \nQ 44.1875 33.984375 37.640625 27.21875 \nQ 31.109375 20.453125 19.1875 8.296875 \nz\n\" id=\"DejaVuSans-50\"/>\n      </defs>\n      <g style=\"fill:#555555;\" transform=\"translate(95.65358 256.180187)scale(0.1 -0.1)\">\n       <use xlink:href=\"#DejaVuSans-50\"/>\n      </g>\n     </g>\n    </g>\n    <g id=\"xtick_3\">\n     <g id=\"line2d_5\">\n      <path clip-path=\"url(#pe3912087ce)\" d=\"M 104.922102 241.58175 \nL 104.922102 24.14175 \n\" style=\"fill:none;stroke:#ffffff;stroke-linecap:square;stroke-width:0.8;\"/>\n     </g>\n     <g id=\"line2d_6\">\n      <g>\n       <use style=\"fill:#555555;stroke:#555555;stroke-width:0.8;\" x=\"104.922102\" xlink:href=\"#mffe0c70a18\" y=\"241.58175\"/>\n      </g>\n     </g>\n     <g id=\"text_3\">\n      <!-- 3 -->\n      <defs>\n       <path d=\"M 40.578125 39.3125 \nQ 47.65625 37.796875 51.625 33 \nQ 55.609375 28.21875 55.609375 21.1875 \nQ 55.609375 10.40625 48.1875 4.484375 \nQ 40.765625 -1.421875 27.09375 -1.421875 \nQ 22.515625 -1.421875 17.65625 -0.515625 \nQ 12.796875 0.390625 7.625 2.203125 \nL 7.625 11.71875 \nQ 11.71875 9.328125 16.59375 8.109375 \nQ 21.484375 6.890625 26.8125 6.890625 \nQ 36.078125 6.890625 40.9375 10.546875 \nQ 45.796875 14.203125 45.796875 21.1875 \nQ 45.796875 27.640625 41.28125 31.265625 \nQ 36.765625 34.90625 28.71875 34.90625 \nL 20.21875 34.90625 \nL 20.21875 43.015625 \nL 29.109375 43.015625 \nQ 36.375 43.015625 40.234375 45.921875 \nQ 44.09375 48.828125 44.09375 54.296875 \nQ 44.09375 59.90625 40.109375 62.90625 \nQ 36.140625 65.921875 28.71875 65.921875 \nQ 24.65625 65.921875 20.015625 65.03125 \nQ 15.375 64.15625 9.8125 62.3125 \nL 9.8125 71.09375 \nQ 15.4375 72.65625 20.34375 73.4375 \nQ 25.25 74.21875 29.59375 74.21875 \nQ 40.828125 74.21875 47.359375 69.109375 \nQ 53.90625 64.015625 53.90625 55.328125 \nQ 53.90625 49.265625 50.4375 45.09375 \nQ 46.96875 40.921875 40.578125 39.3125 \nz\n\" id=\"DejaVuSans-51\"/>\n      </defs>\n      <g style=\"fill:#555555;\" transform=\"translate(101.740852 256.180187)scale(0.1 -0.1)\">\n       <use xlink:href=\"#DejaVuSans-51\"/>\n      </g>\n     </g>\n    </g>\n    <g id=\"xtick_4\">\n     <g id=\"line2d_7\">\n      <path clip-path=\"url(#pe3912087ce)\" d=\"M 111.009375 241.58175 \nL 111.009375 24.14175 \n\" style=\"fill:none;stroke:#ffffff;stroke-linecap:square;stroke-width:0.8;\"/>\n     </g>\n     <g id=\"line2d_8\">\n      <g>\n       <use style=\"fill:#555555;stroke:#555555;stroke-width:0.8;\" x=\"111.009375\" xlink:href=\"#mffe0c70a18\" y=\"241.58175\"/>\n      </g>\n     </g>\n     <g id=\"text_4\">\n      <!-- 4 -->\n      <defs>\n       <path d=\"M 37.796875 64.3125 \nL 12.890625 25.390625 \nL 37.796875 25.390625 \nz\nM 35.203125 72.90625 \nL 47.609375 72.90625 \nL 47.609375 25.390625 \nL 58.015625 25.390625 \nL 58.015625 17.1875 \nL 47.609375 17.1875 \nL 47.609375 0 \nL 37.796875 0 \nL 37.796875 17.1875 \nL 4.890625 17.1875 \nL 4.890625 26.703125 \nz\n\" id=\"DejaVuSans-52\"/>\n      </defs>\n      <g style=\"fill:#555555;\" transform=\"translate(107.828125 256.180187)scale(0.1 -0.1)\">\n       <use xlink:href=\"#DejaVuSans-52\"/>\n      </g>\n     </g>\n    </g>\n    <g id=\"xtick_5\">\n     <g id=\"line2d_9\">\n      <path clip-path=\"url(#pe3912087ce)\" d=\"M 117.096648 241.58175 \nL 117.096648 24.14175 \n\" style=\"fill:none;stroke:#ffffff;stroke-linecap:square;stroke-width:0.8;\"/>\n     </g>\n     <g id=\"line2d_10\">\n      <g>\n       <use style=\"fill:#555555;stroke:#555555;stroke-width:0.8;\" x=\"117.096648\" xlink:href=\"#mffe0c70a18\" y=\"241.58175\"/>\n      </g>\n     </g>\n     <g id=\"text_5\">\n      <!-- 5 -->\n      <defs>\n       <path d=\"M 10.796875 72.90625 \nL 49.515625 72.90625 \nL 49.515625 64.59375 \nL 19.828125 64.59375 \nL 19.828125 46.734375 \nQ 21.96875 47.46875 24.109375 47.828125 \nQ 26.265625 48.1875 28.421875 48.1875 \nQ 40.625 48.1875 47.75 41.5 \nQ 54.890625 34.8125 54.890625 23.390625 \nQ 54.890625 11.625 47.5625 5.09375 \nQ 40.234375 -1.421875 26.90625 -1.421875 \nQ 22.3125 -1.421875 17.546875 -0.640625 \nQ 12.796875 0.140625 7.71875 1.703125 \nL 7.71875 11.625 \nQ 12.109375 9.234375 16.796875 8.0625 \nQ 21.484375 6.890625 26.703125 6.890625 \nQ 35.15625 6.890625 40.078125 11.328125 \nQ 45.015625 15.765625 45.015625 23.390625 \nQ 45.015625 31 40.078125 35.4375 \nQ 35.15625 39.890625 26.703125 39.890625 \nQ 22.75 39.890625 18.8125 39.015625 \nQ 14.890625 38.140625 10.796875 36.28125 \nz\n\" id=\"DejaVuSans-53\"/>\n      </defs>\n      <g style=\"fill:#555555;\" transform=\"translate(113.915398 256.180187)scale(0.1 -0.1)\">\n       <use xlink:href=\"#DejaVuSans-53\"/>\n      </g>\n     </g>\n    </g>\n    <g id=\"xtick_6\">\n     <g id=\"line2d_11\">\n      <path clip-path=\"url(#pe3912087ce)\" d=\"M 123.18392 241.58175 \nL 123.18392 24.14175 \n\" style=\"fill:none;stroke:#ffffff;stroke-linecap:square;stroke-width:0.8;\"/>\n     </g>\n     <g id=\"line2d_12\">\n      <g>\n       <use style=\"fill:#555555;stroke:#555555;stroke-width:0.8;\" x=\"123.18392\" xlink:href=\"#mffe0c70a18\" y=\"241.58175\"/>\n      </g>\n     </g>\n     <g id=\"text_6\">\n      <!-- 6 -->\n      <defs>\n       <path d=\"M 33.015625 40.375 \nQ 26.375 40.375 22.484375 35.828125 \nQ 18.609375 31.296875 18.609375 23.390625 \nQ 18.609375 15.53125 22.484375 10.953125 \nQ 26.375 6.390625 33.015625 6.390625 \nQ 39.65625 6.390625 43.53125 10.953125 \nQ 47.40625 15.53125 47.40625 23.390625 \nQ 47.40625 31.296875 43.53125 35.828125 \nQ 39.65625 40.375 33.015625 40.375 \nz\nM 52.59375 71.296875 \nL 52.59375 62.3125 \nQ 48.875 64.0625 45.09375 64.984375 \nQ 41.3125 65.921875 37.59375 65.921875 \nQ 27.828125 65.921875 22.671875 59.328125 \nQ 17.53125 52.734375 16.796875 39.40625 \nQ 19.671875 43.65625 24.015625 45.921875 \nQ 28.375 48.1875 33.59375 48.1875 \nQ 44.578125 48.1875 50.953125 41.515625 \nQ 57.328125 34.859375 57.328125 23.390625 \nQ 57.328125 12.15625 50.6875 5.359375 \nQ 44.046875 -1.421875 33.015625 -1.421875 \nQ 20.359375 -1.421875 13.671875 8.265625 \nQ 6.984375 17.96875 6.984375 36.375 \nQ 6.984375 53.65625 15.1875 63.9375 \nQ 23.390625 74.21875 37.203125 74.21875 \nQ 40.921875 74.21875 44.703125 73.484375 \nQ 48.484375 72.75 52.59375 71.296875 \nz\n\" id=\"DejaVuSans-54\"/>\n      </defs>\n      <g style=\"fill:#555555;\" transform=\"translate(120.00267 256.180187)scale(0.1 -0.1)\">\n       <use xlink:href=\"#DejaVuSans-54\"/>\n      </g>\n     </g>\n    </g>\n    <g id=\"xtick_7\">\n     <g id=\"line2d_13\">\n      <path clip-path=\"url(#pe3912087ce)\" d=\"M 129.271193 241.58175 \nL 129.271193 24.14175 \n\" style=\"fill:none;stroke:#ffffff;stroke-linecap:square;stroke-width:0.8;\"/>\n     </g>\n     <g id=\"line2d_14\">\n      <g>\n       <use style=\"fill:#555555;stroke:#555555;stroke-width:0.8;\" x=\"129.271193\" xlink:href=\"#mffe0c70a18\" y=\"241.58175\"/>\n      </g>\n     </g>\n     <g id=\"text_7\">\n      <!-- 7 -->\n      <defs>\n       <path d=\"M 8.203125 72.90625 \nL 55.078125 72.90625 \nL 55.078125 68.703125 \nL 28.609375 0 \nL 18.3125 0 \nL 43.21875 64.59375 \nL 8.203125 64.59375 \nz\n\" id=\"DejaVuSans-55\"/>\n      </defs>\n      <g style=\"fill:#555555;\" transform=\"translate(126.089943 256.180187)scale(0.1 -0.1)\">\n       <use xlink:href=\"#DejaVuSans-55\"/>\n      </g>\n     </g>\n    </g>\n    <g id=\"xtick_8\">\n     <g id=\"line2d_15\">\n      <path clip-path=\"url(#pe3912087ce)\" d=\"M 135.358466 241.58175 \nL 135.358466 24.14175 \n\" style=\"fill:none;stroke:#ffffff;stroke-linecap:square;stroke-width:0.8;\"/>\n     </g>\n     <g id=\"line2d_16\">\n      <g>\n       <use style=\"fill:#555555;stroke:#555555;stroke-width:0.8;\" x=\"135.358466\" xlink:href=\"#mffe0c70a18\" y=\"241.58175\"/>\n      </g>\n     </g>\n     <g id=\"text_8\">\n      <!-- 8 -->\n      <defs>\n       <path d=\"M 31.78125 34.625 \nQ 24.75 34.625 20.71875 30.859375 \nQ 16.703125 27.09375 16.703125 20.515625 \nQ 16.703125 13.921875 20.71875 10.15625 \nQ 24.75 6.390625 31.78125 6.390625 \nQ 38.8125 6.390625 42.859375 10.171875 \nQ 46.921875 13.96875 46.921875 20.515625 \nQ 46.921875 27.09375 42.890625 30.859375 \nQ 38.875 34.625 31.78125 34.625 \nz\nM 21.921875 38.8125 \nQ 15.578125 40.375 12.03125 44.71875 \nQ 8.5 49.078125 8.5 55.328125 \nQ 8.5 64.0625 14.71875 69.140625 \nQ 20.953125 74.21875 31.78125 74.21875 \nQ 42.671875 74.21875 48.875 69.140625 \nQ 55.078125 64.0625 55.078125 55.328125 \nQ 55.078125 49.078125 51.53125 44.71875 \nQ 48 40.375 41.703125 38.8125 \nQ 48.828125 37.15625 52.796875 32.3125 \nQ 56.78125 27.484375 56.78125 20.515625 \nQ 56.78125 9.90625 50.3125 4.234375 \nQ 43.84375 -1.421875 31.78125 -1.421875 \nQ 19.734375 -1.421875 13.25 4.234375 \nQ 6.78125 9.90625 6.78125 20.515625 \nQ 6.78125 27.484375 10.78125 32.3125 \nQ 14.796875 37.15625 21.921875 38.8125 \nz\nM 18.3125 54.390625 \nQ 18.3125 48.734375 21.84375 45.5625 \nQ 25.390625 42.390625 31.78125 42.390625 \nQ 38.140625 42.390625 41.71875 45.5625 \nQ 45.3125 48.734375 45.3125 54.390625 \nQ 45.3125 60.0625 41.71875 63.234375 \nQ 38.140625 66.40625 31.78125 66.40625 \nQ 25.390625 66.40625 21.84375 63.234375 \nQ 18.3125 60.0625 18.3125 54.390625 \nz\n\" id=\"DejaVuSans-56\"/>\n      </defs>\n      <g style=\"fill:#555555;\" transform=\"translate(132.177216 256.180187)scale(0.1 -0.1)\">\n       <use xlink:href=\"#DejaVuSans-56\"/>\n      </g>\n     </g>\n    </g>\n    <g id=\"xtick_9\">\n     <g id=\"line2d_17\">\n      <path clip-path=\"url(#pe3912087ce)\" d=\"M 141.445739 241.58175 \nL 141.445739 24.14175 \n\" style=\"fill:none;stroke:#ffffff;stroke-linecap:square;stroke-width:0.8;\"/>\n     </g>\n     <g id=\"line2d_18\">\n      <g>\n       <use style=\"fill:#555555;stroke:#555555;stroke-width:0.8;\" x=\"141.445739\" xlink:href=\"#mffe0c70a18\" y=\"241.58175\"/>\n      </g>\n     </g>\n     <g id=\"text_9\">\n      <!-- 9 -->\n      <defs>\n       <path d=\"M 10.984375 1.515625 \nL 10.984375 10.5 \nQ 14.703125 8.734375 18.5 7.8125 \nQ 22.3125 6.890625 25.984375 6.890625 \nQ 35.75 6.890625 40.890625 13.453125 \nQ 46.046875 20.015625 46.78125 33.40625 \nQ 43.953125 29.203125 39.59375 26.953125 \nQ 35.25 24.703125 29.984375 24.703125 \nQ 19.046875 24.703125 12.671875 31.3125 \nQ 6.296875 37.9375 6.296875 49.421875 \nQ 6.296875 60.640625 12.9375 67.421875 \nQ 19.578125 74.21875 30.609375 74.21875 \nQ 43.265625 74.21875 49.921875 64.515625 \nQ 56.59375 54.828125 56.59375 36.375 \nQ 56.59375 19.140625 48.40625 8.859375 \nQ 40.234375 -1.421875 26.421875 -1.421875 \nQ 22.703125 -1.421875 18.890625 -0.6875 \nQ 15.09375 0.046875 10.984375 1.515625 \nz\nM 30.609375 32.421875 \nQ 37.25 32.421875 41.125 36.953125 \nQ 45.015625 41.5 45.015625 49.421875 \nQ 45.015625 57.28125 41.125 61.84375 \nQ 37.25 66.40625 30.609375 66.40625 \nQ 23.96875 66.40625 20.09375 61.84375 \nQ 16.21875 57.28125 16.21875 49.421875 \nQ 16.21875 41.5 20.09375 36.953125 \nQ 23.96875 32.421875 30.609375 32.421875 \nz\n\" id=\"DejaVuSans-57\"/>\n      </defs>\n      <g style=\"fill:#555555;\" transform=\"translate(138.264489 256.180187)scale(0.1 -0.1)\">\n       <use xlink:href=\"#DejaVuSans-57\"/>\n      </g>\n     </g>\n    </g>\n    <g id=\"xtick_10\">\n     <g id=\"line2d_19\">\n      <path clip-path=\"url(#pe3912087ce)\" d=\"M 147.533011 241.58175 \nL 147.533011 24.14175 \n\" style=\"fill:none;stroke:#ffffff;stroke-linecap:square;stroke-width:0.8;\"/>\n     </g>\n     <g id=\"line2d_20\">\n      <g>\n       <use style=\"fill:#555555;stroke:#555555;stroke-width:0.8;\" x=\"147.533011\" xlink:href=\"#mffe0c70a18\" y=\"241.58175\"/>\n      </g>\n     </g>\n     <g id=\"text_10\">\n      <!-- 10 -->\n      <defs>\n       <path d=\"M 31.78125 66.40625 \nQ 24.171875 66.40625 20.328125 58.90625 \nQ 16.5 51.421875 16.5 36.375 \nQ 16.5 21.390625 20.328125 13.890625 \nQ 24.171875 6.390625 31.78125 6.390625 \nQ 39.453125 6.390625 43.28125 13.890625 \nQ 47.125 21.390625 47.125 36.375 \nQ 47.125 51.421875 43.28125 58.90625 \nQ 39.453125 66.40625 31.78125 66.40625 \nz\nM 31.78125 74.21875 \nQ 44.046875 74.21875 50.515625 64.515625 \nQ 56.984375 54.828125 56.984375 36.375 \nQ 56.984375 17.96875 50.515625 8.265625 \nQ 44.046875 -1.421875 31.78125 -1.421875 \nQ 19.53125 -1.421875 13.0625 8.265625 \nQ 6.59375 17.96875 6.59375 36.375 \nQ 6.59375 54.828125 13.0625 64.515625 \nQ 19.53125 74.21875 31.78125 74.21875 \nz\n\" id=\"DejaVuSans-48\"/>\n      </defs>\n      <g style=\"fill:#555555;\" transform=\"translate(141.170511 256.180187)scale(0.1 -0.1)\">\n       <use xlink:href=\"#DejaVuSans-49\"/>\n       <use x=\"63.623047\" xlink:href=\"#DejaVuSans-48\"/>\n      </g>\n     </g>\n    </g>\n    <g id=\"xtick_11\">\n     <g id=\"line2d_21\">\n      <path clip-path=\"url(#pe3912087ce)\" d=\"M 153.620284 241.58175 \nL 153.620284 24.14175 \n\" style=\"fill:none;stroke:#ffffff;stroke-linecap:square;stroke-width:0.8;\"/>\n     </g>\n     <g id=\"line2d_22\">\n      <g>\n       <use style=\"fill:#555555;stroke:#555555;stroke-width:0.8;\" x=\"153.620284\" xlink:href=\"#mffe0c70a18\" y=\"241.58175\"/>\n      </g>\n     </g>\n     <g id=\"text_11\">\n      <!-- 11 -->\n      <g style=\"fill:#555555;\" transform=\"translate(147.257784 256.180187)scale(0.1 -0.1)\">\n       <use xlink:href=\"#DejaVuSans-49\"/>\n       <use x=\"63.623047\" xlink:href=\"#DejaVuSans-49\"/>\n      </g>\n     </g>\n    </g>\n    <g id=\"xtick_12\">\n     <g id=\"line2d_23\">\n      <path clip-path=\"url(#pe3912087ce)\" d=\"M 159.707557 241.58175 \nL 159.707557 24.14175 \n\" style=\"fill:none;stroke:#ffffff;stroke-linecap:square;stroke-width:0.8;\"/>\n     </g>\n     <g id=\"line2d_24\">\n      <g>\n       <use style=\"fill:#555555;stroke:#555555;stroke-width:0.8;\" x=\"159.707557\" xlink:href=\"#mffe0c70a18\" y=\"241.58175\"/>\n      </g>\n     </g>\n     <g id=\"text_12\">\n      <!-- 12 -->\n      <g style=\"fill:#555555;\" transform=\"translate(153.345057 256.180187)scale(0.1 -0.1)\">\n       <use xlink:href=\"#DejaVuSans-49\"/>\n       <use x=\"63.623047\" xlink:href=\"#DejaVuSans-50\"/>\n      </g>\n     </g>\n    </g>\n    <g id=\"xtick_13\">\n     <g id=\"line2d_25\">\n      <path clip-path=\"url(#pe3912087ce)\" d=\"M 165.79483 241.58175 \nL 165.79483 24.14175 \n\" style=\"fill:none;stroke:#ffffff;stroke-linecap:square;stroke-width:0.8;\"/>\n     </g>\n     <g id=\"line2d_26\">\n      <g>\n       <use style=\"fill:#555555;stroke:#555555;stroke-width:0.8;\" x=\"165.79483\" xlink:href=\"#mffe0c70a18\" y=\"241.58175\"/>\n      </g>\n     </g>\n     <g id=\"text_13\">\n      <!-- 13 -->\n      <g style=\"fill:#555555;\" transform=\"translate(159.43233 256.180187)scale(0.1 -0.1)\">\n       <use xlink:href=\"#DejaVuSans-49\"/>\n       <use x=\"63.623047\" xlink:href=\"#DejaVuSans-51\"/>\n      </g>\n     </g>\n    </g>\n    <g id=\"xtick_14\">\n     <g id=\"line2d_27\">\n      <path clip-path=\"url(#pe3912087ce)\" d=\"M 171.882102 241.58175 \nL 171.882102 24.14175 \n\" style=\"fill:none;stroke:#ffffff;stroke-linecap:square;stroke-width:0.8;\"/>\n     </g>\n     <g id=\"line2d_28\">\n      <g>\n       <use style=\"fill:#555555;stroke:#555555;stroke-width:0.8;\" x=\"171.882102\" xlink:href=\"#mffe0c70a18\" y=\"241.58175\"/>\n      </g>\n     </g>\n     <g id=\"text_14\">\n      <!-- 14 -->\n      <g style=\"fill:#555555;\" transform=\"translate(165.519602 256.180187)scale(0.1 -0.1)\">\n       <use xlink:href=\"#DejaVuSans-49\"/>\n       <use x=\"63.623047\" xlink:href=\"#DejaVuSans-52\"/>\n      </g>\n     </g>\n    </g>\n    <g id=\"xtick_15\">\n     <g id=\"line2d_29\">\n      <path clip-path=\"url(#pe3912087ce)\" d=\"M 177.969375 241.58175 \nL 177.969375 24.14175 \n\" style=\"fill:none;stroke:#ffffff;stroke-linecap:square;stroke-width:0.8;\"/>\n     </g>\n     <g id=\"line2d_30\">\n      <g>\n       <use style=\"fill:#555555;stroke:#555555;stroke-width:0.8;\" x=\"177.969375\" xlink:href=\"#mffe0c70a18\" y=\"241.58175\"/>\n      </g>\n     </g>\n     <g id=\"text_15\">\n      <!-- 15 -->\n      <g style=\"fill:#555555;\" transform=\"translate(171.606875 256.180187)scale(0.1 -0.1)\">\n       <use xlink:href=\"#DejaVuSans-49\"/>\n       <use x=\"63.623047\" xlink:href=\"#DejaVuSans-53\"/>\n      </g>\n     </g>\n    </g>\n    <g id=\"xtick_16\">\n     <g id=\"line2d_31\">\n      <path clip-path=\"url(#pe3912087ce)\" d=\"M 184.056648 241.58175 \nL 184.056648 24.14175 \n\" style=\"fill:none;stroke:#ffffff;stroke-linecap:square;stroke-width:0.8;\"/>\n     </g>\n     <g id=\"line2d_32\">\n      <g>\n       <use style=\"fill:#555555;stroke:#555555;stroke-width:0.8;\" x=\"184.056648\" xlink:href=\"#mffe0c70a18\" y=\"241.58175\"/>\n      </g>\n     </g>\n     <g id=\"text_16\">\n      <!-- 16 -->\n      <g style=\"fill:#555555;\" transform=\"translate(177.694148 256.180187)scale(0.1 -0.1)\">\n       <use xlink:href=\"#DejaVuSans-49\"/>\n       <use x=\"63.623047\" xlink:href=\"#DejaVuSans-54\"/>\n      </g>\n     </g>\n    </g>\n    <g id=\"xtick_17\">\n     <g id=\"line2d_33\">\n      <path clip-path=\"url(#pe3912087ce)\" d=\"M 190.14392 241.58175 \nL 190.14392 24.14175 \n\" style=\"fill:none;stroke:#ffffff;stroke-linecap:square;stroke-width:0.8;\"/>\n     </g>\n     <g id=\"line2d_34\">\n      <g>\n       <use style=\"fill:#555555;stroke:#555555;stroke-width:0.8;\" x=\"190.14392\" xlink:href=\"#mffe0c70a18\" y=\"241.58175\"/>\n      </g>\n     </g>\n     <g id=\"text_17\">\n      <!-- 17 -->\n      <g style=\"fill:#555555;\" transform=\"translate(183.78142 256.180187)scale(0.1 -0.1)\">\n       <use xlink:href=\"#DejaVuSans-49\"/>\n       <use x=\"63.623047\" xlink:href=\"#DejaVuSans-55\"/>\n      </g>\n     </g>\n    </g>\n    <g id=\"xtick_18\">\n     <g id=\"line2d_35\">\n      <path clip-path=\"url(#pe3912087ce)\" d=\"M 196.231193 241.58175 \nL 196.231193 24.14175 \n\" style=\"fill:none;stroke:#ffffff;stroke-linecap:square;stroke-width:0.8;\"/>\n     </g>\n     <g id=\"line2d_36\">\n      <g>\n       <use style=\"fill:#555555;stroke:#555555;stroke-width:0.8;\" x=\"196.231193\" xlink:href=\"#mffe0c70a18\" y=\"241.58175\"/>\n      </g>\n     </g>\n     <g id=\"text_18\">\n      <!-- 18 -->\n      <g style=\"fill:#555555;\" transform=\"translate(189.868693 256.180187)scale(0.1 -0.1)\">\n       <use xlink:href=\"#DejaVuSans-49\"/>\n       <use x=\"63.623047\" xlink:href=\"#DejaVuSans-56\"/>\n      </g>\n     </g>\n    </g>\n    <g id=\"xtick_19\">\n     <g id=\"line2d_37\">\n      <path clip-path=\"url(#pe3912087ce)\" d=\"M 202.318466 241.58175 \nL 202.318466 24.14175 \n\" style=\"fill:none;stroke:#ffffff;stroke-linecap:square;stroke-width:0.8;\"/>\n     </g>\n     <g id=\"line2d_38\">\n      <g>\n       <use style=\"fill:#555555;stroke:#555555;stroke-width:0.8;\" x=\"202.318466\" xlink:href=\"#mffe0c70a18\" y=\"241.58175\"/>\n      </g>\n     </g>\n     <g id=\"text_19\">\n      <!-- 19 -->\n      <g style=\"fill:#555555;\" transform=\"translate(195.955966 256.180187)scale(0.1 -0.1)\">\n       <use xlink:href=\"#DejaVuSans-49\"/>\n       <use x=\"63.623047\" xlink:href=\"#DejaVuSans-57\"/>\n      </g>\n     </g>\n    </g>\n    <g id=\"xtick_20\">\n     <g id=\"line2d_39\">\n      <path clip-path=\"url(#pe3912087ce)\" d=\"M 208.405739 241.58175 \nL 208.405739 24.14175 \n\" style=\"fill:none;stroke:#ffffff;stroke-linecap:square;stroke-width:0.8;\"/>\n     </g>\n     <g id=\"line2d_40\">\n      <g>\n       <use style=\"fill:#555555;stroke:#555555;stroke-width:0.8;\" x=\"208.405739\" xlink:href=\"#mffe0c70a18\" y=\"241.58175\"/>\n      </g>\n     </g>\n     <g id=\"text_20\">\n      <!-- 20 -->\n      <g style=\"fill:#555555;\" transform=\"translate(202.043239 256.180187)scale(0.1 -0.1)\">\n       <use xlink:href=\"#DejaVuSans-50\"/>\n       <use x=\"63.623047\" xlink:href=\"#DejaVuSans-48\"/>\n      </g>\n     </g>\n    </g>\n    <g id=\"xtick_21\">\n     <g id=\"line2d_41\">\n      <path clip-path=\"url(#pe3912087ce)\" d=\"M 214.493011 241.58175 \nL 214.493011 24.14175 \n\" style=\"fill:none;stroke:#ffffff;stroke-linecap:square;stroke-width:0.8;\"/>\n     </g>\n     <g id=\"line2d_42\">\n      <g>\n       <use style=\"fill:#555555;stroke:#555555;stroke-width:0.8;\" x=\"214.493011\" xlink:href=\"#mffe0c70a18\" y=\"241.58175\"/>\n      </g>\n     </g>\n     <g id=\"text_21\">\n      <!-- 21 -->\n      <g style=\"fill:#555555;\" transform=\"translate(208.130511 256.180187)scale(0.1 -0.1)\">\n       <use xlink:href=\"#DejaVuSans-50\"/>\n       <use x=\"63.623047\" xlink:href=\"#DejaVuSans-49\"/>\n      </g>\n     </g>\n    </g>\n    <g id=\"xtick_22\">\n     <g id=\"line2d_43\">\n      <path clip-path=\"url(#pe3912087ce)\" d=\"M 220.580284 241.58175 \nL 220.580284 24.14175 \n\" style=\"fill:none;stroke:#ffffff;stroke-linecap:square;stroke-width:0.8;\"/>\n     </g>\n     <g id=\"line2d_44\">\n      <g>\n       <use style=\"fill:#555555;stroke:#555555;stroke-width:0.8;\" x=\"220.580284\" xlink:href=\"#mffe0c70a18\" y=\"241.58175\"/>\n      </g>\n     </g>\n     <g id=\"text_22\">\n      <!-- 22 -->\n      <g style=\"fill:#555555;\" transform=\"translate(214.217784 256.180187)scale(0.1 -0.1)\">\n       <use xlink:href=\"#DejaVuSans-50\"/>\n       <use x=\"63.623047\" xlink:href=\"#DejaVuSans-50\"/>\n      </g>\n     </g>\n    </g>\n    <g id=\"xtick_23\">\n     <g id=\"line2d_45\">\n      <path clip-path=\"url(#pe3912087ce)\" d=\"M 226.667557 241.58175 \nL 226.667557 24.14175 \n\" style=\"fill:none;stroke:#ffffff;stroke-linecap:square;stroke-width:0.8;\"/>\n     </g>\n     <g id=\"line2d_46\">\n      <g>\n       <use style=\"fill:#555555;stroke:#555555;stroke-width:0.8;\" x=\"226.667557\" xlink:href=\"#mffe0c70a18\" y=\"241.58175\"/>\n      </g>\n     </g>\n     <g id=\"text_23\">\n      <!-- 23 -->\n      <g style=\"fill:#555555;\" transform=\"translate(220.305057 256.180187)scale(0.1 -0.1)\">\n       <use xlink:href=\"#DejaVuSans-50\"/>\n       <use x=\"63.623047\" xlink:href=\"#DejaVuSans-51\"/>\n      </g>\n     </g>\n    </g>\n    <g id=\"xtick_24\">\n     <g id=\"line2d_47\">\n      <path clip-path=\"url(#pe3912087ce)\" d=\"M 232.75483 241.58175 \nL 232.75483 24.14175 \n\" style=\"fill:none;stroke:#ffffff;stroke-linecap:square;stroke-width:0.8;\"/>\n     </g>\n     <g id=\"line2d_48\">\n      <g>\n       <use style=\"fill:#555555;stroke:#555555;stroke-width:0.8;\" x=\"232.75483\" xlink:href=\"#mffe0c70a18\" y=\"241.58175\"/>\n      </g>\n     </g>\n     <g id=\"text_24\">\n      <!-- 24 -->\n      <g style=\"fill:#555555;\" transform=\"translate(226.39233 256.180187)scale(0.1 -0.1)\">\n       <use xlink:href=\"#DejaVuSans-50\"/>\n       <use x=\"63.623047\" xlink:href=\"#DejaVuSans-52\"/>\n      </g>\n     </g>\n    </g>\n    <g id=\"xtick_25\">\n     <g id=\"line2d_49\">\n      <path clip-path=\"url(#pe3912087ce)\" d=\"M 238.842102 241.58175 \nL 238.842102 24.14175 \n\" style=\"fill:none;stroke:#ffffff;stroke-linecap:square;stroke-width:0.8;\"/>\n     </g>\n     <g id=\"line2d_50\">\n      <g>\n       <use style=\"fill:#555555;stroke:#555555;stroke-width:0.8;\" x=\"238.842102\" xlink:href=\"#mffe0c70a18\" y=\"241.58175\"/>\n      </g>\n     </g>\n     <g id=\"text_25\">\n      <!-- 25 -->\n      <g style=\"fill:#555555;\" transform=\"translate(232.479602 256.180187)scale(0.1 -0.1)\">\n       <use xlink:href=\"#DejaVuSans-50\"/>\n       <use x=\"63.623047\" xlink:href=\"#DejaVuSans-53\"/>\n      </g>\n     </g>\n    </g>\n    <g id=\"xtick_26\">\n     <g id=\"line2d_51\">\n      <path clip-path=\"url(#pe3912087ce)\" d=\"M 244.929375 241.58175 \nL 244.929375 24.14175 \n\" style=\"fill:none;stroke:#ffffff;stroke-linecap:square;stroke-width:0.8;\"/>\n     </g>\n     <g id=\"line2d_52\">\n      <g>\n       <use style=\"fill:#555555;stroke:#555555;stroke-width:0.8;\" x=\"244.929375\" xlink:href=\"#mffe0c70a18\" y=\"241.58175\"/>\n      </g>\n     </g>\n     <g id=\"text_26\">\n      <!-- 26 -->\n      <g style=\"fill:#555555;\" transform=\"translate(238.566875 256.180187)scale(0.1 -0.1)\">\n       <use xlink:href=\"#DejaVuSans-50\"/>\n       <use x=\"63.623047\" xlink:href=\"#DejaVuSans-54\"/>\n      </g>\n     </g>\n    </g>\n    <g id=\"xtick_27\">\n     <g id=\"line2d_53\">\n      <path clip-path=\"url(#pe3912087ce)\" d=\"M 251.016648 241.58175 \nL 251.016648 24.14175 \n\" style=\"fill:none;stroke:#ffffff;stroke-linecap:square;stroke-width:0.8;\"/>\n     </g>\n     <g id=\"line2d_54\">\n      <g>\n       <use style=\"fill:#555555;stroke:#555555;stroke-width:0.8;\" x=\"251.016648\" xlink:href=\"#mffe0c70a18\" y=\"241.58175\"/>\n      </g>\n     </g>\n     <g id=\"text_27\">\n      <!-- 27 -->\n      <g style=\"fill:#555555;\" transform=\"translate(244.654148 256.180187)scale(0.1 -0.1)\">\n       <use xlink:href=\"#DejaVuSans-50\"/>\n       <use x=\"63.623047\" xlink:href=\"#DejaVuSans-55\"/>\n      </g>\n     </g>\n    </g>\n    <g id=\"xtick_28\">\n     <g id=\"line2d_55\">\n      <path clip-path=\"url(#pe3912087ce)\" d=\"M 257.10392 241.58175 \nL 257.10392 24.14175 \n\" style=\"fill:none;stroke:#ffffff;stroke-linecap:square;stroke-width:0.8;\"/>\n     </g>\n     <g id=\"line2d_56\">\n      <g>\n       <use style=\"fill:#555555;stroke:#555555;stroke-width:0.8;\" x=\"257.10392\" xlink:href=\"#mffe0c70a18\" y=\"241.58175\"/>\n      </g>\n     </g>\n     <g id=\"text_28\">\n      <!-- 28 -->\n      <g style=\"fill:#555555;\" transform=\"translate(250.74142 256.180187)scale(0.1 -0.1)\">\n       <use xlink:href=\"#DejaVuSans-50\"/>\n       <use x=\"63.623047\" xlink:href=\"#DejaVuSans-56\"/>\n      </g>\n     </g>\n    </g>\n    <g id=\"xtick_29\">\n     <g id=\"line2d_57\">\n      <path clip-path=\"url(#pe3912087ce)\" d=\"M 263.191193 241.58175 \nL 263.191193 24.14175 \n\" style=\"fill:none;stroke:#ffffff;stroke-linecap:square;stroke-width:0.8;\"/>\n     </g>\n     <g id=\"line2d_58\">\n      <g>\n       <use style=\"fill:#555555;stroke:#555555;stroke-width:0.8;\" x=\"263.191193\" xlink:href=\"#mffe0c70a18\" y=\"241.58175\"/>\n      </g>\n     </g>\n     <g id=\"text_29\">\n      <!-- 29 -->\n      <g style=\"fill:#555555;\" transform=\"translate(256.828693 256.180187)scale(0.1 -0.1)\">\n       <use xlink:href=\"#DejaVuSans-50\"/>\n       <use x=\"63.623047\" xlink:href=\"#DejaVuSans-57\"/>\n      </g>\n     </g>\n    </g>\n    <g id=\"xtick_30\">\n     <g id=\"line2d_59\">\n      <path clip-path=\"url(#pe3912087ce)\" d=\"M 269.278466 241.58175 \nL 269.278466 24.14175 \n\" style=\"fill:none;stroke:#ffffff;stroke-linecap:square;stroke-width:0.8;\"/>\n     </g>\n     <g id=\"line2d_60\">\n      <g>\n       <use style=\"fill:#555555;stroke:#555555;stroke-width:0.8;\" x=\"269.278466\" xlink:href=\"#mffe0c70a18\" y=\"241.58175\"/>\n      </g>\n     </g>\n     <g id=\"text_30\">\n      <!-- 30 -->\n      <g style=\"fill:#555555;\" transform=\"translate(262.915966 256.180187)scale(0.1 -0.1)\">\n       <use xlink:href=\"#DejaVuSans-51\"/>\n       <use x=\"63.623047\" xlink:href=\"#DejaVuSans-48\"/>\n      </g>\n     </g>\n    </g>\n    <g id=\"xtick_31\">\n     <g id=\"line2d_61\">\n      <path clip-path=\"url(#pe3912087ce)\" d=\"M 275.365739 241.58175 \nL 275.365739 24.14175 \n\" style=\"fill:none;stroke:#ffffff;stroke-linecap:square;stroke-width:0.8;\"/>\n     </g>\n     <g id=\"line2d_62\">\n      <g>\n       <use style=\"fill:#555555;stroke:#555555;stroke-width:0.8;\" x=\"275.365739\" xlink:href=\"#mffe0c70a18\" y=\"241.58175\"/>\n      </g>\n     </g>\n     <g id=\"text_31\">\n      <!-- 31 -->\n      <g style=\"fill:#555555;\" transform=\"translate(269.003239 256.180187)scale(0.1 -0.1)\">\n       <use xlink:href=\"#DejaVuSans-51\"/>\n       <use x=\"63.623047\" xlink:href=\"#DejaVuSans-49\"/>\n      </g>\n     </g>\n    </g>\n    <g id=\"xtick_32\">\n     <g id=\"line2d_63\">\n      <path clip-path=\"url(#pe3912087ce)\" d=\"M 281.453011 241.58175 \nL 281.453011 24.14175 \n\" style=\"fill:none;stroke:#ffffff;stroke-linecap:square;stroke-width:0.8;\"/>\n     </g>\n     <g id=\"line2d_64\">\n      <g>\n       <use style=\"fill:#555555;stroke:#555555;stroke-width:0.8;\" x=\"281.453011\" xlink:href=\"#mffe0c70a18\" y=\"241.58175\"/>\n      </g>\n     </g>\n     <g id=\"text_32\">\n      <!-- 32 -->\n      <g style=\"fill:#555555;\" transform=\"translate(275.090511 256.180187)scale(0.1 -0.1)\">\n       <use xlink:href=\"#DejaVuSans-51\"/>\n       <use x=\"63.623047\" xlink:href=\"#DejaVuSans-50\"/>\n      </g>\n     </g>\n    </g>\n    <g id=\"xtick_33\">\n     <g id=\"line2d_65\">\n      <path clip-path=\"url(#pe3912087ce)\" d=\"M 287.540284 241.58175 \nL 287.540284 24.14175 \n\" style=\"fill:none;stroke:#ffffff;stroke-linecap:square;stroke-width:0.8;\"/>\n     </g>\n     <g id=\"line2d_66\">\n      <g>\n       <use style=\"fill:#555555;stroke:#555555;stroke-width:0.8;\" x=\"287.540284\" xlink:href=\"#mffe0c70a18\" y=\"241.58175\"/>\n      </g>\n     </g>\n     <g id=\"text_33\">\n      <!-- 33 -->\n      <g style=\"fill:#555555;\" transform=\"translate(281.177784 256.180187)scale(0.1 -0.1)\">\n       <use xlink:href=\"#DejaVuSans-51\"/>\n       <use x=\"63.623047\" xlink:href=\"#DejaVuSans-51\"/>\n      </g>\n     </g>\n    </g>\n    <g id=\"xtick_34\">\n     <g id=\"line2d_67\">\n      <path clip-path=\"url(#pe3912087ce)\" d=\"M 293.627557 241.58175 \nL 293.627557 24.14175 \n\" style=\"fill:none;stroke:#ffffff;stroke-linecap:square;stroke-width:0.8;\"/>\n     </g>\n     <g id=\"line2d_68\">\n      <g>\n       <use style=\"fill:#555555;stroke:#555555;stroke-width:0.8;\" x=\"293.627557\" xlink:href=\"#mffe0c70a18\" y=\"241.58175\"/>\n      </g>\n     </g>\n     <g id=\"text_34\">\n      <!-- 34 -->\n      <g style=\"fill:#555555;\" transform=\"translate(287.265057 256.180187)scale(0.1 -0.1)\">\n       <use xlink:href=\"#DejaVuSans-51\"/>\n       <use x=\"63.623047\" xlink:href=\"#DejaVuSans-52\"/>\n      </g>\n     </g>\n    </g>\n    <g id=\"xtick_35\">\n     <g id=\"line2d_69\">\n      <path clip-path=\"url(#pe3912087ce)\" d=\"M 299.71483 241.58175 \nL 299.71483 24.14175 \n\" style=\"fill:none;stroke:#ffffff;stroke-linecap:square;stroke-width:0.8;\"/>\n     </g>\n     <g id=\"line2d_70\">\n      <g>\n       <use style=\"fill:#555555;stroke:#555555;stroke-width:0.8;\" x=\"299.71483\" xlink:href=\"#mffe0c70a18\" y=\"241.58175\"/>\n      </g>\n     </g>\n     <g id=\"text_35\">\n      <!-- 35 -->\n      <g style=\"fill:#555555;\" transform=\"translate(293.35233 256.180187)scale(0.1 -0.1)\">\n       <use xlink:href=\"#DejaVuSans-51\"/>\n       <use x=\"63.623047\" xlink:href=\"#DejaVuSans-53\"/>\n      </g>\n     </g>\n    </g>\n    <g id=\"xtick_36\">\n     <g id=\"line2d_71\">\n      <path clip-path=\"url(#pe3912087ce)\" d=\"M 305.802102 241.58175 \nL 305.802102 24.14175 \n\" style=\"fill:none;stroke:#ffffff;stroke-linecap:square;stroke-width:0.8;\"/>\n     </g>\n     <g id=\"line2d_72\">\n      <g>\n       <use style=\"fill:#555555;stroke:#555555;stroke-width:0.8;\" x=\"305.802102\" xlink:href=\"#mffe0c70a18\" y=\"241.58175\"/>\n      </g>\n     </g>\n     <g id=\"text_36\">\n      <!-- 36 -->\n      <g style=\"fill:#555555;\" transform=\"translate(299.439602 256.180187)scale(0.1 -0.1)\">\n       <use xlink:href=\"#DejaVuSans-51\"/>\n       <use x=\"63.623047\" xlink:href=\"#DejaVuSans-54\"/>\n      </g>\n     </g>\n    </g>\n    <g id=\"xtick_37\">\n     <g id=\"line2d_73\">\n      <path clip-path=\"url(#pe3912087ce)\" d=\"M 311.889375 241.58175 \nL 311.889375 24.14175 \n\" style=\"fill:none;stroke:#ffffff;stroke-linecap:square;stroke-width:0.8;\"/>\n     </g>\n     <g id=\"line2d_74\">\n      <g>\n       <use style=\"fill:#555555;stroke:#555555;stroke-width:0.8;\" x=\"311.889375\" xlink:href=\"#mffe0c70a18\" y=\"241.58175\"/>\n      </g>\n     </g>\n     <g id=\"text_37\">\n      <!-- 37 -->\n      <g style=\"fill:#555555;\" transform=\"translate(305.526875 256.180187)scale(0.1 -0.1)\">\n       <use xlink:href=\"#DejaVuSans-51\"/>\n       <use x=\"63.623047\" xlink:href=\"#DejaVuSans-55\"/>\n      </g>\n     </g>\n    </g>\n    <g id=\"xtick_38\">\n     <g id=\"line2d_75\">\n      <path clip-path=\"url(#pe3912087ce)\" d=\"M 317.976648 241.58175 \nL 317.976648 24.14175 \n\" style=\"fill:none;stroke:#ffffff;stroke-linecap:square;stroke-width:0.8;\"/>\n     </g>\n     <g id=\"line2d_76\">\n      <g>\n       <use style=\"fill:#555555;stroke:#555555;stroke-width:0.8;\" x=\"317.976648\" xlink:href=\"#mffe0c70a18\" y=\"241.58175\"/>\n      </g>\n     </g>\n     <g id=\"text_38\">\n      <!-- 38 -->\n      <g style=\"fill:#555555;\" transform=\"translate(311.614148 256.180187)scale(0.1 -0.1)\">\n       <use xlink:href=\"#DejaVuSans-51\"/>\n       <use x=\"63.623047\" xlink:href=\"#DejaVuSans-56\"/>\n      </g>\n     </g>\n    </g>\n    <g id=\"xtick_39\">\n     <g id=\"line2d_77\">\n      <path clip-path=\"url(#pe3912087ce)\" d=\"M 324.06392 241.58175 \nL 324.06392 24.14175 \n\" style=\"fill:none;stroke:#ffffff;stroke-linecap:square;stroke-width:0.8;\"/>\n     </g>\n     <g id=\"line2d_78\">\n      <g>\n       <use style=\"fill:#555555;stroke:#555555;stroke-width:0.8;\" x=\"324.06392\" xlink:href=\"#mffe0c70a18\" y=\"241.58175\"/>\n      </g>\n     </g>\n     <g id=\"text_39\">\n      <!-- 39 -->\n      <g style=\"fill:#555555;\" transform=\"translate(317.70142 256.180187)scale(0.1 -0.1)\">\n       <use xlink:href=\"#DejaVuSans-51\"/>\n       <use x=\"63.623047\" xlink:href=\"#DejaVuSans-57\"/>\n      </g>\n     </g>\n    </g>\n    <g id=\"xtick_40\">\n     <g id=\"line2d_79\">\n      <path clip-path=\"url(#pe3912087ce)\" d=\"M 330.151193 241.58175 \nL 330.151193 24.14175 \n\" style=\"fill:none;stroke:#ffffff;stroke-linecap:square;stroke-width:0.8;\"/>\n     </g>\n     <g id=\"line2d_80\">\n      <g>\n       <use style=\"fill:#555555;stroke:#555555;stroke-width:0.8;\" x=\"330.151193\" xlink:href=\"#mffe0c70a18\" y=\"241.58175\"/>\n      </g>\n     </g>\n     <g id=\"text_40\">\n      <!-- 40 -->\n      <g style=\"fill:#555555;\" transform=\"translate(323.788693 256.180187)scale(0.1 -0.1)\">\n       <use xlink:href=\"#DejaVuSans-52\"/>\n       <use x=\"63.623047\" xlink:href=\"#DejaVuSans-48\"/>\n      </g>\n     </g>\n    </g>\n    <g id=\"xtick_41\">\n     <g id=\"line2d_81\">\n      <path clip-path=\"url(#pe3912087ce)\" d=\"M 336.238466 241.58175 \nL 336.238466 24.14175 \n\" style=\"fill:none;stroke:#ffffff;stroke-linecap:square;stroke-width:0.8;\"/>\n     </g>\n     <g id=\"line2d_82\">\n      <g>\n       <use style=\"fill:#555555;stroke:#555555;stroke-width:0.8;\" x=\"336.238466\" xlink:href=\"#mffe0c70a18\" y=\"241.58175\"/>\n      </g>\n     </g>\n     <g id=\"text_41\">\n      <!-- 41 -->\n      <g style=\"fill:#555555;\" transform=\"translate(329.875966 256.180187)scale(0.1 -0.1)\">\n       <use xlink:href=\"#DejaVuSans-52\"/>\n       <use x=\"63.623047\" xlink:href=\"#DejaVuSans-49\"/>\n      </g>\n     </g>\n    </g>\n    <g id=\"xtick_42\">\n     <g id=\"line2d_83\">\n      <path clip-path=\"url(#pe3912087ce)\" d=\"M 342.325739 241.58175 \nL 342.325739 24.14175 \n\" style=\"fill:none;stroke:#ffffff;stroke-linecap:square;stroke-width:0.8;\"/>\n     </g>\n     <g id=\"line2d_84\">\n      <g>\n       <use style=\"fill:#555555;stroke:#555555;stroke-width:0.8;\" x=\"342.325739\" xlink:href=\"#mffe0c70a18\" y=\"241.58175\"/>\n      </g>\n     </g>\n     <g id=\"text_42\">\n      <!-- 42 -->\n      <g style=\"fill:#555555;\" transform=\"translate(335.963239 256.180187)scale(0.1 -0.1)\">\n       <use xlink:href=\"#DejaVuSans-52\"/>\n       <use x=\"63.623047\" xlink:href=\"#DejaVuSans-50\"/>\n      </g>\n     </g>\n    </g>\n    <g id=\"xtick_43\">\n     <g id=\"line2d_85\">\n      <path clip-path=\"url(#pe3912087ce)\" d=\"M 348.413011 241.58175 \nL 348.413011 24.14175 \n\" style=\"fill:none;stroke:#ffffff;stroke-linecap:square;stroke-width:0.8;\"/>\n     </g>\n     <g id=\"line2d_86\">\n      <g>\n       <use style=\"fill:#555555;stroke:#555555;stroke-width:0.8;\" x=\"348.413011\" xlink:href=\"#mffe0c70a18\" y=\"241.58175\"/>\n      </g>\n     </g>\n     <g id=\"text_43\">\n      <!-- 43 -->\n      <g style=\"fill:#555555;\" transform=\"translate(342.050511 256.180187)scale(0.1 -0.1)\">\n       <use xlink:href=\"#DejaVuSans-52\"/>\n       <use x=\"63.623047\" xlink:href=\"#DejaVuSans-51\"/>\n      </g>\n     </g>\n    </g>\n    <g id=\"xtick_44\">\n     <g id=\"line2d_87\">\n      <path clip-path=\"url(#pe3912087ce)\" d=\"M 354.500284 241.58175 \nL 354.500284 24.14175 \n\" style=\"fill:none;stroke:#ffffff;stroke-linecap:square;stroke-width:0.8;\"/>\n     </g>\n     <g id=\"line2d_88\">\n      <g>\n       <use style=\"fill:#555555;stroke:#555555;stroke-width:0.8;\" x=\"354.500284\" xlink:href=\"#mffe0c70a18\" y=\"241.58175\"/>\n      </g>\n     </g>\n     <g id=\"text_44\">\n      <!-- 44 -->\n      <g style=\"fill:#555555;\" transform=\"translate(348.137784 256.180187)scale(0.1 -0.1)\">\n       <use xlink:href=\"#DejaVuSans-52\"/>\n       <use x=\"63.623047\" xlink:href=\"#DejaVuSans-52\"/>\n      </g>\n     </g>\n    </g>\n    <g id=\"xtick_45\">\n     <g id=\"line2d_89\">\n      <path clip-path=\"url(#pe3912087ce)\" d=\"M 360.587557 241.58175 \nL 360.587557 24.14175 \n\" style=\"fill:none;stroke:#ffffff;stroke-linecap:square;stroke-width:0.8;\"/>\n     </g>\n     <g id=\"line2d_90\">\n      <g>\n       <use style=\"fill:#555555;stroke:#555555;stroke-width:0.8;\" x=\"360.587557\" xlink:href=\"#mffe0c70a18\" y=\"241.58175\"/>\n      </g>\n     </g>\n     <g id=\"text_45\">\n      <!-- 45 -->\n      <g style=\"fill:#555555;\" transform=\"translate(354.225057 256.180187)scale(0.1 -0.1)\">\n       <use xlink:href=\"#DejaVuSans-52\"/>\n       <use x=\"63.623047\" xlink:href=\"#DejaVuSans-53\"/>\n      </g>\n     </g>\n    </g>\n    <g id=\"xtick_46\">\n     <g id=\"line2d_91\">\n      <path clip-path=\"url(#pe3912087ce)\" d=\"M 366.67483 241.58175 \nL 366.67483 24.14175 \n\" style=\"fill:none;stroke:#ffffff;stroke-linecap:square;stroke-width:0.8;\"/>\n     </g>\n     <g id=\"line2d_92\">\n      <g>\n       <use style=\"fill:#555555;stroke:#555555;stroke-width:0.8;\" x=\"366.67483\" xlink:href=\"#mffe0c70a18\" y=\"241.58175\"/>\n      </g>\n     </g>\n     <g id=\"text_46\">\n      <!-- 46 -->\n      <g style=\"fill:#555555;\" transform=\"translate(360.31233 256.180187)scale(0.1 -0.1)\">\n       <use xlink:href=\"#DejaVuSans-52\"/>\n       <use x=\"63.623047\" xlink:href=\"#DejaVuSans-54\"/>\n      </g>\n     </g>\n    </g>\n    <g id=\"xtick_47\">\n     <g id=\"line2d_93\">\n      <path clip-path=\"url(#pe3912087ce)\" d=\"M 372.762102 241.58175 \nL 372.762102 24.14175 \n\" style=\"fill:none;stroke:#ffffff;stroke-linecap:square;stroke-width:0.8;\"/>\n     </g>\n     <g id=\"line2d_94\">\n      <g>\n       <use style=\"fill:#555555;stroke:#555555;stroke-width:0.8;\" x=\"372.762102\" xlink:href=\"#mffe0c70a18\" y=\"241.58175\"/>\n      </g>\n     </g>\n     <g id=\"text_47\">\n      <!-- 47 -->\n      <g style=\"fill:#555555;\" transform=\"translate(366.399602 256.180187)scale(0.1 -0.1)\">\n       <use xlink:href=\"#DejaVuSans-52\"/>\n       <use x=\"63.623047\" xlink:href=\"#DejaVuSans-55\"/>\n      </g>\n     </g>\n    </g>\n    <g id=\"xtick_48\">\n     <g id=\"line2d_95\">\n      <path clip-path=\"url(#pe3912087ce)\" d=\"M 378.849375 241.58175 \nL 378.849375 24.14175 \n\" style=\"fill:none;stroke:#ffffff;stroke-linecap:square;stroke-width:0.8;\"/>\n     </g>\n     <g id=\"line2d_96\">\n      <g>\n       <use style=\"fill:#555555;stroke:#555555;stroke-width:0.8;\" x=\"378.849375\" xlink:href=\"#mffe0c70a18\" y=\"241.58175\"/>\n      </g>\n     </g>\n     <g id=\"text_48\">\n      <!-- 48 -->\n      <g style=\"fill:#555555;\" transform=\"translate(372.486875 256.180187)scale(0.1 -0.1)\">\n       <use xlink:href=\"#DejaVuSans-52\"/>\n       <use x=\"63.623047\" xlink:href=\"#DejaVuSans-56\"/>\n      </g>\n     </g>\n    </g>\n    <g id=\"xtick_49\">\n     <g id=\"line2d_97\">\n      <path clip-path=\"url(#pe3912087ce)\" d=\"M 384.936648 241.58175 \nL 384.936648 24.14175 \n\" style=\"fill:none;stroke:#ffffff;stroke-linecap:square;stroke-width:0.8;\"/>\n     </g>\n     <g id=\"line2d_98\">\n      <g>\n       <use style=\"fill:#555555;stroke:#555555;stroke-width:0.8;\" x=\"384.936648\" xlink:href=\"#mffe0c70a18\" y=\"241.58175\"/>\n      </g>\n     </g>\n     <g id=\"text_49\">\n      <!-- 49 -->\n      <g style=\"fill:#555555;\" transform=\"translate(378.574148 256.180187)scale(0.1 -0.1)\">\n       <use xlink:href=\"#DejaVuSans-52\"/>\n       <use x=\"63.623047\" xlink:href=\"#DejaVuSans-57\"/>\n      </g>\n     </g>\n    </g>\n    <g id=\"xtick_50\">\n     <g id=\"line2d_99\">\n      <path clip-path=\"url(#pe3912087ce)\" d=\"M 391.02392 241.58175 \nL 391.02392 24.14175 \n\" style=\"fill:none;stroke:#ffffff;stroke-linecap:square;stroke-width:0.8;\"/>\n     </g>\n     <g id=\"line2d_100\">\n      <g>\n       <use style=\"fill:#555555;stroke:#555555;stroke-width:0.8;\" x=\"391.02392\" xlink:href=\"#mffe0c70a18\" y=\"241.58175\"/>\n      </g>\n     </g>\n     <g id=\"text_50\">\n      <!-- 50 -->\n      <g style=\"fill:#555555;\" transform=\"translate(384.66142 256.180187)scale(0.1 -0.1)\">\n       <use xlink:href=\"#DejaVuSans-53\"/>\n       <use x=\"63.623047\" xlink:href=\"#DejaVuSans-48\"/>\n      </g>\n     </g>\n    </g>\n    <g id=\"xtick_51\">\n     <g id=\"line2d_101\">\n      <path clip-path=\"url(#pe3912087ce)\" d=\"M 397.111193 241.58175 \nL 397.111193 24.14175 \n\" style=\"fill:none;stroke:#ffffff;stroke-linecap:square;stroke-width:0.8;\"/>\n     </g>\n     <g id=\"line2d_102\">\n      <g>\n       <use style=\"fill:#555555;stroke:#555555;stroke-width:0.8;\" x=\"397.111193\" xlink:href=\"#mffe0c70a18\" y=\"241.58175\"/>\n      </g>\n     </g>\n     <g id=\"text_51\">\n      <!-- 51 -->\n      <g style=\"fill:#555555;\" transform=\"translate(390.748693 256.180187)scale(0.1 -0.1)\">\n       <use xlink:href=\"#DejaVuSans-53\"/>\n       <use x=\"63.623047\" xlink:href=\"#DejaVuSans-49\"/>\n      </g>\n     </g>\n    </g>\n    <g id=\"text_52\">\n     <!-- Epoch # -->\n     <defs>\n      <path d=\"M 9.8125 72.90625 \nL 55.90625 72.90625 \nL 55.90625 64.59375 \nL 19.671875 64.59375 \nL 19.671875 43.015625 \nL 54.390625 43.015625 \nL 54.390625 34.71875 \nL 19.671875 34.71875 \nL 19.671875 8.296875 \nL 56.78125 8.296875 \nL 56.78125 0 \nL 9.8125 0 \nz\n\" id=\"DejaVuSans-69\"/>\n      <path d=\"M 18.109375 8.203125 \nL 18.109375 -20.796875 \nL 9.078125 -20.796875 \nL 9.078125 54.6875 \nL 18.109375 54.6875 \nL 18.109375 46.390625 \nQ 20.953125 51.265625 25.265625 53.625 \nQ 29.59375 56 35.59375 56 \nQ 45.5625 56 51.78125 48.09375 \nQ 58.015625 40.1875 58.015625 27.296875 \nQ 58.015625 14.40625 51.78125 6.484375 \nQ 45.5625 -1.421875 35.59375 -1.421875 \nQ 29.59375 -1.421875 25.265625 0.953125 \nQ 20.953125 3.328125 18.109375 8.203125 \nz\nM 48.6875 27.296875 \nQ 48.6875 37.203125 44.609375 42.84375 \nQ 40.53125 48.484375 33.40625 48.484375 \nQ 26.265625 48.484375 22.1875 42.84375 \nQ 18.109375 37.203125 18.109375 27.296875 \nQ 18.109375 17.390625 22.1875 11.75 \nQ 26.265625 6.109375 33.40625 6.109375 \nQ 40.53125 6.109375 44.609375 11.75 \nQ 48.6875 17.390625 48.6875 27.296875 \nz\n\" id=\"DejaVuSans-112\"/>\n      <path d=\"M 30.609375 48.390625 \nQ 23.390625 48.390625 19.1875 42.75 \nQ 14.984375 37.109375 14.984375 27.296875 \nQ 14.984375 17.484375 19.15625 11.84375 \nQ 23.34375 6.203125 30.609375 6.203125 \nQ 37.796875 6.203125 41.984375 11.859375 \nQ 46.1875 17.53125 46.1875 27.296875 \nQ 46.1875 37.015625 41.984375 42.703125 \nQ 37.796875 48.390625 30.609375 48.390625 \nz\nM 30.609375 56 \nQ 42.328125 56 49.015625 48.375 \nQ 55.71875 40.765625 55.71875 27.296875 \nQ 55.71875 13.875 49.015625 6.21875 \nQ 42.328125 -1.421875 30.609375 -1.421875 \nQ 18.84375 -1.421875 12.171875 6.21875 \nQ 5.515625 13.875 5.515625 27.296875 \nQ 5.515625 40.765625 12.171875 48.375 \nQ 18.84375 56 30.609375 56 \nz\n\" id=\"DejaVuSans-111\"/>\n      <path d=\"M 48.78125 52.59375 \nL 48.78125 44.1875 \nQ 44.96875 46.296875 41.140625 47.34375 \nQ 37.3125 48.390625 33.40625 48.390625 \nQ 24.65625 48.390625 19.8125 42.84375 \nQ 14.984375 37.3125 14.984375 27.296875 \nQ 14.984375 17.28125 19.8125 11.734375 \nQ 24.65625 6.203125 33.40625 6.203125 \nQ 37.3125 6.203125 41.140625 7.25 \nQ 44.96875 8.296875 48.78125 10.40625 \nL 48.78125 2.09375 \nQ 45.015625 0.34375 40.984375 -0.53125 \nQ 36.96875 -1.421875 32.421875 -1.421875 \nQ 20.0625 -1.421875 12.78125 6.34375 \nQ 5.515625 14.109375 5.515625 27.296875 \nQ 5.515625 40.671875 12.859375 48.328125 \nQ 20.21875 56 33.015625 56 \nQ 37.15625 56 41.109375 55.140625 \nQ 45.0625 54.296875 48.78125 52.59375 \nz\n\" id=\"DejaVuSans-99\"/>\n      <path d=\"M 54.890625 33.015625 \nL 54.890625 0 \nL 45.90625 0 \nL 45.90625 32.71875 \nQ 45.90625 40.484375 42.875 44.328125 \nQ 39.84375 48.1875 33.796875 48.1875 \nQ 26.515625 48.1875 22.3125 43.546875 \nQ 18.109375 38.921875 18.109375 30.90625 \nL 18.109375 0 \nL 9.078125 0 \nL 9.078125 75.984375 \nL 18.109375 75.984375 \nL 18.109375 46.1875 \nQ 21.34375 51.125 25.703125 53.5625 \nQ 30.078125 56 35.796875 56 \nQ 45.21875 56 50.046875 50.171875 \nQ 54.890625 44.34375 54.890625 33.015625 \nz\n\" id=\"DejaVuSans-104\"/>\n      <path id=\"DejaVuSans-32\"/>\n      <path d=\"M 51.125 44 \nL 36.921875 44 \nL 32.8125 27.6875 \nL 47.125 27.6875 \nz\nM 43.796875 71.78125 \nL 38.71875 51.515625 \nL 52.984375 51.515625 \nL 58.109375 71.78125 \nL 65.921875 71.78125 \nL 60.890625 51.515625 \nL 76.125 51.515625 \nL 76.125 44 \nL 58.984375 44 \nL 54.984375 27.6875 \nL 70.515625 27.6875 \nL 70.515625 20.21875 \nL 53.078125 20.21875 \nL 48 0 \nL 40.1875 0 \nL 45.21875 20.21875 \nL 30.90625 20.21875 \nL 25.875 0 \nL 18.015625 0 \nL 23.09375 20.21875 \nL 7.71875 20.21875 \nL 7.71875 27.6875 \nL 24.90625 27.6875 \nL 29 44 \nL 13.28125 44 \nL 13.28125 51.515625 \nL 30.90625 51.515625 \nL 35.890625 71.78125 \nz\n\" id=\"DejaVuSans-35\"/>\n     </defs>\n     <g style=\"fill:#555555;\" transform=\"translate(219.621562 271.378)scale(0.12 -0.12)\">\n      <use xlink:href=\"#DejaVuSans-69\"/>\n      <use x=\"63.183594\" xlink:href=\"#DejaVuSans-112\"/>\n      <use x=\"126.660156\" xlink:href=\"#DejaVuSans-111\"/>\n      <use x=\"187.841797\" xlink:href=\"#DejaVuSans-99\"/>\n      <use x=\"242.822266\" xlink:href=\"#DejaVuSans-104\"/>\n      <use x=\"306.201172\" xlink:href=\"#DejaVuSans-32\"/>\n      <use x=\"337.988281\" xlink:href=\"#DejaVuSans-35\"/>\n     </g>\n    </g>\n   </g>\n   <g id=\"matplotlib.axis_2\">\n    <g id=\"ytick_1\">\n     <g id=\"line2d_103\">\n      <path clip-path=\"url(#pe3912087ce)\" d=\"M 77.529375 210.522244 \nL 412.329375 210.522244 \n\" style=\"fill:none;stroke:#ffffff;stroke-linecap:square;stroke-width:0.8;\"/>\n     </g>\n     <g id=\"line2d_104\">\n      <defs>\n       <path d=\"M 0 0 \nL -3.5 0 \n\" id=\"m3307dc96e4\" style=\"stroke:#555555;stroke-width:0.8;\"/>\n      </defs>\n      <g>\n       <use style=\"fill:#555555;stroke:#555555;stroke-width:0.8;\" x=\"77.529375\" xlink:href=\"#m3307dc96e4\" y=\"210.522244\"/>\n      </g>\n     </g>\n     <g id=\"text_53\">\n      <!-- 0.001316 -->\n      <defs>\n       <path d=\"M 10.6875 12.40625 \nL 21 12.40625 \nL 21 0 \nL 10.6875 0 \nz\n\" id=\"DejaVuSans-46\"/>\n      </defs>\n      <g style=\"fill:#555555;\" transform=\"translate(22.81375 214.321463)scale(0.1 -0.1)\">\n       <use xlink:href=\"#DejaVuSans-48\"/>\n       <use x=\"63.623047\" xlink:href=\"#DejaVuSans-46\"/>\n       <use x=\"95.410156\" xlink:href=\"#DejaVuSans-48\"/>\n       <use x=\"159.033203\" xlink:href=\"#DejaVuSans-48\"/>\n       <use x=\"222.65625\" xlink:href=\"#DejaVuSans-49\"/>\n       <use x=\"286.279297\" xlink:href=\"#DejaVuSans-51\"/>\n       <use x=\"349.902344\" xlink:href=\"#DejaVuSans-49\"/>\n       <use x=\"413.525391\" xlink:href=\"#DejaVuSans-54\"/>\n      </g>\n     </g>\n    </g>\n    <g id=\"ytick_2\">\n     <g id=\"line2d_105\">\n      <path clip-path=\"url(#pe3912087ce)\" d=\"M 77.529375 176.33143 \nL 412.329375 176.33143 \n\" style=\"fill:none;stroke:#ffffff;stroke-linecap:square;stroke-width:0.8;\"/>\n     </g>\n     <g id=\"line2d_106\">\n      <g>\n       <use style=\"fill:#555555;stroke:#555555;stroke-width:0.8;\" x=\"77.529375\" xlink:href=\"#m3307dc96e4\" y=\"176.33143\"/>\n      </g>\n     </g>\n     <g id=\"text_54\">\n      <!-- 0.001318 -->\n      <g style=\"fill:#555555;\" transform=\"translate(22.81375 180.130649)scale(0.1 -0.1)\">\n       <use xlink:href=\"#DejaVuSans-48\"/>\n       <use x=\"63.623047\" xlink:href=\"#DejaVuSans-46\"/>\n       <use x=\"95.410156\" xlink:href=\"#DejaVuSans-48\"/>\n       <use x=\"159.033203\" xlink:href=\"#DejaVuSans-48\"/>\n       <use x=\"222.65625\" xlink:href=\"#DejaVuSans-49\"/>\n       <use x=\"286.279297\" xlink:href=\"#DejaVuSans-51\"/>\n       <use x=\"349.902344\" xlink:href=\"#DejaVuSans-49\"/>\n       <use x=\"413.525391\" xlink:href=\"#DejaVuSans-56\"/>\n      </g>\n     </g>\n    </g>\n    <g id=\"ytick_3\">\n     <g id=\"line2d_107\">\n      <path clip-path=\"url(#pe3912087ce)\" d=\"M 77.529375 142.140616 \nL 412.329375 142.140616 \n\" style=\"fill:none;stroke:#ffffff;stroke-linecap:square;stroke-width:0.8;\"/>\n     </g>\n     <g id=\"line2d_108\">\n      <g>\n       <use style=\"fill:#555555;stroke:#555555;stroke-width:0.8;\" x=\"77.529375\" xlink:href=\"#m3307dc96e4\" y=\"142.140616\"/>\n      </g>\n     </g>\n     <g id=\"text_55\">\n      <!-- 0.001320 -->\n      <g style=\"fill:#555555;\" transform=\"translate(22.81375 145.939835)scale(0.1 -0.1)\">\n       <use xlink:href=\"#DejaVuSans-48\"/>\n       <use x=\"63.623047\" xlink:href=\"#DejaVuSans-46\"/>\n       <use x=\"95.410156\" xlink:href=\"#DejaVuSans-48\"/>\n       <use x=\"159.033203\" xlink:href=\"#DejaVuSans-48\"/>\n       <use x=\"222.65625\" xlink:href=\"#DejaVuSans-49\"/>\n       <use x=\"286.279297\" xlink:href=\"#DejaVuSans-51\"/>\n       <use x=\"349.902344\" xlink:href=\"#DejaVuSans-50\"/>\n       <use x=\"413.525391\" xlink:href=\"#DejaVuSans-48\"/>\n      </g>\n     </g>\n    </g>\n    <g id=\"ytick_4\">\n     <g id=\"line2d_109\">\n      <path clip-path=\"url(#pe3912087ce)\" d=\"M 77.529375 107.949802 \nL 412.329375 107.949802 \n\" style=\"fill:none;stroke:#ffffff;stroke-linecap:square;stroke-width:0.8;\"/>\n     </g>\n     <g id=\"line2d_110\">\n      <g>\n       <use style=\"fill:#555555;stroke:#555555;stroke-width:0.8;\" x=\"77.529375\" xlink:href=\"#m3307dc96e4\" y=\"107.949802\"/>\n      </g>\n     </g>\n     <g id=\"text_56\">\n      <!-- 0.001322 -->\n      <g style=\"fill:#555555;\" transform=\"translate(22.81375 111.749021)scale(0.1 -0.1)\">\n       <use xlink:href=\"#DejaVuSans-48\"/>\n       <use x=\"63.623047\" xlink:href=\"#DejaVuSans-46\"/>\n       <use x=\"95.410156\" xlink:href=\"#DejaVuSans-48\"/>\n       <use x=\"159.033203\" xlink:href=\"#DejaVuSans-48\"/>\n       <use x=\"222.65625\" xlink:href=\"#DejaVuSans-49\"/>\n       <use x=\"286.279297\" xlink:href=\"#DejaVuSans-51\"/>\n       <use x=\"349.902344\" xlink:href=\"#DejaVuSans-50\"/>\n       <use x=\"413.525391\" xlink:href=\"#DejaVuSans-50\"/>\n      </g>\n     </g>\n    </g>\n    <g id=\"ytick_5\">\n     <g id=\"line2d_111\">\n      <path clip-path=\"url(#pe3912087ce)\" d=\"M 77.529375 73.758988 \nL 412.329375 73.758988 \n\" style=\"fill:none;stroke:#ffffff;stroke-linecap:square;stroke-width:0.8;\"/>\n     </g>\n     <g id=\"line2d_112\">\n      <g>\n       <use style=\"fill:#555555;stroke:#555555;stroke-width:0.8;\" x=\"77.529375\" xlink:href=\"#m3307dc96e4\" y=\"73.758988\"/>\n      </g>\n     </g>\n     <g id=\"text_57\">\n      <!-- 0.001324 -->\n      <g style=\"fill:#555555;\" transform=\"translate(22.81375 77.558207)scale(0.1 -0.1)\">\n       <use xlink:href=\"#DejaVuSans-48\"/>\n       <use x=\"63.623047\" xlink:href=\"#DejaVuSans-46\"/>\n       <use x=\"95.410156\" xlink:href=\"#DejaVuSans-48\"/>\n       <use x=\"159.033203\" xlink:href=\"#DejaVuSans-48\"/>\n       <use x=\"222.65625\" xlink:href=\"#DejaVuSans-49\"/>\n       <use x=\"286.279297\" xlink:href=\"#DejaVuSans-51\"/>\n       <use x=\"349.902344\" xlink:href=\"#DejaVuSans-50\"/>\n       <use x=\"413.525391\" xlink:href=\"#DejaVuSans-52\"/>\n      </g>\n     </g>\n    </g>\n    <g id=\"ytick_6\">\n     <g id=\"line2d_113\">\n      <path clip-path=\"url(#pe3912087ce)\" d=\"M 77.529375 39.568174 \nL 412.329375 39.568174 \n\" style=\"fill:none;stroke:#ffffff;stroke-linecap:square;stroke-width:0.8;\"/>\n     </g>\n     <g id=\"line2d_114\">\n      <g>\n       <use style=\"fill:#555555;stroke:#555555;stroke-width:0.8;\" x=\"77.529375\" xlink:href=\"#m3307dc96e4\" y=\"39.568174\"/>\n      </g>\n     </g>\n     <g id=\"text_58\">\n      <!-- 0.001326 -->\n      <g style=\"fill:#555555;\" transform=\"translate(22.81375 43.367393)scale(0.1 -0.1)\">\n       <use xlink:href=\"#DejaVuSans-48\"/>\n       <use x=\"63.623047\" xlink:href=\"#DejaVuSans-46\"/>\n       <use x=\"95.410156\" xlink:href=\"#DejaVuSans-48\"/>\n       <use x=\"159.033203\" xlink:href=\"#DejaVuSans-48\"/>\n       <use x=\"222.65625\" xlink:href=\"#DejaVuSans-49\"/>\n       <use x=\"286.279297\" xlink:href=\"#DejaVuSans-51\"/>\n       <use x=\"349.902344\" xlink:href=\"#DejaVuSans-50\"/>\n       <use x=\"413.525391\" xlink:href=\"#DejaVuSans-54\"/>\n      </g>\n     </g>\n    </g>\n    <g id=\"text_59\">\n     <!-- Loss -->\n     <defs>\n      <path d=\"M 9.8125 72.90625 \nL 19.671875 72.90625 \nL 19.671875 8.296875 \nL 55.171875 8.296875 \nL 55.171875 0 \nL 9.8125 0 \nz\n\" id=\"DejaVuSans-76\"/>\n      <path d=\"M 44.28125 53.078125 \nL 44.28125 44.578125 \nQ 40.484375 46.53125 36.375 47.5 \nQ 32.28125 48.484375 27.875 48.484375 \nQ 21.1875 48.484375 17.84375 46.4375 \nQ 14.5 44.390625 14.5 40.28125 \nQ 14.5 37.15625 16.890625 35.375 \nQ 19.28125 33.59375 26.515625 31.984375 \nL 29.59375 31.296875 \nQ 39.15625 29.25 43.1875 25.515625 \nQ 47.21875 21.78125 47.21875 15.09375 \nQ 47.21875 7.46875 41.1875 3.015625 \nQ 35.15625 -1.421875 24.609375 -1.421875 \nQ 20.21875 -1.421875 15.453125 -0.5625 \nQ 10.6875 0.296875 5.421875 2 \nL 5.421875 11.28125 \nQ 10.40625 8.6875 15.234375 7.390625 \nQ 20.0625 6.109375 24.8125 6.109375 \nQ 31.15625 6.109375 34.5625 8.28125 \nQ 37.984375 10.453125 37.984375 14.40625 \nQ 37.984375 18.0625 35.515625 20.015625 \nQ 33.0625 21.96875 24.703125 23.78125 \nL 21.578125 24.515625 \nQ 13.234375 26.265625 9.515625 29.90625 \nQ 5.8125 33.546875 5.8125 39.890625 \nQ 5.8125 47.609375 11.28125 51.796875 \nQ 16.75 56 26.8125 56 \nQ 31.78125 56 36.171875 55.265625 \nQ 40.578125 54.546875 44.28125 53.078125 \nz\n\" id=\"DejaVuSans-115\"/>\n     </defs>\n     <g style=\"fill:#555555;\" transform=\"translate(16.318125 146.022375)rotate(-90)scale(0.12 -0.12)\">\n      <use xlink:href=\"#DejaVuSans-76\"/>\n      <use x=\"53.962891\" xlink:href=\"#DejaVuSans-111\"/>\n      <use x=\"115.144531\" xlink:href=\"#DejaVuSans-115\"/>\n      <use x=\"167.244141\" xlink:href=\"#DejaVuSans-115\"/>\n     </g>\n    </g>\n   </g>\n   <g id=\"line2d_115\">\n    <path clip-path=\"url(#pe3912087ce)\" d=\"M 92.747557 36.460303 \nL 98.83483 40.022471 \nL 104.922102 43.471643 \nL 111.009375 46.849614 \nL 117.096648 50.165956 \nL 123.18392 53.439357 \nL 129.271193 56.683281 \nL 135.358466 59.909317 \nL 141.445739 63.13617 \nL 147.533011 66.399067 \nL 153.620284 69.708312 \nL 159.707557 73.06114 \nL 165.79483 76.506023 \nL 171.882102 80.104389 \nL 177.969375 83.86119 \nL 184.056648 87.640281 \nL 190.14392 91.450484 \nL 196.231193 95.243462 \nL 202.318466 98.970036 \nL 208.405739 102.640267 \nL 214.493011 106.196641 \nL 220.580284 109.66211 \nL 226.667557 113.041275 \nL 232.75483 116.347269 \nL 238.842102 119.604129 \nL 244.929375 122.821762 \nL 251.016648 126.011665 \nL 257.10392 129.175344 \nL 263.191193 132.320381 \nL 269.278466 135.459735 \nL 275.365739 138.613905 \nL 281.453011 141.79178 \nL 287.540284 144.993602 \nL 293.627557 148.226713 \nL 299.71483 151.510131 \nL 305.802102 154.838613 \nL 311.889375 158.230603 \nL 317.976648 161.686807 \nL 324.06392 165.230931 \nL 330.151193 168.868104 \nL 336.238466 172.626453 \nL 342.325739 176.525549 \nL 348.413011 180.59208 \nL 354.500284 184.840177 \nL 360.587557 189.289586 \nL 366.67483 193.989861 \nL 372.762102 198.932047 \nL 378.849375 204.095778 \nL 384.936648 209.480191 \nL 391.02392 215.162482 \nL 397.111193 221.183492 \n\" style=\"fill:none;stroke:#e24a33;stroke-linecap:square;stroke-width:1.5;\"/>\n   </g>\n   <g id=\"line2d_116\">\n    <path clip-path=\"url(#pe3912087ce)\" d=\"M 92.747557 34.025386 \nL 98.83483 37.83026 \nL 104.922102 41.552876 \nL 111.009375 45.209619 \nL 117.096648 48.809598 \nL 123.18392 52.375547 \nL 129.271193 55.917946 \nL 135.358466 59.45077 \nL 141.445739 63.001771 \nL 147.533011 66.59348 \nL 153.620284 70.249869 \nL 159.707557 73.980954 \nL 165.79483 77.860568 \nL 171.882102 81.90596 \nL 177.969375 86.071002 \nL 184.056648 90.233966 \nL 190.14392 94.430563 \nL 196.231193 98.545299 \nL 202.318466 102.605042 \nL 208.405739 106.555195 \nL 214.493011 110.400181 \nL 220.580284 114.14785 \nL 226.667557 117.816312 \nL 232.75483 121.414235 \nL 238.842102 124.964705 \nL 244.929375 128.474488 \nL 251.016648 131.940798 \nL 257.10392 135.381391 \nL 263.191193 138.789412 \nL 269.278466 142.190379 \nL 275.365739 145.589401 \nL 281.453011 149.005515 \nL 287.540284 152.434809 \nL 293.627557 155.89203 \nL 299.71483 159.385737 \nL 305.802102 162.922586 \nL 311.889375 166.509851 \nL 317.976648 170.161685 \nL 324.06392 173.897899 \nL 330.151193 177.727628 \nL 336.238466 181.661727 \nL 342.325739 185.739846 \nL 348.413011 189.987544 \nL 354.500284 194.405332 \nL 360.587557 199.034737 \nL 366.67483 203.889136 \nL 372.762102 208.935118 \nL 378.849375 214.191832 \nL 384.936648 219.685724 \nL 391.02392 225.521233 \nL 397.111193 231.698114 \n\" style=\"fill:none;stroke:#348abd;stroke-linecap:square;stroke-width:1.5;\"/>\n   </g>\n   <g id=\"patch_3\">\n    <path d=\"M 77.529375 241.58175 \nL 77.529375 24.14175 \n\" style=\"fill:none;stroke:#ffffff;stroke-linecap:square;stroke-linejoin:miter;\"/>\n   </g>\n   <g id=\"patch_4\">\n    <path d=\"M 412.329375 241.58175 \nL 412.329375 24.14175 \n\" style=\"fill:none;stroke:#ffffff;stroke-linecap:square;stroke-linejoin:miter;\"/>\n   </g>\n   <g id=\"patch_5\">\n    <path d=\"M 77.529375 241.58175 \nL 412.329375 241.58175 \n\" style=\"fill:none;stroke:#ffffff;stroke-linecap:square;stroke-linejoin:miter;\"/>\n   </g>\n   <g id=\"patch_6\">\n    <path d=\"M 77.529375 24.14175 \nL 412.329375 24.14175 \n\" style=\"fill:none;stroke:#ffffff;stroke-linecap:square;stroke-linejoin:miter;\"/>\n   </g>\n   <g id=\"text_60\">\n    <!-- Losses -->\n    <defs>\n     <path d=\"M 56.203125 29.59375 \nL 56.203125 25.203125 \nL 14.890625 25.203125 \nQ 15.484375 15.921875 20.484375 11.0625 \nQ 25.484375 6.203125 34.421875 6.203125 \nQ 39.59375 6.203125 44.453125 7.46875 \nQ 49.3125 8.734375 54.109375 11.28125 \nL 54.109375 2.78125 \nQ 49.265625 0.734375 44.1875 -0.34375 \nQ 39.109375 -1.421875 33.890625 -1.421875 \nQ 20.796875 -1.421875 13.15625 6.1875 \nQ 5.515625 13.8125 5.515625 26.8125 \nQ 5.515625 40.234375 12.765625 48.109375 \nQ 20.015625 56 32.328125 56 \nQ 43.359375 56 49.78125 48.890625 \nQ 56.203125 41.796875 56.203125 29.59375 \nz\nM 47.21875 32.234375 \nQ 47.125 39.59375 43.09375 43.984375 \nQ 39.0625 48.390625 32.421875 48.390625 \nQ 24.90625 48.390625 20.390625 44.140625 \nQ 15.875 39.890625 15.1875 32.171875 \nz\n\" id=\"DejaVuSans-101\"/>\n    </defs>\n    <g transform=\"translate(220.955625 18.14175)scale(0.144 -0.144)\">\n     <use xlink:href=\"#DejaVuSans-76\"/>\n     <use x=\"53.962891\" xlink:href=\"#DejaVuSans-111\"/>\n     <use x=\"115.144531\" xlink:href=\"#DejaVuSans-115\"/>\n     <use x=\"167.244141\" xlink:href=\"#DejaVuSans-115\"/>\n     <use x=\"219.34375\" xlink:href=\"#DejaVuSans-101\"/>\n     <use x=\"280.867188\" xlink:href=\"#DejaVuSans-115\"/>\n    </g>\n   </g>\n   <g id=\"legend_1\">\n    <g id=\"patch_7\">\n     <path d=\"M 324.118438 61.498 \nL 405.329375 61.498 \nQ 407.329375 61.498 407.329375 59.498 \nL 407.329375 31.14175 \nQ 407.329375 29.14175 405.329375 29.14175 \nL 324.118438 29.14175 \nQ 322.118438 29.14175 322.118438 31.14175 \nL 322.118438 59.498 \nQ 322.118438 61.498 324.118438 61.498 \nz\n\" style=\"fill:#e5e5e5;opacity:0.8;stroke:#cccccc;stroke-linejoin:miter;stroke-width:0.5;\"/>\n    </g>\n    <g id=\"line2d_117\">\n     <path d=\"M 326.118438 37.240187 \nL 346.118438 37.240187 \n\" style=\"fill:none;stroke:#e24a33;stroke-linecap:square;stroke-width:1.5;\"/>\n    </g>\n    <g id=\"line2d_118\"/>\n    <g id=\"text_61\">\n     <!-- Train Loss -->\n     <defs>\n      <path d=\"M -0.296875 72.90625 \nL 61.375 72.90625 \nL 61.375 64.59375 \nL 35.5 64.59375 \nL 35.5 0 \nL 25.59375 0 \nL 25.59375 64.59375 \nL -0.296875 64.59375 \nz\n\" id=\"DejaVuSans-84\"/>\n      <path d=\"M 41.109375 46.296875 \nQ 39.59375 47.171875 37.8125 47.578125 \nQ 36.03125 48 33.890625 48 \nQ 26.265625 48 22.1875 43.046875 \nQ 18.109375 38.09375 18.109375 28.8125 \nL 18.109375 0 \nL 9.078125 0 \nL 9.078125 54.6875 \nL 18.109375 54.6875 \nL 18.109375 46.1875 \nQ 20.953125 51.171875 25.484375 53.578125 \nQ 30.03125 56 36.53125 56 \nQ 37.453125 56 38.578125 55.875 \nQ 39.703125 55.765625 41.0625 55.515625 \nz\n\" id=\"DejaVuSans-114\"/>\n      <path d=\"M 34.28125 27.484375 \nQ 23.390625 27.484375 19.1875 25 \nQ 14.984375 22.515625 14.984375 16.5 \nQ 14.984375 11.71875 18.140625 8.90625 \nQ 21.296875 6.109375 26.703125 6.109375 \nQ 34.1875 6.109375 38.703125 11.40625 \nQ 43.21875 16.703125 43.21875 25.484375 \nL 43.21875 27.484375 \nz\nM 52.203125 31.203125 \nL 52.203125 0 \nL 43.21875 0 \nL 43.21875 8.296875 \nQ 40.140625 3.328125 35.546875 0.953125 \nQ 30.953125 -1.421875 24.3125 -1.421875 \nQ 15.921875 -1.421875 10.953125 3.296875 \nQ 6 8.015625 6 15.921875 \nQ 6 25.140625 12.171875 29.828125 \nQ 18.359375 34.515625 30.609375 34.515625 \nL 43.21875 34.515625 \nL 43.21875 35.40625 \nQ 43.21875 41.609375 39.140625 45 \nQ 35.0625 48.390625 27.6875 48.390625 \nQ 23 48.390625 18.546875 47.265625 \nQ 14.109375 46.140625 10.015625 43.890625 \nL 10.015625 52.203125 \nQ 14.9375 54.109375 19.578125 55.046875 \nQ 24.21875 56 28.609375 56 \nQ 40.484375 56 46.34375 49.84375 \nQ 52.203125 43.703125 52.203125 31.203125 \nz\n\" id=\"DejaVuSans-97\"/>\n      <path d=\"M 9.421875 54.6875 \nL 18.40625 54.6875 \nL 18.40625 0 \nL 9.421875 0 \nz\nM 9.421875 75.984375 \nL 18.40625 75.984375 \nL 18.40625 64.59375 \nL 9.421875 64.59375 \nz\n\" id=\"DejaVuSans-105\"/>\n      <path d=\"M 54.890625 33.015625 \nL 54.890625 0 \nL 45.90625 0 \nL 45.90625 32.71875 \nQ 45.90625 40.484375 42.875 44.328125 \nQ 39.84375 48.1875 33.796875 48.1875 \nQ 26.515625 48.1875 22.3125 43.546875 \nQ 18.109375 38.921875 18.109375 30.90625 \nL 18.109375 0 \nL 9.078125 0 \nL 9.078125 54.6875 \nL 18.109375 54.6875 \nL 18.109375 46.1875 \nQ 21.34375 51.125 25.703125 53.5625 \nQ 30.078125 56 35.796875 56 \nQ 45.21875 56 50.046875 50.171875 \nQ 54.890625 44.34375 54.890625 33.015625 \nz\n\" id=\"DejaVuSans-110\"/>\n     </defs>\n     <g transform=\"translate(354.118438 40.740187)scale(0.1 -0.1)\">\n      <use xlink:href=\"#DejaVuSans-84\"/>\n      <use x=\"46.333984\" xlink:href=\"#DejaVuSans-114\"/>\n      <use x=\"87.447266\" xlink:href=\"#DejaVuSans-97\"/>\n      <use x=\"148.726562\" xlink:href=\"#DejaVuSans-105\"/>\n      <use x=\"176.509766\" xlink:href=\"#DejaVuSans-110\"/>\n      <use x=\"239.888672\" xlink:href=\"#DejaVuSans-32\"/>\n      <use x=\"271.675781\" xlink:href=\"#DejaVuSans-76\"/>\n      <use x=\"325.638672\" xlink:href=\"#DejaVuSans-111\"/>\n      <use x=\"386.820312\" xlink:href=\"#DejaVuSans-115\"/>\n      <use x=\"438.919922\" xlink:href=\"#DejaVuSans-115\"/>\n     </g>\n    </g>\n    <g id=\"line2d_119\">\n     <path d=\"M 326.118438 51.918312 \nL 346.118438 51.918312 \n\" style=\"fill:none;stroke:#348abd;stroke-linecap:square;stroke-width:1.5;\"/>\n    </g>\n    <g id=\"line2d_120\"/>\n    <g id=\"text_62\">\n     <!-- Valid Loss -->\n     <defs>\n      <path d=\"M 28.609375 0 \nL 0.78125 72.90625 \nL 11.078125 72.90625 \nL 34.1875 11.53125 \nL 57.328125 72.90625 \nL 67.578125 72.90625 \nL 39.796875 0 \nz\n\" id=\"DejaVuSans-86\"/>\n      <path d=\"M 9.421875 75.984375 \nL 18.40625 75.984375 \nL 18.40625 0 \nL 9.421875 0 \nz\n\" id=\"DejaVuSans-108\"/>\n      <path d=\"M 45.40625 46.390625 \nL 45.40625 75.984375 \nL 54.390625 75.984375 \nL 54.390625 0 \nL 45.40625 0 \nL 45.40625 8.203125 \nQ 42.578125 3.328125 38.25 0.953125 \nQ 33.9375 -1.421875 27.875 -1.421875 \nQ 17.96875 -1.421875 11.734375 6.484375 \nQ 5.515625 14.40625 5.515625 27.296875 \nQ 5.515625 40.1875 11.734375 48.09375 \nQ 17.96875 56 27.875 56 \nQ 33.9375 56 38.25 53.625 \nQ 42.578125 51.265625 45.40625 46.390625 \nz\nM 14.796875 27.296875 \nQ 14.796875 17.390625 18.875 11.75 \nQ 22.953125 6.109375 30.078125 6.109375 \nQ 37.203125 6.109375 41.296875 11.75 \nQ 45.40625 17.390625 45.40625 27.296875 \nQ 45.40625 37.203125 41.296875 42.84375 \nQ 37.203125 48.484375 30.078125 48.484375 \nQ 22.953125 48.484375 18.875 42.84375 \nQ 14.796875 37.203125 14.796875 27.296875 \nz\n\" id=\"DejaVuSans-100\"/>\n     </defs>\n     <g transform=\"translate(354.118438 55.418312)scale(0.1 -0.1)\">\n      <use xlink:href=\"#DejaVuSans-86\"/>\n      <use x=\"60.658203\" xlink:href=\"#DejaVuSans-97\"/>\n      <use x=\"121.9375\" xlink:href=\"#DejaVuSans-108\"/>\n      <use x=\"149.720703\" xlink:href=\"#DejaVuSans-105\"/>\n      <use x=\"177.503906\" xlink:href=\"#DejaVuSans-100\"/>\n      <use x=\"240.980469\" xlink:href=\"#DejaVuSans-32\"/>\n      <use x=\"272.767578\" xlink:href=\"#DejaVuSans-76\"/>\n      <use x=\"326.730469\" xlink:href=\"#DejaVuSans-111\"/>\n      <use x=\"387.912109\" xlink:href=\"#DejaVuSans-115\"/>\n      <use x=\"440.011719\" xlink:href=\"#DejaVuSans-115\"/>\n     </g>\n    </g>\n   </g>\n  </g>\n </g>\n <defs>\n  <clipPath id=\"pe3912087ce\">\n   <rect height=\"217.44\" width=\"334.8\" x=\"77.529375\" y=\"24.14175\"/>\n  </clipPath>\n </defs>\n</svg>\n"
          },
          "metadata": {
            "tags": []
          }
        }
      ]
    },
    {
      "cell_type": "markdown",
      "metadata": {
        "id": "0hmGZdPhGUyO"
      },
      "source": [
        "# 5. Check Performance of BoW Model"
      ]
    },
    {
      "cell_type": "markdown",
      "metadata": {
        "id": "eC9W6wf__uQe"
      },
      "source": [
        "<h1>Execercise 5.1</h1> (2 Points)<br> Calculate `precision`, `recall` and `f1-score` for each of the classes. Those are common measures to define the quality of our classifier. \r\n",
        "\r\n",
        "![](https://upload.wikimedia.org/wikipedia/commons/2/26/Precisionrecall.svg)"
      ]
    },
    {
      "cell_type": "code",
      "metadata": {
        "id": "a6Lfa6BsWCr-",
        "colab": {
          "base_uri": "https://localhost:8080/"
        },
        "outputId": "1ed6126d-6ff2-4580-eb70-208ab719de2b"
      },
      "source": [
        "bow_model.eval()\r\n",
        "test_accuracy, n_examples = 0, 0\r\n",
        "y_true, y_pred = [], [] #The two important Measures: What the tweet really is and what it was predicted to be.\r\n",
        "input_type = 'bow'\r\n",
        "\r\n",
        "with torch.no_grad():\r\n",
        "    for seq, bow, target, text in test_loader:\r\n",
        "        inputs = bow\r\n",
        "        probs = bow_model(inputs)\r\n",
        "        \r\n",
        "        probs = probs.detach().cpu().numpy()\r\n",
        "        predictions = np.argmax(probs, axis=1)\r\n",
        "        target = target.cpu().numpy()\r\n",
        "        \r\n",
        "        y_true.extend(target)\r\n",
        "        y_pred.extend(predictions)\r\n",
        "\r\n",
        "tp = 0\r\n",
        "fp = 0\r\n",
        "fn = 0\r\n",
        "\r\n",
        "# get total numbers of true positives, false positives and false negatives\r\n",
        "for (true, pred) in zip(y_true, y_pred):\r\n",
        "  if true == pred and true == 1:\r\n",
        "    tp += 1\r\n",
        "  elif not true == pred:\r\n",
        "    if pred == 0:\r\n",
        "      fn += 1\r\n",
        "    else:\r\n",
        "      fp += 1  \r\n",
        "\r\n",
        "precision = tp / (tp + fp)        \r\n",
        "recall = tp / (tp + fn)\r\n",
        "f1_score = (2 * precision * recall) / (precision + recall)\r\n",
        "\r\n",
        "print(\"Precision: \" + str(precision))\r\n",
        "print(\"Recall: \" + str(recall))\r\n",
        "print(\"F1-Score: \" + str(f1_score))\r\n",
        "print(\"Accuracy: \" + str(np.mean(np.array(y_true) == np.array(y_pred))))"
      ],
      "execution_count": 148,
      "outputs": [
        {
          "output_type": "stream",
          "text": [
            "Precision: 0.5327453677284677\n",
            "Recall: 0.9965081059382727\n",
            "F1-Score: 0.6943061912026444\n",
            "Accuracy: 0.5361599317141156\n"
          ],
          "name": "stdout"
        }
      ]
    },
    {
      "cell_type": "markdown",
      "metadata": {
        "id": "SdUah0AkIOdq"
      },
      "source": [
        "**Let's check a few examples**\r\n",
        "\r\n",
        "Checking them might help us, to understand, what is still going wrong."
      ]
    },
    {
      "cell_type": "code",
      "metadata": {
        "id": "sr0faB2WIe-M"
      },
      "source": [
        "flatten = lambda x: [sublst for lst in x for sublst in lst]\n",
        "seq_lst, bow_lst, target_lst, text_lst = zip(*test_loader)\n",
        "seq_lst, bow_lst, target_lst, text_lst = map(flatten, [seq_lst, bow_lst, target_lst, text_lst])\n",
        "test_examples = list(zip(seq_lst, bow_lst, target_lst, text_lst))\n",
        "\n",
        "def print_random_prediction(model, n=4, input_type='bow'):\n",
        "    # prints prediction made by the model and the true value for n items. \n",
        "    to_emoji = lambda x: '😄' if x else '😡'\n",
        "    model.eval()\n",
        "    rows = []\n",
        "    for i in range(n):\n",
        "        with torch.no_grad():\n",
        "            seq, bow, target, text = random.choice(test_examples)\n",
        "            target = target.item()\n",
        "            \n",
        "            inputs = bow\n",
        "            probs = model([inputs])\n",
        "            probs = probs.detach().cpu().numpy()\n",
        "            prediction = np.argmax(probs, axis=1)[0]\n",
        "\n",
        "            predicted = to_emoji(prediction)\n",
        "            actual = to_emoji(target)\n",
        "            \n",
        "            row = f\"\"\"\n",
        "            <tr>\n",
        "            <td>{i+1}&nbsp;</td>\n",
        "            <td>{text}&nbsp;</td>\n",
        "            <td>{predicted}&nbsp;</td>\n",
        "            <td>{actual}&nbsp;</td>\n",
        "            </tr>\n",
        "            \"\"\"\n",
        "            rows.append(row)\n",
        "            \n",
        "    rows_joined = '\\n'.join(rows)\n",
        "    table = f\"\"\"\n",
        "    <table>\n",
        "    <tbody>\n",
        "    <tr>\n",
        "    <td><b>Number</b>&nbsp;</td>\n",
        "    <td><b>Review</b>&nbsp;</td>\n",
        "    <td><b>Predicted</b>&nbsp;</td>\n",
        "    <td><b>Actual</b>&nbsp;</td>\n",
        "    </tr>{rows_joined}\n",
        "    </tbody>\n",
        "    </table>\n",
        "    \"\"\"\n",
        "    display(HTML(table))"
      ],
      "execution_count": null,
      "outputs": []
    },
    {
      "cell_type": "code",
      "metadata": {
        "colab": {
          "base_uri": "https://localhost:8080/",
          "height": 1000
        },
        "id": "HPZKONRaIu_U",
        "outputId": "fcd0e1bb-bebc-42c9-f796-839a0a475d28"
      },
      "source": [
        "print_random_prediction(bow_model, n=4, input_type='bow')"
      ],
      "execution_count": null,
      "outputs": [
        {
          "output_type": "display_data",
          "data": {
            "text/html": [
              "\n",
              "    <table>\n",
              "    <tbody>\n",
              "    <tr>\n",
              "    <td><b>Number</b>&nbsp;</td>\n",
              "    <td><b>Review</b>&nbsp;</td>\n",
              "    <td><b>Predicted</b>&nbsp;</td>\n",
              "    <td><b>Actual</b>&nbsp;</td>\n",
              "    </tr>\n",
              "            <tr>\n",
              "            <td>1&nbsp;</td>\n",
              "            <td>@alexrpm watch it on ITV player. I don't have a TV so can't watch it live either  BBC iPlayer ftw&nbsp;</td>\n",
              "            <td>😄&nbsp;</td>\n",
              "            <td>😡&nbsp;</td>\n",
              "            </tr>\n",
              "            \n",
              "\n",
              "            <tr>\n",
              "            <td>2&nbsp;</td>\n",
              "            <td>@Anitta_ yes, I have tuenti  searh &quot;ieves Herrero&quot; school, &quot;juana I de Castilla&quot; and this Iï¿½m &nbsp;</td>\n",
              "            <td>😄&nbsp;</td>\n",
              "            <td>😄&nbsp;</td>\n",
              "            </tr>\n",
              "            \n",
              "\n",
              "            <tr>\n",
              "            <td>3&nbsp;</td>\n",
              "            <td>@bluejava Ooh! Those things are a good enough excuse for anything overlooked! &nbsp;</td>\n",
              "            <td>😄&nbsp;</td>\n",
              "            <td>😄&nbsp;</td>\n",
              "            </tr>\n",
              "            \n",
              "\n",
              "            <tr>\n",
              "            <td>4&nbsp;</td>\n",
              "            <td>@MadFreshDaily no ma'am. Got a little tired  Have some tom during the day. WestCoast rappers bbq so you alllllready know. Clown time&nbsp;</td>\n",
              "            <td>😄&nbsp;</td>\n",
              "            <td>😡&nbsp;</td>\n",
              "            </tr>\n",
              "            \n",
              "\n",
              "            <tr>\n",
              "            <td>5&nbsp;</td>\n",
              "            <td>@fallbrooke i need s0me cheering up guys  i l0ve u&nbsp;</td>\n",
              "            <td>😄&nbsp;</td>\n",
              "            <td>😡&nbsp;</td>\n",
              "            </tr>\n",
              "            \n",
              "\n",
              "            <tr>\n",
              "            <td>6&nbsp;</td>\n",
              "            <td>@KaarinE Shortage of DPS or shortage of knowing left from right? Either way, that sucks &nbsp;</td>\n",
              "            <td>😄&nbsp;</td>\n",
              "            <td>😡&nbsp;</td>\n",
              "            </tr>\n",
              "            \n",
              "\n",
              "            <tr>\n",
              "            <td>7&nbsp;</td>\n",
              "            <td>@stonernation thanks guys. I don't know what happened I followed everyone who flwd me yesterday. And no, I didn't clean up did that b4. &nbsp;</td>\n",
              "            <td>😄&nbsp;</td>\n",
              "            <td>😡&nbsp;</td>\n",
              "            </tr>\n",
              "            \n",
              "\n",
              "            <tr>\n",
              "            <td>8&nbsp;</td>\n",
              "            <td>check www.audioinfected.com - es gibt ein neues mp3 &nbsp;</td>\n",
              "            <td>😄&nbsp;</td>\n",
              "            <td>😄&nbsp;</td>\n",
              "            </tr>\n",
              "            \n",
              "\n",
              "            <tr>\n",
              "            <td>9&nbsp;</td>\n",
              "            <td>@wellyjulz haha thats true. It's all about style! Style = brace the cold &nbsp;</td>\n",
              "            <td>😄&nbsp;</td>\n",
              "            <td>😄&nbsp;</td>\n",
              "            </tr>\n",
              "            \n",
              "\n",
              "            <tr>\n",
              "            <td>10&nbsp;</td>\n",
              "            <td>@Teeravioli very true  haha @Wardere wait...it was for Fred? haha wow youtube&nbsp;</td>\n",
              "            <td>😄&nbsp;</td>\n",
              "            <td>😄&nbsp;</td>\n",
              "            </tr>\n",
              "            \n",
              "\n",
              "            <tr>\n",
              "            <td>11&nbsp;</td>\n",
              "            <td>@ddlovato i wish i coould.  hopefully ill get to go to one of your shows though! good luck!&nbsp;</td>\n",
              "            <td>😄&nbsp;</td>\n",
              "            <td>😡&nbsp;</td>\n",
              "            </tr>\n",
              "            \n",
              "\n",
              "            <tr>\n",
              "            <td>12&nbsp;</td>\n",
              "            <td>@anilam18 Yes yes it is better &nbsp;</td>\n",
              "            <td>😄&nbsp;</td>\n",
              "            <td>😄&nbsp;</td>\n",
              "            </tr>\n",
              "            \n",
              "\n",
              "            <tr>\n",
              "            <td>13&nbsp;</td>\n",
              "            <td>I freaking love Shel Silverstein. &nbsp;</td>\n",
              "            <td>😄&nbsp;</td>\n",
              "            <td>😄&nbsp;</td>\n",
              "            </tr>\n",
              "            \n",
              "\n",
              "            <tr>\n",
              "            <td>14&nbsp;</td>\n",
              "            <td>@keytonnn i dont think so &nbsp;</td>\n",
              "            <td>😄&nbsp;</td>\n",
              "            <td>😡&nbsp;</td>\n",
              "            </tr>\n",
              "            \n",
              "\n",
              "            <tr>\n",
              "            <td>15&nbsp;</td>\n",
              "            <td>@jamieallover I know! I'm sad because I can't find it anywhere. &nbsp;</td>\n",
              "            <td>😡&nbsp;</td>\n",
              "            <td>😡&nbsp;</td>\n",
              "            </tr>\n",
              "            \n",
              "\n",
              "            <tr>\n",
              "            <td>16&nbsp;</td>\n",
              "            <td>@SalioElSol08 i knoww. forever k.  . im always heree fo you marcoo.. that will never changee. talk to u later on today &nbsp;</td>\n",
              "            <td>😄&nbsp;</td>\n",
              "            <td>😄&nbsp;</td>\n",
              "            </tr>\n",
              "            \n",
              "\n",
              "            <tr>\n",
              "            <td>17&nbsp;</td>\n",
              "            <td>damn twitter.. ok.. for realsies... going to bed now.. nighters &nbsp;</td>\n",
              "            <td>😄&nbsp;</td>\n",
              "            <td>😄&nbsp;</td>\n",
              "            </tr>\n",
              "            \n",
              "\n",
              "            <tr>\n",
              "            <td>18&nbsp;</td>\n",
              "            <td>#myweakness - okay so i like to cuddle !!! &nbsp;</td>\n",
              "            <td>😄&nbsp;</td>\n",
              "            <td>😡&nbsp;</td>\n",
              "            </tr>\n",
              "            \n",
              "\n",
              "            <tr>\n",
              "            <td>19&nbsp;</td>\n",
              "            <td>@kaindagod RIght ppl have a HARD time with the @ icon lol  wel thanxx twitter I learned to appreciate shift 2 lol&nbsp;</td>\n",
              "            <td>😄&nbsp;</td>\n",
              "            <td>😡&nbsp;</td>\n",
              "            </tr>\n",
              "            \n",
              "\n",
              "            <tr>\n",
              "            <td>20&nbsp;</td>\n",
              "            <td>@MellisaJay dont be boredddd mel. go out in the sun  well, its not thattt sunny anymore :')&nbsp;</td>\n",
              "            <td>😄&nbsp;</td>\n",
              "            <td>😄&nbsp;</td>\n",
              "            </tr>\n",
              "            \n",
              "\n",
              "            <tr>\n",
              "            <td>21&nbsp;</td>\n",
              "            <td>@nine22 people always bitch at me for drinking out of cans but see no glass in my can &nbsp;</td>\n",
              "            <td>😄&nbsp;</td>\n",
              "            <td>😄&nbsp;</td>\n",
              "            </tr>\n",
              "            \n",
              "\n",
              "            <tr>\n",
              "            <td>22&nbsp;</td>\n",
              "            <td>@partywithneha http://twitpic.com/7gbja - Cool, so you have press coverage as well  - what is your book called?&nbsp;</td>\n",
              "            <td>😄&nbsp;</td>\n",
              "            <td>😄&nbsp;</td>\n",
              "            </tr>\n",
              "            \n",
              "\n",
              "            <tr>\n",
              "            <td>23&nbsp;</td>\n",
              "            <td>@ToxicMelvin Don't like Jï¿½germeister  Will stick to coffee instead!&nbsp;</td>\n",
              "            <td>😄&nbsp;</td>\n",
              "            <td>😡&nbsp;</td>\n",
              "            </tr>\n",
              "            \n",
              "\n",
              "            <tr>\n",
              "            <td>24&nbsp;</td>\n",
              "            <td>@MaraBG alright! new one! H2H, got it! &nbsp;</td>\n",
              "            <td>😄&nbsp;</td>\n",
              "            <td>😄&nbsp;</td>\n",
              "            </tr>\n",
              "            \n",
              "\n",
              "            <tr>\n",
              "            <td>25&nbsp;</td>\n",
              "            <td>@withinwithout I will call the venue to follow up on my email to Port Merch yesterday.  &nbsp;</td>\n",
              "            <td>😄&nbsp;</td>\n",
              "            <td>😡&nbsp;</td>\n",
              "            </tr>\n",
              "            \n",
              "\n",
              "            <tr>\n",
              "            <td>26&nbsp;</td>\n",
              "            <td>Is packing up to leave the beach &nbsp;</td>\n",
              "            <td>😄&nbsp;</td>\n",
              "            <td>😡&nbsp;</td>\n",
              "            </tr>\n",
              "            \n",
              "\n",
              "            <tr>\n",
              "            <td>27&nbsp;</td>\n",
              "            <td>Come on developers...I would help promote it... I aint lying-I aint lying... lol! FollowFriday Systems Management App  #ffsma &nbsp;</td>\n",
              "            <td>😄&nbsp;</td>\n",
              "            <td>😄&nbsp;</td>\n",
              "            </tr>\n",
              "            \n",
              "\n",
              "            <tr>\n",
              "            <td>28&nbsp;</td>\n",
              "            <td>Just had a drunken talk with my cousin about my dad and the family business. I miss my dad. So drunk my head hurts &amp; I have tan lines &nbsp;</td>\n",
              "            <td>😄&nbsp;</td>\n",
              "            <td>😡&nbsp;</td>\n",
              "            </tr>\n",
              "            \n",
              "\n",
              "            <tr>\n",
              "            <td>29&nbsp;</td>\n",
              "            <td>going to graduation ceremonies are kind but they suck &nbsp;</td>\n",
              "            <td>😄&nbsp;</td>\n",
              "            <td>😡&nbsp;</td>\n",
              "            </tr>\n",
              "            \n",
              "\n",
              "            <tr>\n",
              "            <td>30&nbsp;</td>\n",
              "            <td>@StephanieEllen Ohhh he was pointed out to me in Bromley once, apparently he caused quite a stir &nbsp;</td>\n",
              "            <td>😄&nbsp;</td>\n",
              "            <td>😄&nbsp;</td>\n",
              "            </tr>\n",
              "            \n",
              "\n",
              "            <tr>\n",
              "            <td>31&nbsp;</td>\n",
              "            <td>embarassing confession- i still don't understand twitter  i want to read the interesting stuff, will it ever happen?&nbsp;</td>\n",
              "            <td>😄&nbsp;</td>\n",
              "            <td>😡&nbsp;</td>\n",
              "            </tr>\n",
              "            \n",
              "\n",
              "            <tr>\n",
              "            <td>32&nbsp;</td>\n",
              "            <td>Good morning @TheLuxPod! Glad you liked the photos. Looking forward to yours of London, bringing me some city sparkle and pizzazz &nbsp;</td>\n",
              "            <td>😄&nbsp;</td>\n",
              "            <td>😄&nbsp;</td>\n",
              "            </tr>\n",
              "            \n",
              "\n",
              "            <tr>\n",
              "            <td>33&nbsp;</td>\n",
              "            <td>@fbertilsson OH maybe mine will too then  i say...watch it haha!&nbsp;</td>\n",
              "            <td>😄&nbsp;</td>\n",
              "            <td>😄&nbsp;</td>\n",
              "            </tr>\n",
              "            \n",
              "\n",
              "            <tr>\n",
              "            <td>34&nbsp;</td>\n",
              "            <td>@brebs No trouble, sweetie!  Take your time.  &nbsp;</td>\n",
              "            <td>😄&nbsp;</td>\n",
              "            <td>😄&nbsp;</td>\n",
              "            </tr>\n",
              "            \n",
              "\n",
              "            <tr>\n",
              "            <td>35&nbsp;</td>\n",
              "            <td>@easyhealthuk At least she agreed to go, Holly cried when I asked her &nbsp;</td>\n",
              "            <td>😄&nbsp;</td>\n",
              "            <td>😄&nbsp;</td>\n",
              "            </tr>\n",
              "            \n",
              "\n",
              "            <tr>\n",
              "            <td>36&nbsp;</td>\n",
              "            <td>@R0bbit So I think you are so right! haha! ??????!! &nbsp;</td>\n",
              "            <td>😄&nbsp;</td>\n",
              "            <td>😄&nbsp;</td>\n",
              "            </tr>\n",
              "            \n",
              "\n",
              "            <tr>\n",
              "            <td>37&nbsp;</td>\n",
              "            <td>@tapps Tracy, you could have had me, and we would have been great together &nbsp;</td>\n",
              "            <td>😄&nbsp;</td>\n",
              "            <td>😡&nbsp;</td>\n",
              "            </tr>\n",
              "            \n",
              "\n",
              "            <tr>\n",
              "            <td>38&nbsp;</td>\n",
              "            <td>@crankthatheart I am so sorry! &nbsp;</td>\n",
              "            <td>😄&nbsp;</td>\n",
              "            <td>😡&nbsp;</td>\n",
              "            </tr>\n",
              "            \n",
              "\n",
              "            <tr>\n",
              "            <td>39&nbsp;</td>\n",
              "            <td>@flightcontrol great great update!love it! for the next one...whats about local rain or snow or emerc flights which needs priority &nbsp;</td>\n",
              "            <td>😄&nbsp;</td>\n",
              "            <td>😄&nbsp;</td>\n",
              "            </tr>\n",
              "            \n",
              "\n",
              "            <tr>\n",
              "            <td>40&nbsp;</td>\n",
              "            <td>@blickbuster Soss but you should get the drift!!! &nbsp;</td>\n",
              "            <td>😄&nbsp;</td>\n",
              "            <td>😄&nbsp;</td>\n",
              "            </tr>\n",
              "            \n",
              "\n",
              "            <tr>\n",
              "            <td>41&nbsp;</td>\n",
              "            <td>@chrisdaddow yeh man, takin test n goin to rego straight afta to get my P's &nbsp;</td>\n",
              "            <td>😄&nbsp;</td>\n",
              "            <td>😄&nbsp;</td>\n",
              "            </tr>\n",
              "            \n",
              "\n",
              "            <tr>\n",
              "            <td>42&nbsp;</td>\n",
              "            <td>@LAURASTYLEZ Did you just throw an egg at me? &nbsp;</td>\n",
              "            <td>😄&nbsp;</td>\n",
              "            <td>😄&nbsp;</td>\n",
              "            </tr>\n",
              "            \n",
              "\n",
              "            <tr>\n",
              "            <td>43&nbsp;</td>\n",
              "            <td>ikea was fun, just ate at kfc im feeling abit sick now &nbsp;</td>\n",
              "            <td>😄&nbsp;</td>\n",
              "            <td>😡&nbsp;</td>\n",
              "            </tr>\n",
              "            \n",
              "\n",
              "            <tr>\n",
              "            <td>44&nbsp;</td>\n",
              "            <td>@jhempen  Hi  Hv you tried BookBuzzr at www.freado.com to market ur book at social sites using an excerpt in Book form&nbsp;</td>\n",
              "            <td>😄&nbsp;</td>\n",
              "            <td>😄&nbsp;</td>\n",
              "            </tr>\n",
              "            \n",
              "\n",
              "            <tr>\n",
              "            <td>45&nbsp;</td>\n",
              "            <td>@JennysMyName haha alright  are you going to go to the teen choice awards?&nbsp;</td>\n",
              "            <td>😄&nbsp;</td>\n",
              "            <td>😄&nbsp;</td>\n",
              "            </tr>\n",
              "            \n",
              "\n",
              "            <tr>\n",
              "            <td>46&nbsp;</td>\n",
              "            <td>@arleigh This one is going to be FAVORITED...    GOLD!&nbsp;</td>\n",
              "            <td>😄&nbsp;</td>\n",
              "            <td>😄&nbsp;</td>\n",
              "            </tr>\n",
              "            \n",
              "\n",
              "            <tr>\n",
              "            <td>47&nbsp;</td>\n",
              "            <td>I can't believe I lost my belt. My pants are saggin &nbsp;</td>\n",
              "            <td>😄&nbsp;</td>\n",
              "            <td>😡&nbsp;</td>\n",
              "            </tr>\n",
              "            \n",
              "\n",
              "            <tr>\n",
              "            <td>48&nbsp;</td>\n",
              "            <td>@design_group thanks for the follow! much love &nbsp;</td>\n",
              "            <td>😄&nbsp;</td>\n",
              "            <td>😄&nbsp;</td>\n",
              "            </tr>\n",
              "            \n",
              "\n",
              "            <tr>\n",
              "            <td>49&nbsp;</td>\n",
              "            <td>http://bit.ly/Kd1HD  check it out  leave me feedback time for bed !!!!!!!!!&nbsp;</td>\n",
              "            <td>😄&nbsp;</td>\n",
              "            <td>😄&nbsp;</td>\n",
              "            </tr>\n",
              "            \n",
              "\n",
              "            <tr>\n",
              "            <td>50&nbsp;</td>\n",
              "            <td>@jennypoynter hey Jenny i noticed you &amp; amandas twitts  is it a mcfly gig yous are talking about ? xxxxx&nbsp;</td>\n",
              "            <td>😄&nbsp;</td>\n",
              "            <td>😄&nbsp;</td>\n",
              "            </tr>\n",
              "            \n",
              "\n",
              "            <tr>\n",
              "            <td>51&nbsp;</td>\n",
              "            <td>@morageyrie I used to do exactly that a couple of times a month. Till I got a fork. Then the fork got confiscated at the airport &nbsp;</td>\n",
              "            <td>😄&nbsp;</td>\n",
              "            <td>😡&nbsp;</td>\n",
              "            </tr>\n",
              "            \n",
              "\n",
              "            <tr>\n",
              "            <td>52&nbsp;</td>\n",
              "            <td>Drunkduck misspelled &quot;Buinne&quot; for the announcement of the twenty-fifth page. I'm very sad. &nbsp;</td>\n",
              "            <td>😄&nbsp;</td>\n",
              "            <td>😡&nbsp;</td>\n",
              "            </tr>\n",
              "            \n",
              "\n",
              "            <tr>\n",
              "            <td>53&nbsp;</td>\n",
              "            <td>eatin some good fish cake.. i really miss being back home &nbsp;</td>\n",
              "            <td>😄&nbsp;</td>\n",
              "            <td>😡&nbsp;</td>\n",
              "            </tr>\n",
              "            \n",
              "\n",
              "            <tr>\n",
              "            <td>54&nbsp;</td>\n",
              "            <td>@chrisphin Yes, and shouting BING! every time a results page comes up, cos Bing doesn't do that automatically &nbsp;</td>\n",
              "            <td>😄&nbsp;</td>\n",
              "            <td>😡&nbsp;</td>\n",
              "            </tr>\n",
              "            \n",
              "\n",
              "            <tr>\n",
              "            <td>55&nbsp;</td>\n",
              "            <td>@CheekyKerri Defo can't wait we will have a nice afternoon and some music &nbsp;</td>\n",
              "            <td>😄&nbsp;</td>\n",
              "            <td>😄&nbsp;</td>\n",
              "            </tr>\n",
              "            \n",
              "\n",
              "            <tr>\n",
              "            <td>56&nbsp;</td>\n",
              "            <td>@respres we tweeted to @hilarymarsh and @bradcoy at the same time - are you copying me or something? &nbsp;</td>\n",
              "            <td>😄&nbsp;</td>\n",
              "            <td>😄&nbsp;</td>\n",
              "            </tr>\n",
              "            \n",
              "\n",
              "            <tr>\n",
              "            <td>57&nbsp;</td>\n",
              "            <td>@ScottFairfield wow, i have to open the whole thing up to change the HDD? &nbsp;</td>\n",
              "            <td>😄&nbsp;</td>\n",
              "            <td>😡&nbsp;</td>\n",
              "            </tr>\n",
              "            \n",
              "\n",
              "            <tr>\n",
              "            <td>58&nbsp;</td>\n",
              "            <td>@justinjwilliams haha i was just workin' on that! I cant find my psd file &nbsp;</td>\n",
              "            <td>😄&nbsp;</td>\n",
              "            <td>😡&nbsp;</td>\n",
              "            </tr>\n",
              "            \n",
              "\n",
              "            <tr>\n",
              "            <td>59&nbsp;</td>\n",
              "            <td>Got a few friends requests on TheSims3.com, i hate those emails really annoying &nbsp;</td>\n",
              "            <td>😄&nbsp;</td>\n",
              "            <td>😡&nbsp;</td>\n",
              "            </tr>\n",
              "            \n",
              "\n",
              "            <tr>\n",
              "            <td>60&nbsp;</td>\n",
              "            <td>@JeremyMeyers Well the bald part is there... &nbsp;</td>\n",
              "            <td>😄&nbsp;</td>\n",
              "            <td>😄&nbsp;</td>\n",
              "            </tr>\n",
              "            \n",
              "\n",
              "            <tr>\n",
              "            <td>61&nbsp;</td>\n",
              "            <td>@DevinFCO Then I guess I'll be seeing you at 6am shift change on my way out. We can hi five. FYI - P's Dad passed away a couple hours ago &nbsp;</td>\n",
              "            <td>😄&nbsp;</td>\n",
              "            <td>😡&nbsp;</td>\n",
              "            </tr>\n",
              "            \n",
              "\n",
              "            <tr>\n",
              "            <td>62&nbsp;</td>\n",
              "            <td>@DaddyD would love to. But I don't have any time &nbsp;</td>\n",
              "            <td>😄&nbsp;</td>\n",
              "            <td>😡&nbsp;</td>\n",
              "            </tr>\n",
              "            \n",
              "\n",
              "            <tr>\n",
              "            <td>63&nbsp;</td>\n",
              "            <td>Back from running in the Forrest  lovely weather! Starting a BBQ with friends! &nbsp;</td>\n",
              "            <td>😄&nbsp;</td>\n",
              "            <td>😄&nbsp;</td>\n",
              "            </tr>\n",
              "            \n",
              "\n",
              "            <tr>\n",
              "            <td>64&nbsp;</td>\n",
              "            <td>@beenut85 The feeling is mutual! And I don't think that text is coming. &nbsp;</td>\n",
              "            <td>😡&nbsp;</td>\n",
              "            <td>😡&nbsp;</td>\n",
              "            </tr>\n",
              "            \n",
              "\n",
              "            <tr>\n",
              "            <td>65&nbsp;</td>\n",
              "            <td>@dirrtyxx lol thats a pretty good idea  i reckon i mite do that sumtime &nbsp;</td>\n",
              "            <td>😄&nbsp;</td>\n",
              "            <td>😄&nbsp;</td>\n",
              "            </tr>\n",
              "            \n",
              "\n",
              "            <tr>\n",
              "            <td>66&nbsp;</td>\n",
              "            <td>@scttrhrt Thanks for replying! Just want to make sure you're aware of the queer implications that come with being played on gaywire. &nbsp;</td>\n",
              "            <td>😄&nbsp;</td>\n",
              "            <td>😄&nbsp;</td>\n",
              "            </tr>\n",
              "            \n",
              "\n",
              "            <tr>\n",
              "            <td>67&nbsp;</td>\n",
              "            <td>Didn't get my nap before, thinking I really need one now. Be back later, twitterpeeps. &nbsp;</td>\n",
              "            <td>😄&nbsp;</td>\n",
              "            <td>😄&nbsp;</td>\n",
              "            </tr>\n",
              "            \n",
              "\n",
              "            <tr>\n",
              "            <td>68&nbsp;</td>\n",
              "            <td>@RetroRewind look back at ALL my tweets to you Dave...I sent ya a bunch!!  &nbsp;</td>\n",
              "            <td>😄&nbsp;</td>\n",
              "            <td>😄&nbsp;</td>\n",
              "            </tr>\n",
              "            \n",
              "\n",
              "            <tr>\n",
              "            <td>69&nbsp;</td>\n",
              "            <td>@nick_carter nickkkk!!! listen to me!! hehe ... i`m the muffin Peruvian girl!!!!!!!!   or muffin latin girl!! ... Que te parece mejor?&nbsp;</td>\n",
              "            <td>😄&nbsp;</td>\n",
              "            <td>😄&nbsp;</td>\n",
              "            </tr>\n",
              "            \n",
              "\n",
              "            <tr>\n",
              "            <td>70&nbsp;</td>\n",
              "            <td>@orangy68 wish it wld just cool down in the evenings though.....at least we'd be able to sleep &nbsp;</td>\n",
              "            <td>😄&nbsp;</td>\n",
              "            <td>😡&nbsp;</td>\n",
              "            </tr>\n",
              "            \n",
              "\n",
              "            <tr>\n",
              "            <td>71&nbsp;</td>\n",
              "            <td>Home swweeeeeet homee  im amazed i kinda missd it. Nd iim only sayin tha cuz i haven't seen ne of my family yet lol...but yayy neway&nbsp;</td>\n",
              "            <td>😄&nbsp;</td>\n",
              "            <td>😄&nbsp;</td>\n",
              "            </tr>\n",
              "            \n",
              "\n",
              "            <tr>\n",
              "            <td>72&nbsp;</td>\n",
              "            <td>@Piuze and doing it with a beautiful smile on your face *big thumbs up* LOL love your attitude &nbsp;</td>\n",
              "            <td>😄&nbsp;</td>\n",
              "            <td>😄&nbsp;</td>\n",
              "            </tr>\n",
              "            \n",
              "\n",
              "            <tr>\n",
              "            <td>73&nbsp;</td>\n",
              "            <td>@FiniNevermore What happened 2 your comp?   When u say borked the only thing that registers is Swedish Chef hitting sometihg w/his spatula&nbsp;</td>\n",
              "            <td>😄&nbsp;</td>\n",
              "            <td>😡&nbsp;</td>\n",
              "            </tr>\n",
              "            \n",
              "\n",
              "            <tr>\n",
              "            <td>74&nbsp;</td>\n",
              "            <td>..and of course... I have access to my Halo 3 Mythic Map Pack re-download.. but bad news.. not the Legendary Map Pack... ugh.. 600MS... &nbsp;</td>\n",
              "            <td>😄&nbsp;</td>\n",
              "            <td>😡&nbsp;</td>\n",
              "            </tr>\n",
              "            \n",
              "\n",
              "            <tr>\n",
              "            <td>75&nbsp;</td>\n",
              "            <td>@msproductions if you mean my ZippyTweet, nope; no shenanigans.  you're not followed automatically.  &nbsp;</td>\n",
              "            <td>😄&nbsp;</td>\n",
              "            <td>😄&nbsp;</td>\n",
              "            </tr>\n",
              "            \n",
              "\n",
              "            <tr>\n",
              "            <td>76&nbsp;</td>\n",
              "            <td>i think the guitar hero guitar spoil &nbsp;</td>\n",
              "            <td>😄&nbsp;</td>\n",
              "            <td>😡&nbsp;</td>\n",
              "            </tr>\n",
              "            \n",
              "\n",
              "            <tr>\n",
              "            <td>77&nbsp;</td>\n",
              "            <td>@RealHughJackman Bali's a nice summer getaway &nbsp;</td>\n",
              "            <td>😄&nbsp;</td>\n",
              "            <td>😄&nbsp;</td>\n",
              "            </tr>\n",
              "            \n",
              "\n",
              "            <tr>\n",
              "            <td>78&nbsp;</td>\n",
              "            <td>@chipper_ monkey I thought you were busy today  besides, I didn't know I was going till about half an hour ago.&nbsp;</td>\n",
              "            <td>😄&nbsp;</td>\n",
              "            <td>😡&nbsp;</td>\n",
              "            </tr>\n",
              "            \n",
              "\n",
              "            <tr>\n",
              "            <td>79&nbsp;</td>\n",
              "            <td>going 2 bed, hubbys having guys night, sucky &nbsp;</td>\n",
              "            <td>😄&nbsp;</td>\n",
              "            <td>😡&nbsp;</td>\n",
              "            </tr>\n",
              "            \n",
              "\n",
              "            <tr>\n",
              "            <td>80&nbsp;</td>\n",
              "            <td>has finished the last page of the textbook. am i ready? not really because when ab tried on me and asked 1 question i answered it wrongly &nbsp;</td>\n",
              "            <td>😄&nbsp;</td>\n",
              "            <td>😡&nbsp;</td>\n",
              "            </tr>\n",
              "            \n",
              "\n",
              "            <tr>\n",
              "            <td>81&nbsp;</td>\n",
              "            <td>@tegaaan just work stuff! running the apple tech support, got crazy busy around 3-4ish! sooo tired &nbsp;</td>\n",
              "            <td>😄&nbsp;</td>\n",
              "            <td>😡&nbsp;</td>\n",
              "            </tr>\n",
              "            \n",
              "\n",
              "            <tr>\n",
              "            <td>82&nbsp;</td>\n",
              "            <td>@Blair_Meester @Blair_Meester lmfao, lmfao. It seems pretty cool to me  .&nbsp;</td>\n",
              "            <td>😄&nbsp;</td>\n",
              "            <td>😄&nbsp;</td>\n",
              "            </tr>\n",
              "            \n",
              "\n",
              "            <tr>\n",
              "            <td>83&nbsp;</td>\n",
              "            <td>@ourracingdream http://twitpic.com/6ped5 - I love it Sammy! &nbsp;</td>\n",
              "            <td>😄&nbsp;</td>\n",
              "            <td>😄&nbsp;</td>\n",
              "            </tr>\n",
              "            \n",
              "\n",
              "            <tr>\n",
              "            <td>84&nbsp;</td>\n",
              "            <td>@kissability unfortunately no matter what you do - stats nearly always come into it &nbsp;</td>\n",
              "            <td>😄&nbsp;</td>\n",
              "            <td>😡&nbsp;</td>\n",
              "            </tr>\n",
              "            \n",
              "\n",
              "            <tr>\n",
              "            <td>85&nbsp;</td>\n",
              "            <td>It's sunny!  But I'm still on the Dole &nbsp;</td>\n",
              "            <td>😡&nbsp;</td>\n",
              "            <td>😡&nbsp;</td>\n",
              "            </tr>\n",
              "            \n",
              "\n",
              "            <tr>\n",
              "            <td>86&nbsp;</td>\n",
              "            <td>black flag's rendition of louie louie is one of the best redone songs ever &nbsp;</td>\n",
              "            <td>😄&nbsp;</td>\n",
              "            <td>😄&nbsp;</td>\n",
              "            </tr>\n",
              "            \n",
              "\n",
              "            <tr>\n",
              "            <td>87&nbsp;</td>\n",
              "            <td>Got home, rehearsed a lot today, celebrated Carlos' B-day. Nice day, had lots of fun. Work tomorrow. T_T Wish me luck. Oyassumi Nassai. &nbsp;</td>\n",
              "            <td>😄&nbsp;</td>\n",
              "            <td>😄&nbsp;</td>\n",
              "            </tr>\n",
              "            \n",
              "\n",
              "            <tr>\n",
              "            <td>88&nbsp;</td>\n",
              "            <td>@HelloLizzi awwwwwhhhhh okay i know right?!?!? theres not enough hours to sleep in the day   im going to shoot my internet D:&lt;&nbsp;</td>\n",
              "            <td>😄&nbsp;</td>\n",
              "            <td>😡&nbsp;</td>\n",
              "            </tr>\n",
              "            \n",
              "\n",
              "            <tr>\n",
              "            <td>89&nbsp;</td>\n",
              "            <td>im lost without the everyone link  how do i know random things twitter u need to fix that&nbsp;</td>\n",
              "            <td>😄&nbsp;</td>\n",
              "            <td>😡&nbsp;</td>\n",
              "            </tr>\n",
              "            \n",
              "\n",
              "            <tr>\n",
              "            <td>90&nbsp;</td>\n",
              "            <td>has her student loan through, not that it makes any difference, im still fecking broke &nbsp;</td>\n",
              "            <td>😄&nbsp;</td>\n",
              "            <td>😡&nbsp;</td>\n",
              "            </tr>\n",
              "            \n",
              "\n",
              "            <tr>\n",
              "            <td>91&nbsp;</td>\n",
              "            <td>having dnd nite here. not interested 2nite frankly. peeved that i was told they weren't comin' then told just 2nite they were comin'!! &nbsp;</td>\n",
              "            <td>😄&nbsp;</td>\n",
              "            <td>😡&nbsp;</td>\n",
              "            </tr>\n",
              "            \n",
              "\n",
              "            <tr>\n",
              "            <td>92&nbsp;</td>\n",
              "            <td>hasn't prepared for her TPOL at all this weekend.....at least i cleaned my room &nbsp;</td>\n",
              "            <td>😄&nbsp;</td>\n",
              "            <td>😄&nbsp;</td>\n",
              "            </tr>\n",
              "            \n",
              "\n",
              "            <tr>\n",
              "            <td>93&nbsp;</td>\n",
              "            <td>@isywishy damn, i miss kopitiam kaya toast! &nbsp;</td>\n",
              "            <td>😄&nbsp;</td>\n",
              "            <td>😡&nbsp;</td>\n",
              "            </tr>\n",
              "            \n",
              "\n",
              "            <tr>\n",
              "            <td>94&nbsp;</td>\n",
              "            <td>@zyber17 Well I hope you feel much better soon  Try and rest!&nbsp;</td>\n",
              "            <td>😄&nbsp;</td>\n",
              "            <td>😄&nbsp;</td>\n",
              "            </tr>\n",
              "            \n",
              "\n",
              "            <tr>\n",
              "            <td>95&nbsp;</td>\n",
              "            <td>Feeling bad for Karlee   I love you !&nbsp;</td>\n",
              "            <td>😄&nbsp;</td>\n",
              "            <td>😡&nbsp;</td>\n",
              "            </tr>\n",
              "            \n",
              "\n",
              "            <tr>\n",
              "            <td>96&nbsp;</td>\n",
              "            <td>@solobasssteve shot some of @darylshawn's set a few nights ago http://bit.ly/sLYV http://bit.ly/ycMVk and http://bit.ly/Pg3pD enjoy &nbsp;</td>\n",
              "            <td>😄&nbsp;</td>\n",
              "            <td>😄&nbsp;</td>\n",
              "            </tr>\n",
              "            \n",
              "\n",
              "            <tr>\n",
              "            <td>97&nbsp;</td>\n",
              "            <td>@sudosushi Nice to meet you finally, enjoy the Pizza's too. That take away I voided off the system while you were there turned up though! &nbsp;</td>\n",
              "            <td>😄&nbsp;</td>\n",
              "            <td>😄&nbsp;</td>\n",
              "            </tr>\n",
              "            \n",
              "\n",
              "            <tr>\n",
              "            <td>98&nbsp;</td>\n",
              "            <td>Going to bed now. I have to get up very early tomorrow morning.  The holidays are over &nbsp;</td>\n",
              "            <td>😄&nbsp;</td>\n",
              "            <td>😡&nbsp;</td>\n",
              "            </tr>\n",
              "            \n",
              "\n",
              "            <tr>\n",
              "            <td>99&nbsp;</td>\n",
              "            <td>@prenvo probably. Tweetie was updated a week ago now for twitopocalypse and still apple haven't approved it &nbsp;</td>\n",
              "            <td>😄&nbsp;</td>\n",
              "            <td>😡&nbsp;</td>\n",
              "            </tr>\n",
              "            \n",
              "\n",
              "            <tr>\n",
              "            <td>100&nbsp;</td>\n",
              "            <td>@lilmo4ever awww no fair. I wanna hear it &nbsp;</td>\n",
              "            <td>😄&nbsp;</td>\n",
              "            <td>😡&nbsp;</td>\n",
              "            </tr>\n",
              "            \n",
              "    </tbody>\n",
              "    </table>\n",
              "    "
            ],
            "text/plain": [
              "<IPython.core.display.HTML object>"
            ]
          },
          "metadata": {
            "tags": []
          }
        }
      ]
    },
    {
      "cell_type": "markdown",
      "metadata": {
        "id": "jnuPGzZWAXHY"
      },
      "source": [
        "You are done, CONGRATS!!!\n"
      ]
    }
  ]
}